{
  "cells": [
    {
      "cell_type": "markdown",
      "metadata": {
        "id": "view-in-github",
        "colab_type": "text"
      },
      "source": [
        "<a href=\"https://colab.research.google.com/github/asgardian1196/asg-ml/blob/main/SimGAN_for_Captcha.ipynb\" target=\"_parent\"><img src=\"https://colab.research.google.com/assets/colab-badge.svg\" alt=\"Open In Colab\"/></a>"
      ]
    },
    {
      "cell_type": "markdown",
      "metadata": {
        "id": "6UngTnt8PDyd"
      },
      "source": [
        "# SimGAN-Captcha\n",
        "\n",
        "The aim of my project is to develop a system that will use SimGAN (A method developed by researchers at Apple, for refining synthetic images to make them look more realistic)  on a captcha image dataset and correctly predict captchas, without having to label them manually during the model training phase.\n",
        "\n",
        "It involves using a simulated unsupervised learning approach, that contains a captcha synthesizer and a refiner trained with GAN. This will generate synthesized training pairs for classifying captchas. \n",
        "\n",
        "Its underlying model is SimGAN developed by Apple ([pdf](https://arxiv.org/pdf/1612.07828v1.pdf)\n"
      ]
    },
    {
      "cell_type": "markdown",
      "metadata": {
        "id": "mlJrlsV4PDyh"
      },
      "source": [
        "## Preprocessing"
      ]
    },
    {
      "cell_type": "markdown",
      "metadata": {
        "id": "UgclUd2pPDyh"
      },
      "source": [
        "### Download target captcha files\n",
        "\n",
        "Here we download some captchas from the contest website. Each batch has 1000 captchas. We'll use 20000 so 20 batches."
      ]
    },
    {
      "cell_type": "code",
      "execution_count": null,
      "metadata": {
        "id": "1eRKJfaDPDyi"
      },
      "outputs": [],
      "source": [
        "\"\"\"\n",
        "python                    3.7\n",
        "tensorflow                1.14.0\n",
        "keras                     2.1.5\n",
        "\n",
        "NOTE:\n",
        "Code is run locally, to address version conflicts between python and tensorflow/keras\n",
        "\"\"\""
      ]
    },
    {
      "cell_type": "code",
      "execution_count": null,
      "metadata": {
        "id": "rIzB8iK-PDyj"
      },
      "outputs": [],
      "source": [
        "import requests\n",
        "import threading\n",
        "URL = \"https://captcha.delorean.codes/u/rickyhan/challenge\"\n",
        "DIR = \"challenges/\"\n",
        "NUM_CHALLENGES = 20\n",
        "lock = threading.Lock()"
      ]
    },
    {
      "cell_type": "markdown",
      "metadata": {
        "id": "K7KRcY5ePDyk"
      },
      "source": [
        "The data was in the form of compressed base64 encoded files. Here we will decode and decompress the captcha data.\n",
        "\n",
        "We have around 20,000 captcha images to train our model"
      ]
    },
    {
      "cell_type": "code",
      "execution_count": null,
      "metadata": {
        "id": "eGrzBOcaPDyk",
        "outputId": "9bb10bc3-9bf5-4987-afa2-6ff180b6ce12"
      },
      "outputs": [
        {
          "data": {
            "text/plain": [
              "'\\ndef save_imgs(fname):\\n    with open(fname) as f:\\n        l = json.loads(f.read())\\n\\n    for image in l[\\'images\\']:\\n        b = base64.b64decode(image[\\'jpg_base64\\'])\\n        name = image[\\'name\\']\\n        with open(IMG_DIR+\"/{}.jpg\".format(name), \\'wb\\') as f:\\n            f.write(b)\\n\\nfor fname in fnames:\\n    save_imgs(fname)\\nassert len(os.listdir(IMG_DIR)) == 1000 * NUM_CHALLENGES\\n'"
            ]
          },
          "execution_count": 2,
          "metadata": {},
          "output_type": "execute_result"
        }
      ],
      "source": [
        "import json, base64, os\n",
        "\n",
        "IMG_DIR = \"/PycharmProjects/SimGAN_exps/SimGAN-Captcha/captchas\"\n",
        "CHALLENGE_DIR = '/PycharmProjects/SimGAN_exps/SimGAN-Captcha/challenges'\n",
        "fnames = [\"{}/challenge-{}\".format(CHALLENGE_DIR, i) for i in range(NUM_CHALLENGES)]\n",
        "if not os.path.exists(IMG_DIR):\n",
        "    os.mkdir(IMG_DIR)\n",
        "\n",
        "\"\"\"\n",
        "def save_imgs(fname):\n",
        "    with open(fname) as f:\n",
        "        l = json.loads(f.read())\n",
        "\n",
        "    for image in l['images']:\n",
        "        b = base64.b64decode(image['jpg_base64'])\n",
        "        name = image['name']\n",
        "        with open(IMG_DIR+\"/{}.jpg\".format(name), 'wb') as f:\n",
        "            f.write(b)\n",
        "\n",
        "for fname in fnames:\n",
        "    save_imgs(fname)\n",
        "assert len(os.listdir(IMG_DIR)) == 1000 * NUM_CHALLENGES\n",
        "\"\"\""
      ]
    },
    {
      "cell_type": "markdown",
      "metadata": {
        "id": "uIT4U2ciPDyl"
      },
      "source": [
        "### Decompression\n",
        "\n",
        "Each challenge file is actually a json object containing 1000 base64 encoded jpg image file. So for each of these challenge files, we decompress each base64 strs into a jpeg and put that under a separate folder."
      ]
    },
    {
      "cell_type": "code",
      "execution_count": null,
      "metadata": {
        "id": "3_ebLz1dPDym"
      },
      "outputs": [],
      "source": [
        "from PIL import Image\n",
        "IMG_DIR = \"/PycharmProjects/SimGAN_exps/SimGAN-Captcha/captchas\"\n",
        "imgpath = IMG_DIR + \"/\"+ os.listdir(IMG_DIR)[0]\n",
        "imgpath2 = IMG_DIR + \"/\"+ os.listdir(IMG_DIR)[3]\n",
        "im = Image.open(IMG_DIR + \"/000425062e2850b10efe900466f85cc8.jpg\")\n",
        "im2 = Image.open(IMG_DIR + \"/00096056feba457e424771981e390d9b.jpg\")\n",
        "IMG_FNAMES = [IMG_DIR + '/' + p for p in os.listdir(IMG_DIR)]"
      ]
    },
    {
      "cell_type": "code",
      "execution_count": null,
      "metadata": {
        "id": "GLrlzXl8PDym",
        "outputId": "ccb6771c-119b-451e-ffcc-80f452916a91"
      },
      "outputs": [
        {
          "data": {
            "image/png": "[encoded data removed]",
            "text/plain": [
              "<PIL.JpegImagePlugin.JpegImageFile image mode=RGB size=100x50 at 0x7FD93073EE10>"
            ]
          },
          "execution_count": 4,
          "metadata": {},
          "output_type": "execute_result"
        }
      ],
      "source": [
        "im"
      ]
    },
    {
      "cell_type": "code",
      "execution_count": null,
      "metadata": {
        "id": "Du0jJDjwPDym",
        "outputId": "ffb75c89-e1c3-478a-ee91-595122fb47f4"
      },
      "outputs": [
        {
          "data": {
            "image/png": "[encoded data removed]",
            "text/plain": [
              "<PIL.JpegImagePlugin.JpegImageFile image mode=RGB size=100x50 at 0x7FD94056B390>"
            ]
          },
          "execution_count": 5,
          "metadata": {},
          "output_type": "execute_result"
        }
      ],
      "source": [
        "im2"
      ]
    },
    {
      "cell_type": "markdown",
      "metadata": {
        "id": "i70DvxzLPDyn"
      },
      "source": [
        "### Convert to black and white\n",
        "Instead of RGB, binarized image saves significant compute. Here we hardcode a threshold and iterate over each pixel to obtain a binary image."
      ]
    },
    {
      "cell_type": "code",
      "execution_count": null,
      "metadata": {
        "id": "ql-APnElPDyn"
      },
      "outputs": [],
      "source": [
        "def gray(img_path):\n",
        "    # convert to grayscale, then binarize\n",
        "    img = Image.open(img_path).convert(\"L\")\n",
        "    img = img.point(lambda x: 255 if x > 200 or x == 0 else x) # value found through T&E\n",
        "    img = img.point(lambda x: 0 if x < 255 else 255, \"1\")\n",
        "    img.save(img_path)\n",
        "\n",
        "for img_path in IMG_FNAMES:\n",
        "    gray(img_path)"
      ]
    },
    {
      "cell_type": "code",
      "execution_count": null,
      "metadata": {
        "scrolled": false,
        "id": "K3K05ctJPDyn",
        "outputId": "320254fd-a718-405e-f4a0-c402c3dd6728"
      },
      "outputs": [
        {
          "data": {
            "image/png": "[encoded data removed]",
            "text/plain": [
              "<PIL.JpegImagePlugin.JpegImageFile image mode=L size=100x50 at 0x7FD93083F470>"
            ]
          },
          "execution_count": 7,
          "metadata": {},
          "output_type": "execute_result"
        }
      ],
      "source": [
        "im = Image.open(IMG_DIR + \"/000425062e2850b10efe900466f85cc8.jpg\")\n",
        "im"
      ]
    },
    {
      "cell_type": "markdown",
      "metadata": {
        "id": "yWskWHVgPDyn"
      },
      "source": [
        "### Find mask\n",
        "\n",
        "As you may have noticed, all the captchas share the same horizontal lines. Si\n",
        "We will extract and save the lines(noise) for later use. Here we average all 20000 captchas and set a threshold as above. Another method is using a bit mask (&=) to iteratively filter out surrounding black pixels i.e.\n",
        "\n",
        "```\n",
        "mask = np.ones((height, width))\n",
        "for im in ims:\n",
        "    mask &= im\n",
        "```\n",
        "\n",
        "The effectiveness of bit mask depends on how clean the binarized data is. With the averaging method, some error is allowed."
      ]
    },
    {
      "cell_type": "code",
      "execution_count": null,
      "metadata": {
        "id": "1s7pwbPEPDyo"
      },
      "outputs": [],
      "source": [
        "import numpy as np\n",
        "WIDTH, HEIGHT = im.size\n",
        "MASK_DIR = \"avg.png\""
      ]
    },
    {
      "cell_type": "code",
      "execution_count": null,
      "metadata": {
        "id": "c3XzRIoWPDyo",
        "outputId": "da3ecce3-ac69-452d-a4b9-c1596349f6a1"
      },
      "outputs": [
        {
          "data": {
            "text/plain": [
              "(100, 50)"
            ]
          },
          "execution_count": 27,
          "metadata": {},
          "output_type": "execute_result"
        }
      ],
      "source": [
        "WIDTH, HEIGHT"
      ]
    },
    {
      "cell_type": "code",
      "execution_count": null,
      "metadata": {
        "id": "feKOvr52PDyo"
      },
      "outputs": [],
      "source": [
        "def generateMask():\n",
        "    N=1000*NUM_CHALLENGES\n",
        "    arr=np.zeros((HEIGHT, WIDTH),np.float)\n",
        "    for fname in IMG_FNAMES:\n",
        "        imarr=np.array(Image.open(fname),dtype=np.float)\n",
        "        arr=arr+imarr/N\n",
        "    arr=np.array(np.round(arr),dtype=np.uint8)\n",
        "    out=Image.fromarray(arr,mode=\"L\")\n",
        "    out.save(MASK_DIR)\n",
        "\n",
        "generateMask()"
      ]
    },
    {
      "cell_type": "code",
      "execution_count": null,
      "metadata": {
        "id": "QV52xQ29PDyo",
        "outputId": "40d2e00f-535a-4f3d-d4c2-738f815d895d"
      },
      "outputs": [
        {
          "data": {
            "image/png": "[encoded data removed]",
            "text/plain": [
              "<PIL.PngImagePlugin.PngImageFile image mode=L size=100x50 at 0x7FD930A7ABA8>"
            ]
          },
          "execution_count": 10,
          "metadata": {},
          "output_type": "execute_result"
        }
      ],
      "source": [
        "im = Image.open(MASK_DIR) # ok this can be done with binary mask: &=\n",
        "im"
      ]
    },
    {
      "cell_type": "code",
      "execution_count": null,
      "metadata": {
        "id": "D7cjYG_JPDyo"
      },
      "outputs": [],
      "source": [
        "im = Image.open(MASK_DIR)\n",
        "im = im.point(lambda x:255 if x > 230 else x)\n",
        "im = im.point(lambda x:0 if x<255 else 255, \"1\")\n",
        "im.save(MASK_DIR)"
      ]
    },
    {
      "cell_type": "code",
      "execution_count": null,
      "metadata": {
        "id": "iuxA25aPPDyo",
        "outputId": "e6cd334f-c7bc-41c1-88de-6fbf6aada935"
      },
      "outputs": [
        {
          "data": {
            "image/png": "[encoded data removed]",
            "text/plain": [
              "<PIL.Image.Image image mode=1 size=100x50 at 0x7FD900395898>"
            ]
          },
          "execution_count": 12,
          "metadata": {},
          "output_type": "execute_result"
        }
      ],
      "source": [
        "im"
      ]
    },
    {
      "cell_type": "code",
      "execution_count": null,
      "metadata": {
        "id": "MwBfgkH_PDyp"
      },
      "outputs": [],
      "source": [
        "im.size"
      ]
    },
    {
      "cell_type": "markdown",
      "metadata": {
        "id": "Ue4jj7juPDyp"
      },
      "source": [
        "# Generator for real captchas\n",
        "\n",
        "Using a Keras built in generator function `flow_from_directory` to automatically import and preprocess real captchas from a folder."
      ]
    },
    {
      "cell_type": "code",
      "execution_count": null,
      "metadata": {
        "id": "L-3sBoGYPDyp",
        "outputId": "3820c992-8779-488f-8cd0-3b622da207b4"
      },
      "outputs": [
        {
          "name": "stderr",
          "output_type": "stream",
          "text": [
            "Using TensorFlow backend.\n"
          ]
        }
      ],
      "source": [
        "from keras import models\n",
        "from keras import layers\n",
        "from keras import optimizers\n",
        "from keras import applications\n",
        "from keras.preprocessing import image\n",
        "import tensorflow as tf"
      ]
    },
    {
      "cell_type": "code",
      "execution_count": null,
      "metadata": {
        "id": "VwLKH5wVPDyp",
        "outputId": "ca43d851-cb1a-4209-a145-5268ccd0bd20"
      },
      "outputs": [
        {
          "name": "stdout",
          "output_type": "stream",
          "text": [
            "Found 20011 images belonging to 8 classes.\n"
          ]
        }
      ],
      "source": [
        "# Real data generator\n",
        "BATCH_SIZE = 32 \n",
        "\n",
        "datagen = image.ImageDataGenerator(\n",
        "    preprocessing_function=applications.xception.preprocess_input\n",
        ")\n",
        "\n",
        "flow_from_directory_params = {'target_size': (HEIGHT, WIDTH),\n",
        "                              'color_mode': 'grayscale',\n",
        "                              'class_mode': None,\n",
        "                              'batch_size': BATCH_SIZE}\n",
        "\n",
        "real_generator = datagen.flow_from_directory(\n",
        "        directory=\".\",\n",
        "        **flow_from_directory_params\n",
        ")"
      ]
    },
    {
      "cell_type": "markdown",
      "metadata": {
        "id": "bHifPmyDPDyp"
      },
      "source": [
        "# (Regular) Generator\n",
        "\n",
        "Now that we have processed all the real captchas, we need to define a generator that outputs (captcha, label) pairs where the captchas should look almost like the real ones.\n",
        "\n",
        "We filter out the outliers that contain overlapping characters."
      ]
    },
    {
      "cell_type": "code",
      "execution_count": null,
      "metadata": {
        "id": "sN9Pj_UGPDyp"
      },
      "outputs": [],
      "source": [
        "# Synthetic captcha generator\n",
        "from PIL import ImageFont, ImageDraw\n",
        "from random import choice, random\n",
        "from string import ascii_lowercase, digits\n",
        "alphanumeric = ascii_lowercase + digits\n",
        "\n",
        "\n",
        "def fuzzy_loc(locs):\n",
        "    acc = []\n",
        "    for i,loc in enumerate(locs[:-1]):\n",
        "        if locs[i+1] - loc < 8:\n",
        "            continue\n",
        "        else:\n",
        "            acc.append(loc)\n",
        "    return acc\n",
        "\n",
        "def seg(img):\n",
        "    arr = np.array(img, dtype=np.float)\n",
        "    arr = arr.transpose()\n",
        "    # arr = np.mean(arr, axis=2)\n",
        "    arr = np.sum(arr, axis=1)\n",
        "    locs = np.where(arr < arr.min() + 2)[0].tolist()\n",
        "    locs = fuzzy_loc(locs)\n",
        "    return locs\n",
        "\n",
        "def is_well_formed(img_path):\n",
        "    original_img = Image.open(img_path)\n",
        "    img = original_img.convert('1')\n",
        "    return len(seg(img)) == 4\n",
        "\n",
        "noiseimg = np.array(Image.open(\"avg.png\").convert(\"1\"))\n",
        "# noiseimg = np.bitwise_not(noiseimg)\n",
        "fnt = ImageFont.truetype('./arial-extra.otf', 26)\n",
        "def gen_one():\n",
        "    og = Image.new(\"1\", (100,50))\n",
        "    text = ''.join([choice(alphanumeric) for _ in range(4)])\n",
        "    draw = ImageDraw.Draw(og)\n",
        "    for i, t in enumerate(text):\n",
        "        txt=Image.new('L', (40,40))\n",
        "        d = ImageDraw.Draw(txt)\n",
        "        d.text( (0, 0), t,  font=fnt, fill=255)\n",
        "        if random() > 0.5:\n",
        "            w=txt.rotate(-20*(random()-1),  expand=1)\n",
        "            og.paste( w, (i*20 + int(25*random()), int(25+30*(random()-1))),  w)\n",
        "        else:\n",
        "            w=txt.rotate(20*(random()-1),  expand=1)\n",
        "            og.paste( w, (i*20 + int(25*random()), int(20*random())),  w)\n",
        "    segments = seg(og)\n",
        "    if len(segments) != 4:\n",
        "        return gen_one()\n",
        "    ogarr = np.array(og)\n",
        "    ogarr = np.bitwise_or(noiseimg, ogarr)\n",
        "    ogarr = np.expand_dims(ogarr, axis=2).astype(float)\n",
        "    ogarr = np.random.random(size=(50,100,1)) * ogarr\n",
        "    ogarr = (ogarr > 0.0).astype(float) # add noise\n",
        "    return ogarr, text\n",
        "\n",
        "def synth_generator():\n",
        "    arrs = []\n",
        "    while True:\n",
        "        for _ in range(BATCH_SIZE):\n",
        "            arrs.append(gen_one()[0])\n",
        "        yield np.array(arrs)\n",
        "        arrs = []"
      ]
    },
    {
      "cell_type": "code",
      "execution_count": null,
      "metadata": {
        "id": "hlIcuImBPDyq"
      },
      "outputs": [],
      "source": [
        "def get_image_batch(generator):\n",
        "    \"\"\"keras generators may generate an incomplete batch for the last batch\"\"\"\n",
        "    #img_batch = generator.next() \n",
        "    img_batch = next(generator) \n",
        "    if len(img_batch) != BATCH_SIZE:\n",
        "        #img_batch = generator.next() \n",
        "        img_batch = next(generator)\n",
        "\n",
        "    assert len(img_batch) == BATCH_SIZE\n",
        "\n",
        "    return img_batch"
      ]
    },
    {
      "cell_type": "code",
      "execution_count": null,
      "metadata": {
        "id": "TkHUo8-5PDyq"
      },
      "outputs": [],
      "source": [
        "import matplotlib.pyplot as plt\n",
        "imarr = get_image_batch(real_generator)[0, :, :, 0]\n",
        "plt.imshow(imarr)"
      ]
    },
    {
      "cell_type": "code",
      "execution_count": null,
      "metadata": {
        "id": "WnDaVo-xPDyq",
        "outputId": "4cafa005-7b5b-4a1f-ef16-68fc2d776345"
      },
      "outputs": [
        {
          "name": "stdout",
          "output_type": "stream",
          "text": [
            "(50, 100)\n"
          ]
        },
        {
          "data": {
            "text/plain": [
              "<matplotlib.image.AxesImage at 0x7fe2b8c4c198>"
            ]
          },
          "execution_count": 10,
          "metadata": {},
          "output_type": "execute_result"
        },
        {
          "data": {
            "image/png": "[encoded data removed]",
            "text/plain": [
              "<Figure size 432x288 with 1 Axes>"
            ]
          },
          "metadata": {
            "needs_background": "light"
          },
          "output_type": "display_data"
        }
      ],
      "source": [
        "imarr = get_image_batch(synth_generator())[0, :, :, 0]\n",
        "print(imarr.shape)\n",
        "plt.imshow(imarr)"
      ]
    },
    {
      "cell_type": "markdown",
      "metadata": {
        "id": "u3UjfUenPDyq"
      },
      "source": [
        "# SimGAN Definition\n",
        "\n",
        "There are three components to the network:\n",
        "\n",
        "### Refiner\n",
        "\n",
        "The refiner network, Rθ, is a residual network (ResNet). It modifies the synthetic image on a pixel level, rather than holistically modifying the image content, preserving the global structure and annotations.\n",
        "\n",
        "### Discriminator\n",
        "\n",
        "The discriminator network Dφ, is a simple ConvNet that contains 5 conv layers and 2 max-pooling layers. It's abinary classifier that outputs whether a captcha is synthesized or real.\n",
        "\n",
        "### Combined\n",
        "\n",
        "Pipe the refined image into discriminator.\n",
        "\n",
        "\n",
        "![SimGAN](http://www.fudzilla.com/images/stories/2016/December/apple-simgan-generative-adversarial-networks.jpg)"
      ]
    },
    {
      "cell_type": "code",
      "execution_count": null,
      "metadata": {
        "id": "SQ4JsGDRPDyq",
        "outputId": "de1e6376-9d58-4a0d-fe44-3ccdbf1e5fe3"
      },
      "outputs": [
        {
          "name": "stderr",
          "output_type": "stream",
          "text": [
            "WARNING: Logging before flag parsing goes to stderr.\n",
            "W0517 05:56:45.413450 4431386112 deprecation_wrapper.py:119] From /Users/ashah04/anaconda3/envs/VE_python3/lib/python3.7/site-packages/keras/backend/tensorflow_backend.py:74: The name tf.get_default_graph is deprecated. Please use tf.compat.v1.get_default_graph instead.\n",
            "\n",
            "W0517 05:56:45.440573 4431386112 deprecation_wrapper.py:119] From /Users/ashah04/anaconda3/envs/VE_python3/lib/python3.7/site-packages/keras/backend/tensorflow_backend.py:517: The name tf.placeholder is deprecated. Please use tf.compat.v1.placeholder instead.\n",
            "\n",
            "/Users/ashah04/anaconda3/envs/VE_python3/lib/python3.7/site-packages/ipykernel_launcher.py:23: UserWarning: Update your `Conv2D` call to the Keras 2 API: `Conv2D(64, (3, 3), activation=\"relu\", padding=\"same\")`\n",
            "W0517 05:56:45.445131 4431386112 deprecation_wrapper.py:119] From /Users/ashah04/anaconda3/envs/VE_python3/lib/python3.7/site-packages/keras/backend/tensorflow_backend.py:4138: The name tf.random_uniform is deprecated. Please use tf.random.uniform instead.\n",
            "\n",
            "/Users/ashah04/anaconda3/envs/VE_python3/lib/python3.7/site-packages/ipykernel_launcher.py:14: UserWarning: Update your `Conv2D` call to the Keras 2 API: `Conv2D(64, (3, 3), padding=\"same\")`\n",
            "  \n",
            "/Users/ashah04/anaconda3/envs/VE_python3/lib/python3.7/site-packages/ipykernel_launcher.py:16: UserWarning: Update your `Conv2D` call to the Keras 2 API: `Conv2D(64, (3, 3), padding=\"same\")`\n",
            "  app.launch_new_instance()\n",
            "/Users/ashah04/anaconda3/envs/VE_python3/lib/python3.7/site-packages/ipykernel_launcher.py:31: UserWarning: Update your `Conv2D` call to the Keras 2 API: `Conv2D(1, (1, 1), activation=\"tanh\", padding=\"same\")`\n",
            "/Users/ashah04/anaconda3/envs/VE_python3/lib/python3.7/site-packages/ipykernel_launcher.py:52: UserWarning: Update your `Model` call to the Keras 2 API: `Model(name=\"refiner\", inputs=Tensor(\"in..., outputs=Tensor(\"co...)`\n",
            "/Users/ashah04/anaconda3/envs/VE_python3/lib/python3.7/site-packages/ipykernel_launcher.py:38: UserWarning: Update your `Conv2D` call to the Keras 2 API: `Conv2D(96, (3, 3), activation=\"relu\", strides=(2, 2), padding=\"same\")`\n",
            "/Users/ashah04/anaconda3/envs/VE_python3/lib/python3.7/site-packages/ipykernel_launcher.py:39: UserWarning: Update your `Conv2D` call to the Keras 2 API: `Conv2D(64, (3, 3), activation=\"relu\", strides=(2, 2), padding=\"same\")`\n",
            "/Users/ashah04/anaconda3/envs/VE_python3/lib/python3.7/site-packages/ipykernel_launcher.py:40: UserWarning: Update your `MaxPooling2D` call to the Keras 2 API: `MaxPooling2D(pool_size=(3, 3), strides=(1, 1), padding=\"same\")`\n",
            "W0517 05:56:45.588310 4431386112 deprecation_wrapper.py:119] From /Users/ashah04/anaconda3/envs/VE_python3/lib/python3.7/site-packages/keras/backend/tensorflow_backend.py:3976: The name tf.nn.max_pool is deprecated. Please use tf.nn.max_pool2d instead.\n",
            "\n",
            "/Users/ashah04/anaconda3/envs/VE_python3/lib/python3.7/site-packages/ipykernel_launcher.py:41: UserWarning: Update your `Conv2D` call to the Keras 2 API: `Conv2D(32, (3, 3), activation=\"relu\", strides=(1, 1), padding=\"same\")`\n",
            "/Users/ashah04/anaconda3/envs/VE_python3/lib/python3.7/site-packages/ipykernel_launcher.py:42: UserWarning: Update your `Conv2D` call to the Keras 2 API: `Conv2D(32, (1, 1), activation=\"relu\", strides=(1, 1), padding=\"same\")`\n",
            "/Users/ashah04/anaconda3/envs/VE_python3/lib/python3.7/site-packages/ipykernel_launcher.py:43: UserWarning: Update your `Conv2D` call to the Keras 2 API: `Conv2D(2, (1, 1), activation=\"relu\", strides=(1, 1), padding=\"same\")`\n",
            "/Users/ashah04/anaconda3/envs/VE_python3/lib/python3.7/site-packages/ipykernel_launcher.py:58: UserWarning: Update your `Model` call to the Keras 2 API: `Model(name=\"discriminator\", inputs=Tensor(\"in..., outputs=Tensor(\"re...)`\n",
            "/Users/ashah04/anaconda3/envs/VE_python3/lib/python3.7/site-packages/ipykernel_launcher.py:64: UserWarning: Update your `Model` call to the Keras 2 API: `Model(name=\"combined\", inputs=Tensor(\"in..., outputs=[<tf.Tenso...)`\n",
            "W0517 05:56:45.692258 4431386112 deprecation_wrapper.py:119] From /Users/ashah04/anaconda3/envs/VE_python3/lib/python3.7/site-packages/keras/optimizers.py:790: The name tf.train.Optimizer is deprecated. Please use tf.compat.v1.train.Optimizer instead.\n",
            "\n",
            "W0517 05:56:45.708600 4431386112 deprecation.py:323] From <ipython-input-9-7f9384d3eaff>:77: softmax_cross_entropy_with_logits (from tensorflow.python.ops.nn_ops) is deprecated and will be removed in a future version.\n",
            "Instructions for updating:\n",
            "\n",
            "Future major versions of TensorFlow will allow gradients to flow\n",
            "into the labels input on backprop by default.\n",
            "\n",
            "See `tf.nn.softmax_cross_entropy_with_logits_v2`.\n",
            "\n"
          ]
        }
      ],
      "source": [
        "def refiner_network(input_image_tensor):\n",
        "    \"\"\"\n",
        "    :param input_image_tensor: Input tensor that corresponds to a synthetic image.\n",
        "    :return: Output tensor that corresponds to a refined synthetic image.\n",
        "    \"\"\"\n",
        "    def resnet_block(input_features, nb_features=64, nb_kernel_rows=3, nb_kernel_cols=3):\n",
        "        \"\"\"\n",
        "        A ResNet block with two `nb_kernel_rows` x `nb_kernel_cols` convolutional layers,\n",
        "        each with `nb_features` feature maps.\n",
        "        See Figure 6 in https://arxiv.org/pdf/1612.07828v1.pdf.\n",
        "        :param input_features: Input tensor to ResNet block.\n",
        "        :return: Output tensor from ResNet block.\n",
        "        \"\"\"\n",
        "        y = layers.Convolution2D(nb_features, nb_kernel_rows, nb_kernel_cols, border_mode='same')(input_features)\n",
        "        y = layers.Activation('relu')(y)\n",
        "        y = layers.Convolution2D(nb_features, nb_kernel_rows, nb_kernel_cols, border_mode='same')(y)\n",
        "\n",
        "        #y = layers.merge([input_features, y], mode='sum') \n",
        "        y = layers.add([input_features, y])\n",
        "        return layers.Activation('relu')(y)\n",
        "\n",
        "    # an input image of size w × h is convolved with 3 × 3 filters that output 64 feature maps\n",
        "    x = layers.Convolution2D(64, 3, 3, border_mode='same', activation='relu')(input_image_tensor)\n",
        "\n",
        "    # the output is passed through 4 ResNet blocks\n",
        "    for _ in range(4):\n",
        "        x = resnet_block(x)\n",
        "\n",
        "    # the output of the last ResNet block is passed to a 1 × 1 convolutional layer producing 1 feature map\n",
        "    # corresponding to the refined synthetic image\n",
        "    return layers.Convolution2D(1, 1, 1, border_mode='same', activation='tanh')(x)\n",
        "\n",
        "def discriminator_network(input_image_tensor):\n",
        "    \"\"\"\n",
        "    :param input_image_tensor: Input tensor corresponding to an image, either real or refined.\n",
        "    :return: Output tensor that corresponds to the probability of whether an image is real or refined.\n",
        "    \"\"\"\n",
        "    x = layers.Convolution2D(96, 3, 3, border_mode='same', subsample=(2, 2), activation='relu')(input_image_tensor)\n",
        "    x = layers.Convolution2D(64, 3, 3, border_mode='same', subsample=(2, 2), activation='relu')(x)\n",
        "    x = layers.MaxPooling2D(pool_size=(3, 3), border_mode='same', strides=(1, 1))(x)\n",
        "    x = layers.Convolution2D(32, 3, 3, border_mode='same', subsample=(1, 1), activation='relu')(x)\n",
        "    x = layers.Convolution2D(32, 1, 1, border_mode='same', subsample=(1, 1), activation='relu')(x)\n",
        "    x = layers.Convolution2D(2, 1, 1, border_mode='same', subsample=(1, 1), activation='relu')(x)\n",
        "\n",
        "    # here one feature map corresponds to `is_real` and the other to `is_refined`,\n",
        "    # and the custom loss function is then `tf.nn.sparse_softmax_cross_entropy_with_logits`\n",
        "    return layers.Reshape((-1, 2))(x)\n",
        "\n",
        "# Refiner\n",
        "synthetic_image_tensor = layers.Input(shape=(HEIGHT, WIDTH, 1))\n",
        "refined_image_tensor = refiner_network(synthetic_image_tensor)\n",
        "refiner_model = models.Model(input=synthetic_image_tensor, output=refined_image_tensor, name='refiner')\n",
        "\n",
        "# Discriminator\n",
        "refined_or_real_image_tensor = layers.Input(shape=(HEIGHT, WIDTH, 1))\n",
        "discriminator_output = discriminator_network(refined_or_real_image_tensor)\n",
        "discriminator_model = models.Model(input=refined_or_real_image_tensor, output=discriminator_output,\n",
        "                                   name='discriminator')\n",
        "\n",
        "# Combined\n",
        "refiner_model_output = refiner_model(synthetic_image_tensor)\n",
        "combined_output = discriminator_model(refiner_model_output)\n",
        "combined_model = models.Model(input=synthetic_image_tensor, output=[refiner_model_output, combined_output],\n",
        "                              name='combined')\n",
        "\n",
        "def self_regularization_loss(y_true, y_pred):\n",
        "    delta = 0.0001  # FIXME: need to figure out an appropriate value for this\n",
        "    return tf.multiply(delta, tf.reduce_sum(tf.abs(y_pred - y_true)))\n",
        "\n",
        "# define custom local adversarial loss (softmax for each image section) for the discriminator\n",
        "# the adversarial loss function is the sum of the cross-entropy losses over the local patches\n",
        "def local_adversarial_loss(y_true, y_pred):\n",
        "    # y_true and y_pred have shape (batch_size, # of local patches, 2), but really we just want to average over\n",
        "    # the local patches and batch size so we can reshape to (batch_size * # of local patches, 2)\n",
        "    y_true = tf.reshape(y_true, (-1, 2))\n",
        "    y_pred = tf.reshape(y_pred, (-1, 2))\n",
        "    loss = tf.nn.softmax_cross_entropy_with_logits(labels=y_true, logits=y_pred)\n",
        "\n",
        "    return tf.reduce_mean(loss)\n",
        "\n",
        "\n",
        "# compile models\n",
        "sgd = optimizers.RMSprop()\n",
        "\n",
        "refiner_model.compile(optimizer=sgd, loss=self_regularization_loss)\n",
        "discriminator_model.trainable = False\n",
        "discriminator_model.compile(optimizer=sgd, loss=local_adversarial_loss)\n",
        "#discriminator_model.trainable = False  \n",
        "combined_model.compile(optimizer=sgd, loss=[self_regularization_loss, local_adversarial_loss])"
      ]
    },
    {
      "cell_type": "markdown",
      "metadata": {
        "id": "p7gZ8CouPDyr"
      },
      "source": [
        "# Pre-training\n",
        "\n",
        "It is not necessary to pre-train GANs but it seems pretraining makes GANs converge faster. Here we pre-train both models. For the refiner, we train by supplying the identity. For the discriminator, we train with the correct real, synth labeled pairs."
      ]
    },
    {
      "cell_type": "code",
      "execution_count": null,
      "metadata": {
        "id": "Jx93jn2APDyr"
      },
      "outputs": [],
      "source": [
        "# the target labels for the cross-entropy loss layer are 0 for every yj (real) and 1 for every xi (refined)\n",
        "\n",
        "y_real = np.array([[[1.0, 0.0]] * discriminator_model.output_shape[1]] * BATCH_SIZE)\n",
        "y_refined = np.array([[[0.0, 1.0]] * discriminator_model.output_shape[1]] * BATCH_SIZE)\n",
        "assert y_real.shape == (BATCH_SIZE, discriminator_model.output_shape[1], 2)"
      ]
    },
    {
      "cell_type": "code",
      "execution_count": null,
      "metadata": {
        "id": "0VlpK5XcPDyr",
        "outputId": "1b202c96-cb66-4a29-8cee-64d60657dcf6"
      },
      "outputs": [
        {
          "name": "stdout",
          "output_type": "stream",
          "text": [
            "pre-training the refiner network...\n"
          ]
        },
        {
          "name": "stderr",
          "output_type": "stream",
          "text": [
            "W0517 02:41:31.784706 4757124608 deprecation_wrapper.py:119] From /Users/ashah04/anaconda3/envs/VE_python3/lib/python3.7/site-packages/keras/backend/tensorflow_backend.py:986: The name tf.assign_add is deprecated. Please use tf.compat.v1.assign_add instead.\n",
            "\n",
            "W0517 02:41:31.789491 4757124608 deprecation_wrapper.py:119] From /Users/ashah04/anaconda3/envs/VE_python3/lib/python3.7/site-packages/keras/backend/tensorflow_backend.py:973: The name tf.assign is deprecated. Please use tf.compat.v1.assign instead.\n",
            "\n"
          ]
        },
        {
          "name": "stdout",
          "output_type": "stream",
          "text": [
            "Refiner model self regularization loss: [4.18577271].\n",
            "Refiner model self regularization loss: [38.10543156].\n",
            "Refiner model self regularization loss: [9.86646509].\n",
            "Refiner model self regularization loss: [5.06063788].\n",
            "Refiner model self regularization loss: [2.25852749].\n",
            "Refiner model self regularization loss: [1.26912575].\n",
            "Refiner model self regularization loss: [4.72551188].\n",
            "Refiner model self regularization loss: [0.35142342].\n",
            "Refiner model self regularization loss: [0.1755028].\n",
            "Refiner model self regularization loss: [0.13331901].\n"
          ]
        }
      ],
      "source": [
        "\"\"\"\n",
        "LOG_INTERVAL = 10\n",
        "MODEL_DIR = \"./model/\"\n",
        "print('pre-training the refiner network...')\n",
        "gen_loss = np.zeros(shape=len(refiner_model.metrics_names))\n",
        "\n",
        "for i in range(100):\n",
        "    synthetic_image_batch = get_image_batch(synth_generator())\n",
        "    gen_loss = np.add(refiner_model.train_on_batch(synthetic_image_batch, synthetic_image_batch), gen_loss)\n",
        "\n",
        "    # log every `log_interval` steps\n",
        "    if not i % LOG_INTERVAL:\n",
        "        print('Refiner model self regularization loss: {}.'.format(gen_loss / LOG_INTERVAL))\n",
        "        gen_loss = np.zeros(shape=len(refiner_model.metrics_names))\n",
        "\n",
        "refiner_model.save(os.path.join(MODEL_DIR, 'refiner_model_pre_trained.h5'))\n",
        "\"\"\"\n"
      ]
    },
    {
      "cell_type": "code",
      "execution_count": null,
      "metadata": {
        "id": "U1IUibdnPDyr"
      },
      "outputs": [],
      "source": [
        "from keras.models import load_model\n",
        "refiner_model = load_model('/PycharmProjects/SimGAN_exps/\\\n",
        "SimGAN-Captcha/model/refiner_model_pre_trained.h5', \\\n",
        "                             custom_objects={'self_regularization_loss': self_regularization_loss})"
      ]
    },
    {
      "cell_type": "code",
      "execution_count": null,
      "metadata": {
        "id": "3rAWGs9xPDyr",
        "outputId": "31844fa6-16a8-49b0-e531-3d8408f1b9cf"
      },
      "outputs": [
        {
          "name": "stdout",
          "output_type": "stream",
          "text": [
            "__________________________________________________________________________________________________\n",
            "Layer (type)                    Output Shape         Param #     Connected to                     \n",
            "==================================================================================================\n",
            "input_4 (InputLayer)            (None, 50, 100, 1)   0                                            \n",
            "__________________________________________________________________________________________________\n",
            "conv2d_10 (Conv2D)              (None, 50, 100, 64)  640         input_4[0][0]                    \n",
            "__________________________________________________________________________________________________\n",
            "conv2d_11 (Conv2D)              (None, 50, 100, 64)  36928       conv2d_10[0][0]                  \n",
            "__________________________________________________________________________________________________\n",
            "activation_4 (Activation)       (None, 50, 100, 64)  0           conv2d_11[0][0]                  \n",
            "__________________________________________________________________________________________________\n",
            "conv2d_12 (Conv2D)              (None, 50, 100, 64)  36928       activation_4[0][0]               \n",
            "__________________________________________________________________________________________________\n",
            "add_1 (Add)                     (None, 50, 100, 64)  0           conv2d_10[0][0]                  \n",
            "                                                                 conv2d_12[0][0]                  \n",
            "__________________________________________________________________________________________________\n",
            "activation_5 (Activation)       (None, 50, 100, 64)  0           add_1[0][0]                      \n",
            "__________________________________________________________________________________________________\n",
            "conv2d_13 (Conv2D)              (None, 50, 100, 64)  36928       activation_5[0][0]               \n",
            "__________________________________________________________________________________________________\n",
            "activation_6 (Activation)       (None, 50, 100, 64)  0           conv2d_13[0][0]                  \n",
            "__________________________________________________________________________________________________\n",
            "conv2d_14 (Conv2D)              (None, 50, 100, 64)  36928       activation_6[0][0]               \n",
            "__________________________________________________________________________________________________\n",
            "add_2 (Add)                     (None, 50, 100, 64)  0           activation_5[0][0]               \n",
            "                                                                 conv2d_14[0][0]                  \n",
            "__________________________________________________________________________________________________\n",
            "activation_7 (Activation)       (None, 50, 100, 64)  0           add_2[0][0]                      \n",
            "__________________________________________________________________________________________________\n",
            "conv2d_15 (Conv2D)              (None, 50, 100, 64)  36928       activation_7[0][0]               \n",
            "__________________________________________________________________________________________________\n",
            "activation_8 (Activation)       (None, 50, 100, 64)  0           conv2d_15[0][0]                  \n",
            "__________________________________________________________________________________________________\n",
            "conv2d_16 (Conv2D)              (None, 50, 100, 64)  36928       activation_8[0][0]               \n",
            "__________________________________________________________________________________________________\n",
            "add_3 (Add)                     (None, 50, 100, 64)  0           activation_7[0][0]               \n",
            "                                                                 conv2d_16[0][0]                  \n",
            "__________________________________________________________________________________________________\n",
            "activation_9 (Activation)       (None, 50, 100, 64)  0           add_3[0][0]                      \n",
            "__________________________________________________________________________________________________\n",
            "conv2d_17 (Conv2D)              (None, 50, 100, 64)  36928       activation_9[0][0]               \n",
            "__________________________________________________________________________________________________\n",
            "activation_10 (Activation)      (None, 50, 100, 64)  0           conv2d_17[0][0]                  \n",
            "__________________________________________________________________________________________________\n",
            "conv2d_18 (Conv2D)              (None, 50, 100, 64)  36928       activation_10[0][0]              \n",
            "__________________________________________________________________________________________________\n",
            "add_4 (Add)                     (None, 50, 100, 64)  0           activation_9[0][0]               \n",
            "                                                                 conv2d_18[0][0]                  \n",
            "__________________________________________________________________________________________________\n",
            "activation_11 (Activation)      (None, 50, 100, 64)  0           add_4[0][0]                      \n",
            "__________________________________________________________________________________________________\n",
            "conv2d_19 (Conv2D)              (None, 50, 100, 1)   65          activation_11[0][0]              \n",
            "==================================================================================================\n",
            "Total params: 296,129\n",
            "Trainable params: 296,129\n",
            "Non-trainable params: 0\n",
            "__________________________________________________________________________________________________\n"
          ]
        }
      ],
      "source": [
        "refiner_model.summary()"
      ]
    },
    {
      "cell_type": "code",
      "execution_count": null,
      "metadata": {
        "id": "xe5cq-XQPDyr",
        "outputId": "16d9c1dc-2f7a-4c8d-9a7e-2177fdda2e82"
      },
      "outputs": [
        {
          "name": "stderr",
          "output_type": "stream",
          "text": [
            "  0%|          | 0/100 [00:00<?, ?it/s]"
          ]
        },
        {
          "name": "stdout",
          "output_type": "stream",
          "text": [
            "pre-training the discriminator network...\n"
          ]
        },
        {
          "name": "stderr",
          "output_type": "stream",
          "text": [
            "100%|██████████| 100/100 [01:44<00:00,  1.06s/it]"
          ]
        },
        {
          "name": "stdout",
          "output_type": "stream",
          "text": [
            "Discriminator model loss: [0.6964737].\n"
          ]
        },
        {
          "name": "stderr",
          "output_type": "stream",
          "text": [
            "\n"
          ]
        }
      ],
      "source": [
        "\"\"\"\n",
        "from tqdm import tqdm\n",
        "print('pre-training the discriminator network...')\n",
        "disc_loss = np.zeros(shape=len(discriminator_model.metrics_names))\n",
        "MODEL_DIR = \"./model/\"\n",
        "for _ in tqdm(range(100)):\n",
        "    real_image_batch = get_image_batch(real_generator)\n",
        "    disc_loss = np.add(discriminator_model.train_on_batch(real_image_batch, y_real), disc_loss)\n",
        "\n",
        "    synthetic_image_batch = get_image_batch(synth_generator())\n",
        "    refined_image_batch = refiner_model.predict_on_batch(synthetic_image_batch)\n",
        "    disc_loss = np.add(discriminator_model.train_on_batch(refined_image_batch, y_refined), disc_loss)\n",
        "\n",
        "discriminator_model.save(os.path.join(MODEL_DIR, 'discriminator_model_pre_trained.h5'))\n",
        "\n",
        "# hard-coded for now\n",
        "print('Discriminator model loss: {}.'.format(disc_loss / (100 * 2)))\n",
        "\"\"\""
      ]
    },
    {
      "cell_type": "code",
      "execution_count": null,
      "metadata": {
        "id": "SX4jObPDPDys"
      },
      "outputs": [],
      "source": [
        "from keras.models import load_model\n",
        "discriminator_model = load_model('/PycharmProjects/SimGAN_exps/\\\n",
        "SimGAN-Captcha/model/discriminator_model_pre_trained.h5', \\\n",
        "                             custom_objects={'local_adversarial_loss': local_adversarial_loss})"
      ]
    },
    {
      "cell_type": "code",
      "execution_count": null,
      "metadata": {
        "id": "I-Jn4vLUPDys",
        "outputId": "17e9b578-ba8d-4c32-baff-4b5f33b2cc9a"
      },
      "outputs": [
        {
          "name": "stdout",
          "output_type": "stream",
          "text": [
            "_________________________________________________________________\n",
            "Layer (type)                 Output Shape              Param #   \n",
            "=================================================================\n",
            "input_2 (InputLayer)         (None, 50, 100, 1)        0         \n",
            "_________________________________________________________________\n",
            "conv2d_11 (Conv2D)           (None, 25, 50, 96)        960       \n",
            "_________________________________________________________________\n",
            "conv2d_12 (Conv2D)           (None, 13, 25, 64)        55360     \n",
            "_________________________________________________________________\n",
            "max_pooling2d_1 (MaxPooling2 (None, 13, 25, 64)        0         \n",
            "_________________________________________________________________\n",
            "conv2d_13 (Conv2D)           (None, 13, 25, 32)        18464     \n",
            "_________________________________________________________________\n",
            "conv2d_14 (Conv2D)           (None, 13, 25, 32)        1056      \n",
            "_________________________________________________________________\n",
            "conv2d_15 (Conv2D)           (None, 13, 25, 2)         66        \n",
            "_________________________________________________________________\n",
            "reshape_1 (Reshape)          (None, 325, 2)            0         \n",
            "=================================================================\n",
            "Total params: 75,906\n",
            "Trainable params: 75,906\n",
            "Non-trainable params: 0\n",
            "_________________________________________________________________\n"
          ]
        }
      ],
      "source": [
        "discriminator_model.summary()"
      ]
    },
    {
      "cell_type": "markdown",
      "metadata": {
        "id": "7olbOKuOPDys"
      },
      "source": [
        "# Training\n",
        "\n",
        "This is the most important training step in which we refine a synthesized captcha, then pass it through the discriminator and backprop gradients."
      ]
    },
    {
      "cell_type": "code",
      "execution_count": null,
      "metadata": {
        "id": "8DxstEhBPDys",
        "outputId": "ced851d7-0b0d-415b-a06a-4953a804af8e"
      },
      "outputs": [
        {
          "name": "stdout",
          "output_type": "stream",
          "text": [
            "Step: 0 of 100.\n",
            "Refiner model loss: [0.07789041 0.00836448 0.06952593].\n",
            "Discriminator model loss real: [0.00081097].\n",
            "Discriminator model loss refined: [0.03466143].\n",
            "Step: 1 of 100.\n",
            "Step: 2 of 100.\n",
            "Step: 3 of 100.\n",
            "Step: 4 of 100.\n",
            "Step: 5 of 100.\n",
            "Step: 6 of 100.\n",
            "Step: 7 of 100.\n",
            "Step: 8 of 100.\n",
            "Step: 9 of 100.\n",
            "Step: 10 of 100.\n",
            "Refiner model loss: [0.7773678  0.08213493 0.69523288].\n",
            "Discriminator model loss real: [0.00185382].\n",
            "Discriminator model loss refined: [0.34658189].\n",
            "Step: 11 of 100.\n",
            "Step: 12 of 100.\n",
            "Step: 13 of 100.\n",
            "Step: 14 of 100.\n",
            "Step: 15 of 100.\n",
            "Step: 16 of 100.\n",
            "Step: 17 of 100.\n",
            "Step: 18 of 100.\n",
            "Step: 19 of 100.\n",
            "Step: 20 of 100.\n",
            "Refiner model loss: [0.70367267 0.00841001 0.69526266].\n",
            "Discriminator model loss real: [0.00022714].\n",
            "Discriminator model loss refined: [0.34657419].\n",
            "Step: 21 of 100.\n",
            "Step: 22 of 100.\n",
            "Step: 23 of 100.\n",
            "Step: 24 of 100.\n",
            "Step: 25 of 100.\n",
            "Step: 26 of 100.\n",
            "Step: 27 of 100.\n",
            "Step: 28 of 100.\n",
            "Step: 29 of 100.\n",
            "Step: 30 of 100.\n",
            "Refiner model loss: [0.79859564 0.10329817 0.69529748].\n",
            "Discriminator model loss real: [5.74615111e-05].\n",
            "Discriminator model loss refined: [0.34657331].\n",
            "Step: 31 of 100.\n",
            "Step: 32 of 100.\n",
            "Step: 33 of 100.\n",
            "Step: 34 of 100.\n",
            "Step: 35 of 100.\n",
            "Step: 36 of 100.\n",
            "Step: 37 of 100.\n",
            "Step: 38 of 100.\n",
            "Step: 39 of 100.\n",
            "Step: 40 of 100.\n",
            "Refiner model loss: [0.70210546 0.00683145 0.695274  ].\n",
            "Discriminator model loss real: [1.88307721e-05].\n",
            "Discriminator model loss refined: [0.34657302].\n",
            "Step: 41 of 100.\n",
            "Step: 42 of 100.\n",
            "Step: 43 of 100.\n",
            "Step: 44 of 100.\n",
            "Step: 45 of 100.\n",
            "Step: 46 of 100.\n",
            "Step: 47 of 100.\n",
            "Step: 48 of 100.\n",
            "Step: 49 of 100.\n",
            "Step: 50 of 100.\n",
            "Refiner model loss: [0.70193972 0.00668672 0.69525301].\n",
            "Discriminator model loss real: [6.36136156e-06].\n",
            "Discriminator model loss refined: [0.34657294].\n",
            "Step: 51 of 100.\n",
            "Step: 52 of 100.\n",
            "Step: 53 of 100.\n",
            "Step: 54 of 100.\n",
            "Step: 55 of 100.\n",
            "Step: 56 of 100.\n",
            "Step: 57 of 100.\n",
            "Step: 58 of 100.\n",
            "Step: 59 of 100.\n",
            "Step: 60 of 100.\n",
            "Refiner model loss: [0.86181403 0.16660096 0.69521307].\n",
            "Discriminator model loss real: [2.25977323e-06].\n",
            "Discriminator model loss refined: [0.34657294].\n",
            "Step: 61 of 100.\n",
            "Step: 62 of 100.\n",
            "Step: 63 of 100.\n",
            "Step: 64 of 100.\n",
            "Step: 65 of 100.\n",
            "Step: 66 of 100.\n",
            "Step: 67 of 100.\n",
            "Step: 68 of 100.\n",
            "Step: 69 of 100.\n",
            "Step: 70 of 100.\n",
            "Refiner model loss: [0.70245598 0.0071853  0.69527068].\n",
            "Discriminator model loss real: [4.83326028e-07].\n",
            "Discriminator model loss refined: [0.34657291].\n",
            "Step: 71 of 100.\n",
            "Step: 72 of 100.\n",
            "Step: 73 of 100.\n",
            "Step: 74 of 100.\n",
            "Step: 75 of 100.\n",
            "Step: 76 of 100.\n",
            "Step: 77 of 100.\n",
            "Step: 78 of 100.\n",
            "Step: 79 of 100.\n",
            "Step: 80 of 100.\n",
            "Refiner model loss: [0.70195264 0.00669511 0.69525754].\n",
            "Discriminator model loss real: [2.78715808e-07].\n",
            "Discriminator model loss refined: [0.34657292].\n",
            "Step: 81 of 100.\n",
            "Step: 82 of 100.\n",
            "Step: 83 of 100.\n",
            "Step: 84 of 100.\n",
            "Step: 85 of 100.\n",
            "Step: 86 of 100.\n",
            "Step: 87 of 100.\n",
            "Step: 88 of 100.\n",
            "Step: 89 of 100.\n",
            "Step: 90 of 100.\n",
            "Refiner model loss: [0.70193651 0.00668815 0.69524836].\n",
            "Discriminator model loss real: [0.00074105].\n",
            "Discriminator model loss refined: [0.35928753].\n",
            "Step: 91 of 100.\n",
            "Step: 92 of 100.\n",
            "Step: 93 of 100.\n",
            "Step: 94 of 100.\n",
            "Step: 95 of 100.\n",
            "Step: 96 of 100.\n",
            "Step: 97 of 100.\n",
            "Step: 98 of 100.\n",
            "Step: 99 of 100.\n"
          ]
        }
      ],
      "source": [
        "from image_history_buffer import ImageHistoryBuffer\n",
        "\n",
        "k_d = 1  # number of discriminator updates per step\n",
        "k_g = 2  # number of generative network updates per step\n",
        "nb_steps = 100 # original 1000\n",
        "\n",
        "###############\n",
        "HEIGHT = 50\n",
        "WIDTH = 100\n",
        "BATCH_SIZE = 32\n",
        "import numpy as np\n",
        "LOG_INTERVAL = 10\n",
        "MODEL_DIR = \"./model_temp/\"\n",
        "#############\n",
        "\n",
        "\n",
        "# TODO: what is an appropriate size for the image history buffer?\n",
        "image_history_buffer = ImageHistoryBuffer((0, HEIGHT, WIDTH, 1), BATCH_SIZE * 100, BATCH_SIZE)\n",
        "\n",
        "combined_loss = np.zeros(shape=len(combined_model.metrics_names))\n",
        "disc_loss_real = np.zeros(shape=len(discriminator_model.metrics_names))\n",
        "disc_loss_refined = np.zeros(shape=len(discriminator_model.metrics_names))\n",
        "\n",
        "# see Algorithm 1 in https://arxiv.org/pdf/1612.07828v1.pdf\n",
        "for i in range(nb_steps):\n",
        "    print('Step: {} of {}.'.format(i, nb_steps))\n",
        "\n",
        "    # train the refiner\n",
        "    for _ in range(k_g * 2):\n",
        "        # sample a mini-batch of synthetic images\n",
        "        synthetic_image_batch = get_image_batch(synth_generator())\n",
        "\n",
        "        # update θ by taking an SGD step on mini-batch loss LR(θ)\n",
        "        combined_loss = np.add(combined_model.train_on_batch(synthetic_image_batch,\n",
        "                                                             [synthetic_image_batch, y_real]), combined_loss)\n",
        "\n",
        "    for _ in range(k_d):\n",
        "        # sample a mini-batch of synthetic and real images\n",
        "        synthetic_image_batch = get_image_batch(synth_generator())\n",
        "        real_image_batch = get_image_batch(real_generator)\n",
        "\n",
        "        # refine the synthetic images w/ the current refiner\n",
        "        refined_image_batch = refiner_model.predict_on_batch(synthetic_image_batch)\n",
        "\n",
        "        # use a history of refined images\n",
        "        half_batch_from_image_history = image_history_buffer.get_from_image_history_buffer()\n",
        "        image_history_buffer.add_to_image_history_buffer(refined_image_batch)\n",
        "\n",
        "        if len(half_batch_from_image_history):\n",
        "            refined_image_batch[:batch_size // 2] = half_batch_from_image_history\n",
        "\n",
        "        # update φ by taking an SGD step on mini-batch loss LD(φ)\n",
        "        disc_loss_real = np.add(discriminator_model.train_on_batch(real_image_batch, y_real), disc_loss_real)\n",
        "        disc_loss_refined = np.add(discriminator_model.train_on_batch(refined_image_batch, y_refined),\n",
        "                                   disc_loss_refined)\n",
        "\n",
        "    if not i % LOG_INTERVAL:\n",
        "        # log loss summary\n",
        "        print('Refiner model loss: {}.'.format(combined_loss / (LOG_INTERVAL * k_g * 2)))\n",
        "        print('Discriminator model loss real: {}.'.format(disc_loss_real / (LOG_INTERVAL * k_d * 2)))\n",
        "        print('Discriminator model loss refined: {}.'.format(disc_loss_refined / (LOG_INTERVAL * k_d * 2)))\n",
        "\n",
        "        combined_loss = np.zeros(shape=len(combined_model.metrics_names))\n",
        "        disc_loss_real = np.zeros(shape=len(discriminator_model.metrics_names))\n",
        "        disc_loss_refined = np.zeros(shape=len(discriminator_model.metrics_names))\n",
        "\n",
        "        # save model checkpoints\n",
        "        model_checkpoint_base_name = os.path.join(MODEL_DIR, '{}_model_step_{}.h5')\n",
        "        refiner_model.save(model_checkpoint_base_name.format('refiner', i))\n",
        "        discriminator_model.save(model_checkpoint_base_name.format('discriminator', i))\n"
      ]
    },
    {
      "cell_type": "code",
      "execution_count": null,
      "metadata": {
        "id": "SRchvmE8PDys"
      },
      "outputs": [],
      "source": []
    },
    {
      "cell_type": "code",
      "execution_count": null,
      "metadata": {
        "id": "4mYcW9WhPDys"
      },
      "outputs": [],
      "source": []
    },
    {
      "cell_type": "code",
      "execution_count": null,
      "metadata": {
        "id": "yCMEQUOkPDys",
        "outputId": "4c9a523c-cc71-4790-d772-4f92aac1336d"
      },
      "outputs": [
        {
          "name": "stderr",
          "output_type": "stream",
          "text": [
            "W0517 05:56:55.932656 4431386112 deprecation_wrapper.py:119] From /Users/ashah04/anaconda3/envs/VE_python3/lib/python3.7/site-packages/keras/backend/tensorflow_backend.py:174: The name tf.get_default_session is deprecated. Please use tf.compat.v1.get_default_session instead.\n",
            "\n",
            "W0517 05:56:55.933335 4431386112 deprecation_wrapper.py:119] From /Users/ashah04/anaconda3/envs/VE_python3/lib/python3.7/site-packages/keras/backend/tensorflow_backend.py:181: The name tf.ConfigProto is deprecated. Please use tf.compat.v1.ConfigProto instead.\n",
            "\n"
          ]
        }
      ],
      "source": [
        "\n",
        "from keras.models import load_model\n",
        "refiner_model = load_model('/PycharmProjects/SimGAN_exps/\\\n",
        "SimGAN-Captcha/model_temp/refiner_model_step_70.h5', \\\n",
        "                             custom_objects={'self_regularization_loss': self_regularization_loss})\n",
        "\n",
        "discriminator_model = load_model('/PycharmProjects/SimGAN_exps/\\\n",
        "SimGAN-Captcha/model_temp/discriminator_model_step_70.h5', \\\n",
        "                             custom_objects={'local_adversarial_loss': local_adversarial_loss})"
      ]
    },
    {
      "cell_type": "markdown",
      "metadata": {
        "id": "jjxL5CdkPDys"
      },
      "source": [
        "# Results of SimGAN:\n",
        "\n",
        "As you can see below, we no longer have the cookie-cutter fonts. There are quite a few artifacts that did not exist before refinement. The edges are blurred and noisy - which is *impossible* to simulate heuristically. And it is exactly these tiny things that renders MNIST-like convnet useless.\n",
        "\n",
        "Now the refined results are basically the original captchas."
      ]
    },
    {
      "cell_type": "code",
      "execution_count": null,
      "metadata": {
        "id": "0JKFUhtqPDys"
      },
      "outputs": [],
      "source": [
        "synthetic_image_batch = get_image_batch(synth_generator())\n",
        "arr = refiner_model.predict_on_batch(synthetic_image_batch)"
      ]
    },
    {
      "cell_type": "code",
      "execution_count": null,
      "metadata": {
        "id": "z2WGAqg5PDys",
        "outputId": "e5730c15-40d9-45b1-f5d4-d933f180799c"
      },
      "outputs": [
        {
          "data": {
            "text/plain": [
              "<matplotlib.image.AxesImage at 0x7f838a20e668>"
            ]
          },
          "execution_count": 16,
          "metadata": {},
          "output_type": "execute_result"
        },
        {
          "data": {
            "image/png": "[encoded data removed]",
            "text/plain": [
              "<Figure size 432x288 with 1 Axes>"
            ]
          },
          "metadata": {
            "needs_background": "light"
          },
          "output_type": "display_data"
        }
      ],
      "source": [
        "import matplotlib.pyplot as plt\n",
        "plt.imshow(arr[20, :, :, 0])"
      ]
    },
    {
      "cell_type": "code",
      "execution_count": null,
      "metadata": {
        "id": "Ww6dP2m_PDyt",
        "outputId": "5fc76140-3c12-4bbc-81a6-5e830e2bac78"
      },
      "outputs": [
        {
          "data": {
            "text/plain": [
              "<matplotlib.image.AxesImage at 0x7f83a94d2470>"
            ]
          },
          "execution_count": 17,
          "metadata": {},
          "output_type": "execute_result"
        },
        {
          "data": {
            "image/png": "[encoded data removed]",
            "text/plain": [
              "<Figure size 432x288 with 1 Axes>"
            ]
          },
          "metadata": {
            "needs_background": "light"
          },
          "output_type": "display_data"
        }
      ],
      "source": [
        "plt.imshow(get_image_batch(real_generator)[2,:,:,0])"
      ]
    },
    {
      "cell_type": "markdown",
      "metadata": {
        "id": "524MnQ7NPDyt"
      },
      "source": [
        "# MNIST for Captcha\n",
        "\n",
        "Now we finish the puzzle by building an MNIST like convnet to predict captcha labels."
      ]
    },
    {
      "cell_type": "code",
      "execution_count": null,
      "metadata": {
        "id": "fHNLy2-ePDyt"
      },
      "outputs": [],
      "source": [
        "n_class = len(alphanumeric)\n",
        "\n",
        "def mnist_raw_generator(batch_size=128):\n",
        "    X = np.zeros((batch_size, HEIGHT, WIDTH, 1), dtype=np.uint8)\n",
        "    y = [np.zeros((batch_size, n_class), dtype=np.uint8) for _ in range(4)] # 4 chars\n",
        "    while True:\n",
        "        for i in range(batch_size):\n",
        "            im, random_str = gen_one()\n",
        "            X[i] = im\n",
        "            for j, ch in enumerate(random_str):\n",
        "                y[j][i, :] = 0\n",
        "                y[j][i, alphanumeric.find(ch)] = 1\n",
        "        yield np.array(X), y\n",
        "\n",
        "def mnist_generator(batch_size=128):\n",
        "    X = np.zeros((batch_size, HEIGHT, WIDTH, 1), dtype=np.uint8)\n",
        "    y = [np.zeros((batch_size, n_class), dtype=np.uint8) for _ in range(4)] # 4 chars\n",
        "    while True:\n",
        "        for i in range(batch_size):\n",
        "            im, random_str = gen_one()\n",
        "            X[i] = im\n",
        "            for j, ch in enumerate(random_str):\n",
        "                y[j][i, :] = 0\n",
        "                y[j][i, alphanumeric.find(ch)] = 1\n",
        "        yield refiner_model.predict(np.array(X)), y\n",
        "\n",
        "#mg = mnist_generator().next()\n",
        "mg = next(mnist_generator())\n",
        "\n",
        "# plt.imshow(mg[0][0,:,:,0]) # sanity check"
      ]
    },
    {
      "cell_type": "code",
      "execution_count": null,
      "metadata": {
        "scrolled": true,
        "id": "5lLQICBiPDyt",
        "outputId": "1faf16d7-0d7c-478f-af69-82dd9cc94f49"
      },
      "outputs": [
        {
          "name": "stderr",
          "output_type": "stream",
          "text": [
            "W0517 06:00:43.644506 4431386112 deprecation.py:506] From /Users/ashah04/anaconda3/envs/VE_python3/lib/python3.7/site-packages/keras/backend/tensorflow_backend.py:3445: calling dropout (from tensorflow.python.ops.nn_ops) with keep_prob is deprecated and will be removed in a future version.\n",
            "Instructions for updating:\n",
            "Please use `rate` instead of `keep_prob`. Rate should be set to `rate = 1 - keep_prob`.\n"
          ]
        }
      ],
      "source": [
        "from keras.layers import *\n",
        "\n",
        "input_tensor = Input((HEIGHT, WIDTH, 1))\n",
        "x = input_tensor\n",
        "x = Conv2D(32, kernel_size=(3, 3),\n",
        "                 activation='relu')(x)\n",
        "for _ in range(4):\n",
        "    x = Conv2D(128, (3, 3), activation='relu')(x)\n",
        "    x = MaxPooling2D(pool_size=(2, 2))(x)\n",
        "x = Dropout(0.25)(x)\n",
        "x = Flatten()(x)\n",
        "x = Dense(128, activation='relu')(x)\n",
        "x = Dropout(0.5)(x)\n",
        "x = [Dense(n_class, activation='softmax', name='c%d'%(i+1))(x) for i in range(4)]\n",
        "\n",
        "model = models.Model(inputs=input_tensor, outputs=x)\n",
        "model.compile(loss='categorical_crossentropy',\n",
        "              optimizer='rmsprop',\n",
        "              metrics=['accuracy'])"
      ]
    },
    {
      "cell_type": "code",
      "execution_count": null,
      "metadata": {
        "id": "e8TtZB85PDyt",
        "outputId": "075fa4c6-8760-42d1-a5be-845727844617"
      },
      "outputs": [
        {
          "name": "stderr",
          "output_type": "stream",
          "text": [
            "W0517 06:01:17.340676 4431386112 deprecation.py:323] From /Users/ashah04/anaconda3/envs/VE_python3/lib/python3.7/site-packages/tensorflow/python/ops/math_grad.py:1250: add_dispatch_support.<locals>.wrapper (from tensorflow.python.ops.array_ops) is deprecated and will be removed in a future version.\n",
            "Instructions for updating:\n",
            "Use tf.where in 2.0, which has the same broadcast rule as np.where\n"
          ]
        },
        {
          "name": "stdout",
          "output_type": "stream",
          "text": [
            "Epoch 1/20\n"
          ]
        }
      ],
      "source": [
        "from keras.callbacks import History\n",
        "history = History()\n",
        "model.fit_generator(mnist_generator(), steps_per_epoch=1000, epochs=20, callbacks=[history])  # 1000 --> 5"
      ]
    },
    {
      "cell_type": "markdown",
      "metadata": {
        "id": "tn0p6cLgPDyt"
      },
      "source": [
        "# Let's test the trained model\n",
        "\n",
        "## Synthetic"
      ]
    },
    {
      "cell_type": "code",
      "execution_count": null,
      "metadata": {
        "id": "w27xVthdPDyt",
        "outputId": "5e44a8db-ce8c-4e40-ce97-13dbf2014961"
      },
      "outputs": [
        {
          "data": {
            "text/plain": [
              "(-0.5, 99.5, 49.5, -0.5)"
            ]
          },
          "execution_count": 442,
          "metadata": {},
          "output_type": "execute_result"
        },
        {
          "data": {
            "image/png": "[encoded data removed]",
            "text/plain": [
              "<matplotlib.figure.Figure at 0x7f16046d9f90>"
            ]
          },
          "metadata": {},
          "output_type": "display_data"
        }
      ],
      "source": [
        "def decode(y):\n",
        "    y = np.argmax(np.array(y), axis=2)[:,0]\n",
        "    return ''.join([alphanumeric[x] for x in y])\n",
        "\n",
        "X, y = next(mnist_generator(1))\n",
        "plt.title('real: %s\\npred:%s'%(decode(y), decode(y_pred)))\n",
        "plt.imshow(X[0, :, :, 0], cmap='gray')\n",
        "plt.axis('off')"
      ]
    },
    {
      "cell_type": "markdown",
      "metadata": {
        "id": "X2T9Kqe6PDyt"
      },
      "source": [
        "## Real"
      ]
    },
    {
      "cell_type": "code",
      "execution_count": null,
      "metadata": {
        "id": "7RXBOBCYPDyt",
        "outputId": "4a65ead7-f4d7-4441-b81b-d965efb13038"
      },
      "outputs": [
        {
          "data": {
            "text/plain": [
              "(-0.5, 99.5, 49.5, -0.5)"
            ]
          },
          "execution_count": 441,
          "metadata": {},
          "output_type": "execute_result"
        },
        {
          "data": {
            "image/png": "[encoded data removed]",
            "text/plain": [
              "<matplotlib.figure.Figure at 0x7f160475bf90>"
            ]
          },
          "metadata": {},
          "output_type": "display_data"
        }
      ],
      "source": [
        "\n",
        "X = next(real_generator)\n",
        "X = refiner_model.predict(X)\n",
        "y_pred = model.predict(X)\n",
        "plt.title('pred:%s'%(decode(y_pred)))\n",
        "plt.imshow(X[0,:,:,0], cmap='gray')\n",
        "plt.axis('off')"
      ]
    },
    {
      "cell_type": "code",
      "execution_count": null,
      "metadata": {
        "collapsed": true,
        "id": "EU2W5zkWPDyt"
      },
      "outputs": [],
      "source": []
    }
  ],
  "metadata": {
    "kernelspec": {
      "display_name": "Python 3",
      "language": "python",
      "name": "python3"
    },
    "language_info": {
      "codemirror_mode": {
        "name": "ipython",
        "version": 3
      },
      "file_extension": ".py",
      "mimetype": "text/x-python",
      "name": "python",
      "nbconvert_exporter": "python",
      "pygments_lexer": "ipython3",
      "version": "3.8.8"
    },
    "colab": {
      "provenance": [],
      "include_colab_link": true
    }
  },
  "nbformat": 4,
  "nbformat_minor": 0
}