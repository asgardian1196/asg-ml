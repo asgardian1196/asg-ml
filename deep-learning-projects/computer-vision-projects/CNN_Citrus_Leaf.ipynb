{
  "metadata": {
    "kernelspec": {
      "language": "python",
      "display_name": "Python 3",
      "name": "python3"
    },
    "language_info": {
      "name": "python",
      "version": "3.7.12",
      "mimetype": "text/x-python",
      "codemirror_mode": {
        "name": "ipython",
        "version": 3
      },
      "pygments_lexer": "ipython3",
      "nbconvert_exporter": "python",
      "file_extension": ".py"
    },
    "colab": {
      "provenance": [],
      "include_colab_link": true
    },
    "widgets": {
      "application/vnd.jupyter.widget-state+json": {
        "8a0be87be0b944c6a3f62ef8e47d255d": {
          "model_module": "@jupyter-widgets/controls",
          "model_name": "HBoxModel",
          "model_module_version": "1.5.0",
          "state": {
            "_dom_classes": [],
            "_model_module": "@jupyter-widgets/controls",
            "_model_module_version": "1.5.0",
            "_model_name": "HBoxModel",
            "_view_count": null,
            "_view_module": "@jupyter-widgets/controls",
            "_view_module_version": "1.5.0",
            "_view_name": "HBoxView",
            "box_style": "",
            "children": [
              "IPY_MODEL_5b36ed11a01e403fbe23c724e466de0f",
              "IPY_MODEL_67cb664f3fd7431e917d5d84caef799a",
              "IPY_MODEL_3083d4aa539b4f17beba2e64be15f4b2"
            ],
            "layout": "IPY_MODEL_4e793579d63b4cc396e29f925ef11c2d"
          }
        },
        "5b36ed11a01e403fbe23c724e466de0f": {
          "model_module": "@jupyter-widgets/controls",
          "model_name": "HTMLModel",
          "model_module_version": "1.5.0",
          "state": {
            "_dom_classes": [],
            "_model_module": "@jupyter-widgets/controls",
            "_model_module_version": "1.5.0",
            "_model_name": "HTMLModel",
            "_view_count": null,
            "_view_module": "@jupyter-widgets/controls",
            "_view_module_version": "1.5.0",
            "_view_name": "HTMLView",
            "description": "",
            "description_tooltip": null,
            "layout": "IPY_MODEL_3a96f4af420e46748e92addbda5fc9d5",
            "placeholder": "​",
            "style": "IPY_MODEL_a4adcf36adf947f58b0f28be3415162c",
            "value": "Dl Completed...: 100%"
          }
        },
        "67cb664f3fd7431e917d5d84caef799a": {
          "model_module": "@jupyter-widgets/controls",
          "model_name": "FloatProgressModel",
          "model_module_version": "1.5.0",
          "state": {
            "_dom_classes": [],
            "_model_module": "@jupyter-widgets/controls",
            "_model_module_version": "1.5.0",
            "_model_name": "FloatProgressModel",
            "_view_count": null,
            "_view_module": "@jupyter-widgets/controls",
            "_view_module_version": "1.5.0",
            "_view_name": "ProgressView",
            "bar_style": "success",
            "description": "",
            "description_tooltip": null,
            "layout": "IPY_MODEL_010dd343372d49169cbfa4ac13b82c59",
            "max": 1,
            "min": 0,
            "orientation": "horizontal",
            "style": "IPY_MODEL_804f2bb1f35446e8ab7e1c6e37945cf9",
            "value": 1
          }
        },
        "3083d4aa539b4f17beba2e64be15f4b2": {
          "model_module": "@jupyter-widgets/controls",
          "model_name": "HTMLModel",
          "model_module_version": "1.5.0",
          "state": {
            "_dom_classes": [],
            "_model_module": "@jupyter-widgets/controls",
            "_model_module_version": "1.5.0",
            "_model_name": "HTMLModel",
            "_view_count": null,
            "_view_module": "@jupyter-widgets/controls",
            "_view_module_version": "1.5.0",
            "_view_name": "HTMLView",
            "description": "",
            "description_tooltip": null,
            "layout": "IPY_MODEL_39b51674f87a4b7c8cfdaa08a9d2902b",
            "placeholder": "​",
            "style": "IPY_MODEL_842bd4d9ba884a0ea51166a5c497d7b8",
            "value": " 1/1 [00:13&lt;00:00, 12.60s/ url]"
          }
        },
        "4e793579d63b4cc396e29f925ef11c2d": {
          "model_module": "@jupyter-widgets/base",
          "model_name": "LayoutModel",
          "model_module_version": "1.2.0",
          "state": {
            "_model_module": "@jupyter-widgets/base",
            "_model_module_version": "1.2.0",
            "_model_name": "LayoutModel",
            "_view_count": null,
            "_view_module": "@jupyter-widgets/base",
            "_view_module_version": "1.2.0",
            "_view_name": "LayoutView",
            "align_content": null,
            "align_items": null,
            "align_self": null,
            "border": null,
            "bottom": null,
            "display": null,
            "flex": null,
            "flex_flow": null,
            "grid_area": null,
            "grid_auto_columns": null,
            "grid_auto_flow": null,
            "grid_auto_rows": null,
            "grid_column": null,
            "grid_gap": null,
            "grid_row": null,
            "grid_template_areas": null,
            "grid_template_columns": null,
            "grid_template_rows": null,
            "height": null,
            "justify_content": null,
            "justify_items": null,
            "left": null,
            "margin": null,
            "max_height": null,
            "max_width": null,
            "min_height": null,
            "min_width": null,
            "object_fit": null,
            "object_position": null,
            "order": null,
            "overflow": null,
            "overflow_x": null,
            "overflow_y": null,
            "padding": null,
            "right": null,
            "top": null,
            "visibility": null,
            "width": null
          }
        },
        "3a96f4af420e46748e92addbda5fc9d5": {
          "model_module": "@jupyter-widgets/base",
          "model_name": "LayoutModel",
          "model_module_version": "1.2.0",
          "state": {
            "_model_module": "@jupyter-widgets/base",
            "_model_module_version": "1.2.0",
            "_model_name": "LayoutModel",
            "_view_count": null,
            "_view_module": "@jupyter-widgets/base",
            "_view_module_version": "1.2.0",
            "_view_name": "LayoutView",
            "align_content": null,
            "align_items": null,
            "align_self": null,
            "border": null,
            "bottom": null,
            "display": null,
            "flex": null,
            "flex_flow": null,
            "grid_area": null,
            "grid_auto_columns": null,
            "grid_auto_flow": null,
            "grid_auto_rows": null,
            "grid_column": null,
            "grid_gap": null,
            "grid_row": null,
            "grid_template_areas": null,
            "grid_template_columns": null,
            "grid_template_rows": null,
            "height": null,
            "justify_content": null,
            "justify_items": null,
            "left": null,
            "margin": null,
            "max_height": null,
            "max_width": null,
            "min_height": null,
            "min_width": null,
            "object_fit": null,
            "object_position": null,
            "order": null,
            "overflow": null,
            "overflow_x": null,
            "overflow_y": null,
            "padding": null,
            "right": null,
            "top": null,
            "visibility": null,
            "width": null
          }
        },
        "a4adcf36adf947f58b0f28be3415162c": {
          "model_module": "@jupyter-widgets/controls",
          "model_name": "DescriptionStyleModel",
          "model_module_version": "1.5.0",
          "state": {
            "_model_module": "@jupyter-widgets/controls",
            "_model_module_version": "1.5.0",
            "_model_name": "DescriptionStyleModel",
            "_view_count": null,
            "_view_module": "@jupyter-widgets/base",
            "_view_module_version": "1.2.0",
            "_view_name": "StyleView",
            "description_width": ""
          }
        },
        "010dd343372d49169cbfa4ac13b82c59": {
          "model_module": "@jupyter-widgets/base",
          "model_name": "LayoutModel",
          "model_module_version": "1.2.0",
          "state": {
            "_model_module": "@jupyter-widgets/base",
            "_model_module_version": "1.2.0",
            "_model_name": "LayoutModel",
            "_view_count": null,
            "_view_module": "@jupyter-widgets/base",
            "_view_module_version": "1.2.0",
            "_view_name": "LayoutView",
            "align_content": null,
            "align_items": null,
            "align_self": null,
            "border": null,
            "bottom": null,
            "display": null,
            "flex": null,
            "flex_flow": null,
            "grid_area": null,
            "grid_auto_columns": null,
            "grid_auto_flow": null,
            "grid_auto_rows": null,
            "grid_column": null,
            "grid_gap": null,
            "grid_row": null,
            "grid_template_areas": null,
            "grid_template_columns": null,
            "grid_template_rows": null,
            "height": null,
            "justify_content": null,
            "justify_items": null,
            "left": null,
            "margin": null,
            "max_height": null,
            "max_width": null,
            "min_height": null,
            "min_width": null,
            "object_fit": null,
            "object_position": null,
            "order": null,
            "overflow": null,
            "overflow_x": null,
            "overflow_y": null,
            "padding": null,
            "right": null,
            "top": null,
            "visibility": null,
            "width": "20px"
          }
        },
        "804f2bb1f35446e8ab7e1c6e37945cf9": {
          "model_module": "@jupyter-widgets/controls",
          "model_name": "ProgressStyleModel",
          "model_module_version": "1.5.0",
          "state": {
            "_model_module": "@jupyter-widgets/controls",
            "_model_module_version": "1.5.0",
            "_model_name": "ProgressStyleModel",
            "_view_count": null,
            "_view_module": "@jupyter-widgets/base",
            "_view_module_version": "1.2.0",
            "_view_name": "StyleView",
            "bar_color": null,
            "description_width": ""
          }
        },
        "39b51674f87a4b7c8cfdaa08a9d2902b": {
          "model_module": "@jupyter-widgets/base",
          "model_name": "LayoutModel",
          "model_module_version": "1.2.0",
          "state": {
            "_model_module": "@jupyter-widgets/base",
            "_model_module_version": "1.2.0",
            "_model_name": "LayoutModel",
            "_view_count": null,
            "_view_module": "@jupyter-widgets/base",
            "_view_module_version": "1.2.0",
            "_view_name": "LayoutView",
            "align_content": null,
            "align_items": null,
            "align_self": null,
            "border": null,
            "bottom": null,
            "display": null,
            "flex": null,
            "flex_flow": null,
            "grid_area": null,
            "grid_auto_columns": null,
            "grid_auto_flow": null,
            "grid_auto_rows": null,
            "grid_column": null,
            "grid_gap": null,
            "grid_row": null,
            "grid_template_areas": null,
            "grid_template_columns": null,
            "grid_template_rows": null,
            "height": null,
            "justify_content": null,
            "justify_items": null,
            "left": null,
            "margin": null,
            "max_height": null,
            "max_width": null,
            "min_height": null,
            "min_width": null,
            "object_fit": null,
            "object_position": null,
            "order": null,
            "overflow": null,
            "overflow_x": null,
            "overflow_y": null,
            "padding": null,
            "right": null,
            "top": null,
            "visibility": null,
            "width": null
          }
        },
        "842bd4d9ba884a0ea51166a5c497d7b8": {
          "model_module": "@jupyter-widgets/controls",
          "model_name": "DescriptionStyleModel",
          "model_module_version": "1.5.0",
          "state": {
            "_model_module": "@jupyter-widgets/controls",
            "_model_module_version": "1.5.0",
            "_model_name": "DescriptionStyleModel",
            "_view_count": null,
            "_view_module": "@jupyter-widgets/base",
            "_view_module_version": "1.2.0",
            "_view_name": "StyleView",
            "description_width": ""
          }
        },
        "03835074cc1d4c859b2a84b9cf8cfb14": {
          "model_module": "@jupyter-widgets/controls",
          "model_name": "HBoxModel",
          "model_module_version": "1.5.0",
          "state": {
            "_dom_classes": [],
            "_model_module": "@jupyter-widgets/controls",
            "_model_module_version": "1.5.0",
            "_model_name": "HBoxModel",
            "_view_count": null,
            "_view_module": "@jupyter-widgets/controls",
            "_view_module_version": "1.5.0",
            "_view_name": "HBoxView",
            "box_style": "",
            "children": [
              "IPY_MODEL_c720b72fc1bc465a8651b656b62a1b41",
              "IPY_MODEL_92142c6180734d01863512a08cb7bf5c",
              "IPY_MODEL_4a7137b0d460497ea133550e1f668cd4"
            ],
            "layout": "IPY_MODEL_c73416edd683490cb4e2f4481c94967c"
          }
        },
        "c720b72fc1bc465a8651b656b62a1b41": {
          "model_module": "@jupyter-widgets/controls",
          "model_name": "HTMLModel",
          "model_module_version": "1.5.0",
          "state": {
            "_dom_classes": [],
            "_model_module": "@jupyter-widgets/controls",
            "_model_module_version": "1.5.0",
            "_model_name": "HTMLModel",
            "_view_count": null,
            "_view_module": "@jupyter-widgets/controls",
            "_view_module_version": "1.5.0",
            "_view_name": "HTMLView",
            "description": "",
            "description_tooltip": null,
            "layout": "IPY_MODEL_94a76bad3b3a41408bf2bcac6d6819c4",
            "placeholder": "​",
            "style": "IPY_MODEL_0d76713a1ea742468e8f1f0e42dfcf04",
            "value": "Dl Size...: 100%"
          }
        },
        "92142c6180734d01863512a08cb7bf5c": {
          "model_module": "@jupyter-widgets/controls",
          "model_name": "FloatProgressModel",
          "model_module_version": "1.5.0",
          "state": {
            "_dom_classes": [],
            "_model_module": "@jupyter-widgets/controls",
            "_model_module_version": "1.5.0",
            "_model_name": "FloatProgressModel",
            "_view_count": null,
            "_view_module": "@jupyter-widgets/controls",
            "_view_module_version": "1.5.0",
            "_view_name": "ProgressView",
            "bar_style": "success",
            "description": "",
            "description_tooltip": null,
            "layout": "IPY_MODEL_659d046a047d4a919307531a2f9a338d",
            "max": 1,
            "min": 0,
            "orientation": "horizontal",
            "style": "IPY_MODEL_29885898eb1949eba66ddb1bbb67232e",
            "value": 1
          }
        },
        "4a7137b0d460497ea133550e1f668cd4": {
          "model_module": "@jupyter-widgets/controls",
          "model_name": "HTMLModel",
          "model_module_version": "1.5.0",
          "state": {
            "_dom_classes": [],
            "_model_module": "@jupyter-widgets/controls",
            "_model_module_version": "1.5.0",
            "_model_name": "HTMLModel",
            "_view_count": null,
            "_view_module": "@jupyter-widgets/controls",
            "_view_module_version": "1.5.0",
            "_view_name": "HTMLView",
            "description": "",
            "description_tooltip": null,
            "layout": "IPY_MODEL_2d6969148ebf49a59b252a79ef87afcd",
            "placeholder": "​",
            "style": "IPY_MODEL_3af2b1a177bf42f286888ce5b418390e",
            "value": " 63/63 [00:13&lt;00:00,  9.38 MiB/s]"
          }
        },
        "c73416edd683490cb4e2f4481c94967c": {
          "model_module": "@jupyter-widgets/base",
          "model_name": "LayoutModel",
          "model_module_version": "1.2.0",
          "state": {
            "_model_module": "@jupyter-widgets/base",
            "_model_module_version": "1.2.0",
            "_model_name": "LayoutModel",
            "_view_count": null,
            "_view_module": "@jupyter-widgets/base",
            "_view_module_version": "1.2.0",
            "_view_name": "LayoutView",
            "align_content": null,
            "align_items": null,
            "align_self": null,
            "border": null,
            "bottom": null,
            "display": null,
            "flex": null,
            "flex_flow": null,
            "grid_area": null,
            "grid_auto_columns": null,
            "grid_auto_flow": null,
            "grid_auto_rows": null,
            "grid_column": null,
            "grid_gap": null,
            "grid_row": null,
            "grid_template_areas": null,
            "grid_template_columns": null,
            "grid_template_rows": null,
            "height": null,
            "justify_content": null,
            "justify_items": null,
            "left": null,
            "margin": null,
            "max_height": null,
            "max_width": null,
            "min_height": null,
            "min_width": null,
            "object_fit": null,
            "object_position": null,
            "order": null,
            "overflow": null,
            "overflow_x": null,
            "overflow_y": null,
            "padding": null,
            "right": null,
            "top": null,
            "visibility": null,
            "width": null
          }
        },
        "94a76bad3b3a41408bf2bcac6d6819c4": {
          "model_module": "@jupyter-widgets/base",
          "model_name": "LayoutModel",
          "model_module_version": "1.2.0",
          "state": {
            "_model_module": "@jupyter-widgets/base",
            "_model_module_version": "1.2.0",
            "_model_name": "LayoutModel",
            "_view_count": null,
            "_view_module": "@jupyter-widgets/base",
            "_view_module_version": "1.2.0",
            "_view_name": "LayoutView",
            "align_content": null,
            "align_items": null,
            "align_self": null,
            "border": null,
            "bottom": null,
            "display": null,
            "flex": null,
            "flex_flow": null,
            "grid_area": null,
            "grid_auto_columns": null,
            "grid_auto_flow": null,
            "grid_auto_rows": null,
            "grid_column": null,
            "grid_gap": null,
            "grid_row": null,
            "grid_template_areas": null,
            "grid_template_columns": null,
            "grid_template_rows": null,
            "height": null,
            "justify_content": null,
            "justify_items": null,
            "left": null,
            "margin": null,
            "max_height": null,
            "max_width": null,
            "min_height": null,
            "min_width": null,
            "object_fit": null,
            "object_position": null,
            "order": null,
            "overflow": null,
            "overflow_x": null,
            "overflow_y": null,
            "padding": null,
            "right": null,
            "top": null,
            "visibility": null,
            "width": null
          }
        },
        "0d76713a1ea742468e8f1f0e42dfcf04": {
          "model_module": "@jupyter-widgets/controls",
          "model_name": "DescriptionStyleModel",
          "model_module_version": "1.5.0",
          "state": {
            "_model_module": "@jupyter-widgets/controls",
            "_model_module_version": "1.5.0",
            "_model_name": "DescriptionStyleModel",
            "_view_count": null,
            "_view_module": "@jupyter-widgets/base",
            "_view_module_version": "1.2.0",
            "_view_name": "StyleView",
            "description_width": ""
          }
        },
        "659d046a047d4a919307531a2f9a338d": {
          "model_module": "@jupyter-widgets/base",
          "model_name": "LayoutModel",
          "model_module_version": "1.2.0",
          "state": {
            "_model_module": "@jupyter-widgets/base",
            "_model_module_version": "1.2.0",
            "_model_name": "LayoutModel",
            "_view_count": null,
            "_view_module": "@jupyter-widgets/base",
            "_view_module_version": "1.2.0",
            "_view_name": "LayoutView",
            "align_content": null,
            "align_items": null,
            "align_self": null,
            "border": null,
            "bottom": null,
            "display": null,
            "flex": null,
            "flex_flow": null,
            "grid_area": null,
            "grid_auto_columns": null,
            "grid_auto_flow": null,
            "grid_auto_rows": null,
            "grid_column": null,
            "grid_gap": null,
            "grid_row": null,
            "grid_template_areas": null,
            "grid_template_columns": null,
            "grid_template_rows": null,
            "height": null,
            "justify_content": null,
            "justify_items": null,
            "left": null,
            "margin": null,
            "max_height": null,
            "max_width": null,
            "min_height": null,
            "min_width": null,
            "object_fit": null,
            "object_position": null,
            "order": null,
            "overflow": null,
            "overflow_x": null,
            "overflow_y": null,
            "padding": null,
            "right": null,
            "top": null,
            "visibility": null,
            "width": "20px"
          }
        },
        "29885898eb1949eba66ddb1bbb67232e": {
          "model_module": "@jupyter-widgets/controls",
          "model_name": "ProgressStyleModel",
          "model_module_version": "1.5.0",
          "state": {
            "_model_module": "@jupyter-widgets/controls",
            "_model_module_version": "1.5.0",
            "_model_name": "ProgressStyleModel",
            "_view_count": null,
            "_view_module": "@jupyter-widgets/base",
            "_view_module_version": "1.2.0",
            "_view_name": "StyleView",
            "bar_color": null,
            "description_width": ""
          }
        },
        "2d6969148ebf49a59b252a79ef87afcd": {
          "model_module": "@jupyter-widgets/base",
          "model_name": "LayoutModel",
          "model_module_version": "1.2.0",
          "state": {
            "_model_module": "@jupyter-widgets/base",
            "_model_module_version": "1.2.0",
            "_model_name": "LayoutModel",
            "_view_count": null,
            "_view_module": "@jupyter-widgets/base",
            "_view_module_version": "1.2.0",
            "_view_name": "LayoutView",
            "align_content": null,
            "align_items": null,
            "align_self": null,
            "border": null,
            "bottom": null,
            "display": null,
            "flex": null,
            "flex_flow": null,
            "grid_area": null,
            "grid_auto_columns": null,
            "grid_auto_flow": null,
            "grid_auto_rows": null,
            "grid_column": null,
            "grid_gap": null,
            "grid_row": null,
            "grid_template_areas": null,
            "grid_template_columns": null,
            "grid_template_rows": null,
            "height": null,
            "justify_content": null,
            "justify_items": null,
            "left": null,
            "margin": null,
            "max_height": null,
            "max_width": null,
            "min_height": null,
            "min_width": null,
            "object_fit": null,
            "object_position": null,
            "order": null,
            "overflow": null,
            "overflow_x": null,
            "overflow_y": null,
            "padding": null,
            "right": null,
            "top": null,
            "visibility": null,
            "width": null
          }
        },
        "3af2b1a177bf42f286888ce5b418390e": {
          "model_module": "@jupyter-widgets/controls",
          "model_name": "DescriptionStyleModel",
          "model_module_version": "1.5.0",
          "state": {
            "_model_module": "@jupyter-widgets/controls",
            "_model_module_version": "1.5.0",
            "_model_name": "DescriptionStyleModel",
            "_view_count": null,
            "_view_module": "@jupyter-widgets/base",
            "_view_module_version": "1.2.0",
            "_view_name": "StyleView",
            "description_width": ""
          }
        },
        "f3c493987afd484d8c70810e29af2720": {
          "model_module": "@jupyter-widgets/controls",
          "model_name": "HBoxModel",
          "model_module_version": "1.5.0",
          "state": {
            "_dom_classes": [],
            "_model_module": "@jupyter-widgets/controls",
            "_model_module_version": "1.5.0",
            "_model_name": "HBoxModel",
            "_view_count": null,
            "_view_module": "@jupyter-widgets/controls",
            "_view_module_version": "1.5.0",
            "_view_name": "HBoxView",
            "box_style": "",
            "children": [
              "IPY_MODEL_29c7e809af09405892ccaa55eb2e2190",
              "IPY_MODEL_7ce88bed1de742a5ad5c163c990b6ed8",
              "IPY_MODEL_f0eb579ca3bf4b7388bfb9b58c30bf03"
            ],
            "layout": "IPY_MODEL_985622b83065490d8f057967e1a684c3"
          }
        },
        "29c7e809af09405892ccaa55eb2e2190": {
          "model_module": "@jupyter-widgets/controls",
          "model_name": "HTMLModel",
          "model_module_version": "1.5.0",
          "state": {
            "_dom_classes": [],
            "_model_module": "@jupyter-widgets/controls",
            "_model_module_version": "1.5.0",
            "_model_name": "HTMLModel",
            "_view_count": null,
            "_view_module": "@jupyter-widgets/controls",
            "_view_module_version": "1.5.0",
            "_view_name": "HTMLView",
            "description": "",
            "description_tooltip": null,
            "layout": "IPY_MODEL_cc96f428befd4eb49091b7d41a6ceebb",
            "placeholder": "​",
            "style": "IPY_MODEL_4d699922b5e844479643cf14ec2c9910",
            "value": "Extraction completed...: 100%"
          }
        },
        "7ce88bed1de742a5ad5c163c990b6ed8": {
          "model_module": "@jupyter-widgets/controls",
          "model_name": "FloatProgressModel",
          "model_module_version": "1.5.0",
          "state": {
            "_dom_classes": [],
            "_model_module": "@jupyter-widgets/controls",
            "_model_module_version": "1.5.0",
            "_model_name": "FloatProgressModel",
            "_view_count": null,
            "_view_module": "@jupyter-widgets/controls",
            "_view_module_version": "1.5.0",
            "_view_name": "ProgressView",
            "bar_style": "success",
            "description": "",
            "description_tooltip": null,
            "layout": "IPY_MODEL_9b024f48e8ef404097e06fc8af083747",
            "max": 1,
            "min": 0,
            "orientation": "horizontal",
            "style": "IPY_MODEL_65a8c4a6927b4aad9e4988e748153355",
            "value": 1
          }
        },
        "f0eb579ca3bf4b7388bfb9b58c30bf03": {
          "model_module": "@jupyter-widgets/controls",
          "model_name": "HTMLModel",
          "model_module_version": "1.5.0",
          "state": {
            "_dom_classes": [],
            "_model_module": "@jupyter-widgets/controls",
            "_model_module_version": "1.5.0",
            "_model_name": "HTMLModel",
            "_view_count": null,
            "_view_module": "@jupyter-widgets/controls",
            "_view_module_version": "1.5.0",
            "_view_name": "HTMLView",
            "description": "",
            "description_tooltip": null,
            "layout": "IPY_MODEL_4ba9a6391c1c44a8bd9eaa7daf2c9e3b",
            "placeholder": "​",
            "style": "IPY_MODEL_beb7ce4e3cfc4f37b6f24b7f3fcfa259",
            "value": " 1/1 [00:13&lt;00:00, 13.14s/ file]"
          }
        },
        "985622b83065490d8f057967e1a684c3": {
          "model_module": "@jupyter-widgets/base",
          "model_name": "LayoutModel",
          "model_module_version": "1.2.0",
          "state": {
            "_model_module": "@jupyter-widgets/base",
            "_model_module_version": "1.2.0",
            "_model_name": "LayoutModel",
            "_view_count": null,
            "_view_module": "@jupyter-widgets/base",
            "_view_module_version": "1.2.0",
            "_view_name": "LayoutView",
            "align_content": null,
            "align_items": null,
            "align_self": null,
            "border": null,
            "bottom": null,
            "display": null,
            "flex": null,
            "flex_flow": null,
            "grid_area": null,
            "grid_auto_columns": null,
            "grid_auto_flow": null,
            "grid_auto_rows": null,
            "grid_column": null,
            "grid_gap": null,
            "grid_row": null,
            "grid_template_areas": null,
            "grid_template_columns": null,
            "grid_template_rows": null,
            "height": null,
            "justify_content": null,
            "justify_items": null,
            "left": null,
            "margin": null,
            "max_height": null,
            "max_width": null,
            "min_height": null,
            "min_width": null,
            "object_fit": null,
            "object_position": null,
            "order": null,
            "overflow": null,
            "overflow_x": null,
            "overflow_y": null,
            "padding": null,
            "right": null,
            "top": null,
            "visibility": null,
            "width": null
          }
        },
        "cc96f428befd4eb49091b7d41a6ceebb": {
          "model_module": "@jupyter-widgets/base",
          "model_name": "LayoutModel",
          "model_module_version": "1.2.0",
          "state": {
            "_model_module": "@jupyter-widgets/base",
            "_model_module_version": "1.2.0",
            "_model_name": "LayoutModel",
            "_view_count": null,
            "_view_module": "@jupyter-widgets/base",
            "_view_module_version": "1.2.0",
            "_view_name": "LayoutView",
            "align_content": null,
            "align_items": null,
            "align_self": null,
            "border": null,
            "bottom": null,
            "display": null,
            "flex": null,
            "flex_flow": null,
            "grid_area": null,
            "grid_auto_columns": null,
            "grid_auto_flow": null,
            "grid_auto_rows": null,
            "grid_column": null,
            "grid_gap": null,
            "grid_row": null,
            "grid_template_areas": null,
            "grid_template_columns": null,
            "grid_template_rows": null,
            "height": null,
            "justify_content": null,
            "justify_items": null,
            "left": null,
            "margin": null,
            "max_height": null,
            "max_width": null,
            "min_height": null,
            "min_width": null,
            "object_fit": null,
            "object_position": null,
            "order": null,
            "overflow": null,
            "overflow_x": null,
            "overflow_y": null,
            "padding": null,
            "right": null,
            "top": null,
            "visibility": null,
            "width": null
          }
        },
        "4d699922b5e844479643cf14ec2c9910": {
          "model_module": "@jupyter-widgets/controls",
          "model_name": "DescriptionStyleModel",
          "model_module_version": "1.5.0",
          "state": {
            "_model_module": "@jupyter-widgets/controls",
            "_model_module_version": "1.5.0",
            "_model_name": "DescriptionStyleModel",
            "_view_count": null,
            "_view_module": "@jupyter-widgets/base",
            "_view_module_version": "1.2.0",
            "_view_name": "StyleView",
            "description_width": ""
          }
        },
        "9b024f48e8ef404097e06fc8af083747": {
          "model_module": "@jupyter-widgets/base",
          "model_name": "LayoutModel",
          "model_module_version": "1.2.0",
          "state": {
            "_model_module": "@jupyter-widgets/base",
            "_model_module_version": "1.2.0",
            "_model_name": "LayoutModel",
            "_view_count": null,
            "_view_module": "@jupyter-widgets/base",
            "_view_module_version": "1.2.0",
            "_view_name": "LayoutView",
            "align_content": null,
            "align_items": null,
            "align_self": null,
            "border": null,
            "bottom": null,
            "display": null,
            "flex": null,
            "flex_flow": null,
            "grid_area": null,
            "grid_auto_columns": null,
            "grid_auto_flow": null,
            "grid_auto_rows": null,
            "grid_column": null,
            "grid_gap": null,
            "grid_row": null,
            "grid_template_areas": null,
            "grid_template_columns": null,
            "grid_template_rows": null,
            "height": null,
            "justify_content": null,
            "justify_items": null,
            "left": null,
            "margin": null,
            "max_height": null,
            "max_width": null,
            "min_height": null,
            "min_width": null,
            "object_fit": null,
            "object_position": null,
            "order": null,
            "overflow": null,
            "overflow_x": null,
            "overflow_y": null,
            "padding": null,
            "right": null,
            "top": null,
            "visibility": null,
            "width": "20px"
          }
        },
        "65a8c4a6927b4aad9e4988e748153355": {
          "model_module": "@jupyter-widgets/controls",
          "model_name": "ProgressStyleModel",
          "model_module_version": "1.5.0",
          "state": {
            "_model_module": "@jupyter-widgets/controls",
            "_model_module_version": "1.5.0",
            "_model_name": "ProgressStyleModel",
            "_view_count": null,
            "_view_module": "@jupyter-widgets/base",
            "_view_module_version": "1.2.0",
            "_view_name": "StyleView",
            "bar_color": null,
            "description_width": ""
          }
        },
        "4ba9a6391c1c44a8bd9eaa7daf2c9e3b": {
          "model_module": "@jupyter-widgets/base",
          "model_name": "LayoutModel",
          "model_module_version": "1.2.0",
          "state": {
            "_model_module": "@jupyter-widgets/base",
            "_model_module_version": "1.2.0",
            "_model_name": "LayoutModel",
            "_view_count": null,
            "_view_module": "@jupyter-widgets/base",
            "_view_module_version": "1.2.0",
            "_view_name": "LayoutView",
            "align_content": null,
            "align_items": null,
            "align_self": null,
            "border": null,
            "bottom": null,
            "display": null,
            "flex": null,
            "flex_flow": null,
            "grid_area": null,
            "grid_auto_columns": null,
            "grid_auto_flow": null,
            "grid_auto_rows": null,
            "grid_column": null,
            "grid_gap": null,
            "grid_row": null,
            "grid_template_areas": null,
            "grid_template_columns": null,
            "grid_template_rows": null,
            "height": null,
            "justify_content": null,
            "justify_items": null,
            "left": null,
            "margin": null,
            "max_height": null,
            "max_width": null,
            "min_height": null,
            "min_width": null,
            "object_fit": null,
            "object_position": null,
            "order": null,
            "overflow": null,
            "overflow_x": null,
            "overflow_y": null,
            "padding": null,
            "right": null,
            "top": null,
            "visibility": null,
            "width": null
          }
        },
        "beb7ce4e3cfc4f37b6f24b7f3fcfa259": {
          "model_module": "@jupyter-widgets/controls",
          "model_name": "DescriptionStyleModel",
          "model_module_version": "1.5.0",
          "state": {
            "_model_module": "@jupyter-widgets/controls",
            "_model_module_version": "1.5.0",
            "_model_name": "DescriptionStyleModel",
            "_view_count": null,
            "_view_module": "@jupyter-widgets/base",
            "_view_module_version": "1.2.0",
            "_view_name": "StyleView",
            "description_width": ""
          }
        },
        "ac8b2689670643c493bdc616530dc511": {
          "model_module": "@jupyter-widgets/controls",
          "model_name": "HBoxModel",
          "model_module_version": "1.5.0",
          "state": {
            "_dom_classes": [],
            "_model_module": "@jupyter-widgets/controls",
            "_model_module_version": "1.5.0",
            "_model_name": "HBoxModel",
            "_view_count": null,
            "_view_module": "@jupyter-widgets/controls",
            "_view_module_version": "1.5.0",
            "_view_name": "HBoxView",
            "box_style": "",
            "children": [
              "IPY_MODEL_d0961f1338ed4f6abf577a54d16649e6",
              "IPY_MODEL_6ff77499a0b34b8aa74f4db6b0c5396d",
              "IPY_MODEL_942af73a636344f983825bd962957495"
            ],
            "layout": "IPY_MODEL_a8b66f14cc6c4745988a6809d244d54a"
          }
        },
        "d0961f1338ed4f6abf577a54d16649e6": {
          "model_module": "@jupyter-widgets/controls",
          "model_name": "HTMLModel",
          "model_module_version": "1.5.0",
          "state": {
            "_dom_classes": [],
            "_model_module": "@jupyter-widgets/controls",
            "_model_module_version": "1.5.0",
            "_model_name": "HTMLModel",
            "_view_count": null,
            "_view_module": "@jupyter-widgets/controls",
            "_view_module_version": "1.5.0",
            "_view_name": "HTMLView",
            "description": "",
            "description_tooltip": null,
            "layout": "IPY_MODEL_c0c43a71fac34fa8878f5d197daaa943",
            "placeholder": "​",
            "style": "IPY_MODEL_b4c951a08f6e44719dea2cbe75a5f86f",
            "value": ""
          }
        },
        "6ff77499a0b34b8aa74f4db6b0c5396d": {
          "model_module": "@jupyter-widgets/controls",
          "model_name": "FloatProgressModel",
          "model_module_version": "1.5.0",
          "state": {
            "_dom_classes": [],
            "_model_module": "@jupyter-widgets/controls",
            "_model_module_version": "1.5.0",
            "_model_name": "FloatProgressModel",
            "_view_count": null,
            "_view_module": "@jupyter-widgets/controls",
            "_view_module_version": "1.5.0",
            "_view_name": "ProgressView",
            "bar_style": "info",
            "description": "",
            "description_tooltip": null,
            "layout": "IPY_MODEL_5c83d0fce483449cba357670232ea541",
            "max": 1,
            "min": 0,
            "orientation": "horizontal",
            "style": "IPY_MODEL_a1329086a11b48bd9f123444c30ac4c9",
            "value": 1
          }
        },
        "942af73a636344f983825bd962957495": {
          "model_module": "@jupyter-widgets/controls",
          "model_name": "HTMLModel",
          "model_module_version": "1.5.0",
          "state": {
            "_dom_classes": [],
            "_model_module": "@jupyter-widgets/controls",
            "_model_module_version": "1.5.0",
            "_model_name": "HTMLModel",
            "_view_count": null,
            "_view_module": "@jupyter-widgets/controls",
            "_view_module_version": "1.5.0",
            "_view_name": "HTMLView",
            "description": "",
            "description_tooltip": null,
            "layout": "IPY_MODEL_db3ddaf6218441c9abbc6496c6df5420",
            "placeholder": "​",
            "style": "IPY_MODEL_4a0553f8a520490b8c9ed811491999c5",
            "value": " 450/0 [00:00&lt;00:00, 1199.35 examples/s]"
          }
        },
        "a8b66f14cc6c4745988a6809d244d54a": {
          "model_module": "@jupyter-widgets/base",
          "model_name": "LayoutModel",
          "model_module_version": "1.2.0",
          "state": {
            "_model_module": "@jupyter-widgets/base",
            "_model_module_version": "1.2.0",
            "_model_name": "LayoutModel",
            "_view_count": null,
            "_view_module": "@jupyter-widgets/base",
            "_view_module_version": "1.2.0",
            "_view_name": "LayoutView",
            "align_content": null,
            "align_items": null,
            "align_self": null,
            "border": null,
            "bottom": null,
            "display": null,
            "flex": null,
            "flex_flow": null,
            "grid_area": null,
            "grid_auto_columns": null,
            "grid_auto_flow": null,
            "grid_auto_rows": null,
            "grid_column": null,
            "grid_gap": null,
            "grid_row": null,
            "grid_template_areas": null,
            "grid_template_columns": null,
            "grid_template_rows": null,
            "height": null,
            "justify_content": null,
            "justify_items": null,
            "left": null,
            "margin": null,
            "max_height": null,
            "max_width": null,
            "min_height": null,
            "min_width": null,
            "object_fit": null,
            "object_position": null,
            "order": null,
            "overflow": null,
            "overflow_x": null,
            "overflow_y": null,
            "padding": null,
            "right": null,
            "top": null,
            "visibility": null,
            "width": null
          }
        },
        "c0c43a71fac34fa8878f5d197daaa943": {
          "model_module": "@jupyter-widgets/base",
          "model_name": "LayoutModel",
          "model_module_version": "1.2.0",
          "state": {
            "_model_module": "@jupyter-widgets/base",
            "_model_module_version": "1.2.0",
            "_model_name": "LayoutModel",
            "_view_count": null,
            "_view_module": "@jupyter-widgets/base",
            "_view_module_version": "1.2.0",
            "_view_name": "LayoutView",
            "align_content": null,
            "align_items": null,
            "align_self": null,
            "border": null,
            "bottom": null,
            "display": null,
            "flex": null,
            "flex_flow": null,
            "grid_area": null,
            "grid_auto_columns": null,
            "grid_auto_flow": null,
            "grid_auto_rows": null,
            "grid_column": null,
            "grid_gap": null,
            "grid_row": null,
            "grid_template_areas": null,
            "grid_template_columns": null,
            "grid_template_rows": null,
            "height": null,
            "justify_content": null,
            "justify_items": null,
            "left": null,
            "margin": null,
            "max_height": null,
            "max_width": null,
            "min_height": null,
            "min_width": null,
            "object_fit": null,
            "object_position": null,
            "order": null,
            "overflow": null,
            "overflow_x": null,
            "overflow_y": null,
            "padding": null,
            "right": null,
            "top": null,
            "visibility": null,
            "width": null
          }
        },
        "b4c951a08f6e44719dea2cbe75a5f86f": {
          "model_module": "@jupyter-widgets/controls",
          "model_name": "DescriptionStyleModel",
          "model_module_version": "1.5.0",
          "state": {
            "_model_module": "@jupyter-widgets/controls",
            "_model_module_version": "1.5.0",
            "_model_name": "DescriptionStyleModel",
            "_view_count": null,
            "_view_module": "@jupyter-widgets/base",
            "_view_module_version": "1.2.0",
            "_view_name": "StyleView",
            "description_width": ""
          }
        },
        "5c83d0fce483449cba357670232ea541": {
          "model_module": "@jupyter-widgets/base",
          "model_name": "LayoutModel",
          "model_module_version": "1.2.0",
          "state": {
            "_model_module": "@jupyter-widgets/base",
            "_model_module_version": "1.2.0",
            "_model_name": "LayoutModel",
            "_view_count": null,
            "_view_module": "@jupyter-widgets/base",
            "_view_module_version": "1.2.0",
            "_view_name": "LayoutView",
            "align_content": null,
            "align_items": null,
            "align_self": null,
            "border": null,
            "bottom": null,
            "display": null,
            "flex": null,
            "flex_flow": null,
            "grid_area": null,
            "grid_auto_columns": null,
            "grid_auto_flow": null,
            "grid_auto_rows": null,
            "grid_column": null,
            "grid_gap": null,
            "grid_row": null,
            "grid_template_areas": null,
            "grid_template_columns": null,
            "grid_template_rows": null,
            "height": null,
            "justify_content": null,
            "justify_items": null,
            "left": null,
            "margin": null,
            "max_height": null,
            "max_width": null,
            "min_height": null,
            "min_width": null,
            "object_fit": null,
            "object_position": null,
            "order": null,
            "overflow": null,
            "overflow_x": null,
            "overflow_y": null,
            "padding": null,
            "right": null,
            "top": null,
            "visibility": null,
            "width": "20px"
          }
        },
        "a1329086a11b48bd9f123444c30ac4c9": {
          "model_module": "@jupyter-widgets/controls",
          "model_name": "ProgressStyleModel",
          "model_module_version": "1.5.0",
          "state": {
            "_model_module": "@jupyter-widgets/controls",
            "_model_module_version": "1.5.0",
            "_model_name": "ProgressStyleModel",
            "_view_count": null,
            "_view_module": "@jupyter-widgets/base",
            "_view_module_version": "1.2.0",
            "_view_name": "StyleView",
            "bar_color": null,
            "description_width": ""
          }
        },
        "db3ddaf6218441c9abbc6496c6df5420": {
          "model_module": "@jupyter-widgets/base",
          "model_name": "LayoutModel",
          "model_module_version": "1.2.0",
          "state": {
            "_model_module": "@jupyter-widgets/base",
            "_model_module_version": "1.2.0",
            "_model_name": "LayoutModel",
            "_view_count": null,
            "_view_module": "@jupyter-widgets/base",
            "_view_module_version": "1.2.0",
            "_view_name": "LayoutView",
            "align_content": null,
            "align_items": null,
            "align_self": null,
            "border": null,
            "bottom": null,
            "display": null,
            "flex": null,
            "flex_flow": null,
            "grid_area": null,
            "grid_auto_columns": null,
            "grid_auto_flow": null,
            "grid_auto_rows": null,
            "grid_column": null,
            "grid_gap": null,
            "grid_row": null,
            "grid_template_areas": null,
            "grid_template_columns": null,
            "grid_template_rows": null,
            "height": null,
            "justify_content": null,
            "justify_items": null,
            "left": null,
            "margin": null,
            "max_height": null,
            "max_width": null,
            "min_height": null,
            "min_width": null,
            "object_fit": null,
            "object_position": null,
            "order": null,
            "overflow": null,
            "overflow_x": null,
            "overflow_y": null,
            "padding": null,
            "right": null,
            "top": null,
            "visibility": null,
            "width": null
          }
        },
        "4a0553f8a520490b8c9ed811491999c5": {
          "model_module": "@jupyter-widgets/controls",
          "model_name": "DescriptionStyleModel",
          "model_module_version": "1.5.0",
          "state": {
            "_model_module": "@jupyter-widgets/controls",
            "_model_module_version": "1.5.0",
            "_model_name": "DescriptionStyleModel",
            "_view_count": null,
            "_view_module": "@jupyter-widgets/base",
            "_view_module_version": "1.2.0",
            "_view_name": "StyleView",
            "description_width": ""
          }
        },
        "0714b8d2071643e99670e3b11af36030": {
          "model_module": "@jupyter-widgets/controls",
          "model_name": "HBoxModel",
          "model_module_version": "1.5.0",
          "state": {
            "_dom_classes": [],
            "_model_module": "@jupyter-widgets/controls",
            "_model_module_version": "1.5.0",
            "_model_name": "HBoxModel",
            "_view_count": null,
            "_view_module": "@jupyter-widgets/controls",
            "_view_module_version": "1.5.0",
            "_view_name": "HBoxView",
            "box_style": "",
            "children": [
              "IPY_MODEL_9ce5113329b249ba9ebedae0ee126f4d",
              "IPY_MODEL_7e7e202a33634cf0928634571434b484",
              "IPY_MODEL_d08216f752784942a7333be646de467f"
            ],
            "layout": "IPY_MODEL_c5f72566a5834688923033dacbfc0b69"
          }
        },
        "9ce5113329b249ba9ebedae0ee126f4d": {
          "model_module": "@jupyter-widgets/controls",
          "model_name": "HTMLModel",
          "model_module_version": "1.5.0",
          "state": {
            "_dom_classes": [],
            "_model_module": "@jupyter-widgets/controls",
            "_model_module_version": "1.5.0",
            "_model_name": "HTMLModel",
            "_view_count": null,
            "_view_module": "@jupyter-widgets/controls",
            "_view_module_version": "1.5.0",
            "_view_name": "HTMLView",
            "description": "",
            "description_tooltip": null,
            "layout": "IPY_MODEL_17d394079aee4c5189f63a096ac18274",
            "placeholder": "​",
            "style": "IPY_MODEL_037b775b6c0d4ab5a664574fa82b1628",
            "value": "100%"
          }
        },
        "7e7e202a33634cf0928634571434b484": {
          "model_module": "@jupyter-widgets/controls",
          "model_name": "FloatProgressModel",
          "model_module_version": "1.5.0",
          "state": {
            "_dom_classes": [],
            "_model_module": "@jupyter-widgets/controls",
            "_model_module_version": "1.5.0",
            "_model_name": "FloatProgressModel",
            "_view_count": null,
            "_view_module": "@jupyter-widgets/controls",
            "_view_module_version": "1.5.0",
            "_view_name": "ProgressView",
            "bar_style": "danger",
            "description": "",
            "description_tooltip": null,
            "layout": "IPY_MODEL_439bb36cbd4d4bf68104dded9370d025",
            "max": 594,
            "min": 0,
            "orientation": "horizontal",
            "style": "IPY_MODEL_1589b30f925140d985d080f7868abd16",
            "value": 593
          }
        },
        "d08216f752784942a7333be646de467f": {
          "model_module": "@jupyter-widgets/controls",
          "model_name": "HTMLModel",
          "model_module_version": "1.5.0",
          "state": {
            "_dom_classes": [],
            "_model_module": "@jupyter-widgets/controls",
            "_model_module_version": "1.5.0",
            "_model_name": "HTMLModel",
            "_view_count": null,
            "_view_module": "@jupyter-widgets/controls",
            "_view_module_version": "1.5.0",
            "_view_name": "HTMLView",
            "description": "",
            "description_tooltip": null,
            "layout": "IPY_MODEL_3baa11ecb81e48c996937bc78fb31c9b",
            "placeholder": "​",
            "style": "IPY_MODEL_71b0bdd6e2c342eda3ea0bc8ec6f33ab",
            "value": " 593/594 [00:00&lt;00:00, 2157.68 examples/s]"
          }
        },
        "c5f72566a5834688923033dacbfc0b69": {
          "model_module": "@jupyter-widgets/base",
          "model_name": "LayoutModel",
          "model_module_version": "1.2.0",
          "state": {
            "_model_module": "@jupyter-widgets/base",
            "_model_module_version": "1.2.0",
            "_model_name": "LayoutModel",
            "_view_count": null,
            "_view_module": "@jupyter-widgets/base",
            "_view_module_version": "1.2.0",
            "_view_name": "LayoutView",
            "align_content": null,
            "align_items": null,
            "align_self": null,
            "border": null,
            "bottom": null,
            "display": null,
            "flex": null,
            "flex_flow": null,
            "grid_area": null,
            "grid_auto_columns": null,
            "grid_auto_flow": null,
            "grid_auto_rows": null,
            "grid_column": null,
            "grid_gap": null,
            "grid_row": null,
            "grid_template_areas": null,
            "grid_template_columns": null,
            "grid_template_rows": null,
            "height": null,
            "justify_content": null,
            "justify_items": null,
            "left": null,
            "margin": null,
            "max_height": null,
            "max_width": null,
            "min_height": null,
            "min_width": null,
            "object_fit": null,
            "object_position": null,
            "order": null,
            "overflow": null,
            "overflow_x": null,
            "overflow_y": null,
            "padding": null,
            "right": null,
            "top": null,
            "visibility": null,
            "width": null
          }
        },
        "17d394079aee4c5189f63a096ac18274": {
          "model_module": "@jupyter-widgets/base",
          "model_name": "LayoutModel",
          "model_module_version": "1.2.0",
          "state": {
            "_model_module": "@jupyter-widgets/base",
            "_model_module_version": "1.2.0",
            "_model_name": "LayoutModel",
            "_view_count": null,
            "_view_module": "@jupyter-widgets/base",
            "_view_module_version": "1.2.0",
            "_view_name": "LayoutView",
            "align_content": null,
            "align_items": null,
            "align_self": null,
            "border": null,
            "bottom": null,
            "display": null,
            "flex": null,
            "flex_flow": null,
            "grid_area": null,
            "grid_auto_columns": null,
            "grid_auto_flow": null,
            "grid_auto_rows": null,
            "grid_column": null,
            "grid_gap": null,
            "grid_row": null,
            "grid_template_areas": null,
            "grid_template_columns": null,
            "grid_template_rows": null,
            "height": null,
            "justify_content": null,
            "justify_items": null,
            "left": null,
            "margin": null,
            "max_height": null,
            "max_width": null,
            "min_height": null,
            "min_width": null,
            "object_fit": null,
            "object_position": null,
            "order": null,
            "overflow": null,
            "overflow_x": null,
            "overflow_y": null,
            "padding": null,
            "right": null,
            "top": null,
            "visibility": null,
            "width": null
          }
        },
        "037b775b6c0d4ab5a664574fa82b1628": {
          "model_module": "@jupyter-widgets/controls",
          "model_name": "DescriptionStyleModel",
          "model_module_version": "1.5.0",
          "state": {
            "_model_module": "@jupyter-widgets/controls",
            "_model_module_version": "1.5.0",
            "_model_name": "DescriptionStyleModel",
            "_view_count": null,
            "_view_module": "@jupyter-widgets/base",
            "_view_module_version": "1.2.0",
            "_view_name": "StyleView",
            "description_width": ""
          }
        },
        "439bb36cbd4d4bf68104dded9370d025": {
          "model_module": "@jupyter-widgets/base",
          "model_name": "LayoutModel",
          "model_module_version": "1.2.0",
          "state": {
            "_model_module": "@jupyter-widgets/base",
            "_model_module_version": "1.2.0",
            "_model_name": "LayoutModel",
            "_view_count": null,
            "_view_module": "@jupyter-widgets/base",
            "_view_module_version": "1.2.0",
            "_view_name": "LayoutView",
            "align_content": null,
            "align_items": null,
            "align_self": null,
            "border": null,
            "bottom": null,
            "display": null,
            "flex": null,
            "flex_flow": null,
            "grid_area": null,
            "grid_auto_columns": null,
            "grid_auto_flow": null,
            "grid_auto_rows": null,
            "grid_column": null,
            "grid_gap": null,
            "grid_row": null,
            "grid_template_areas": null,
            "grid_template_columns": null,
            "grid_template_rows": null,
            "height": null,
            "justify_content": null,
            "justify_items": null,
            "left": null,
            "margin": null,
            "max_height": null,
            "max_width": null,
            "min_height": null,
            "min_width": null,
            "object_fit": null,
            "object_position": null,
            "order": null,
            "overflow": null,
            "overflow_x": null,
            "overflow_y": null,
            "padding": null,
            "right": null,
            "top": null,
            "visibility": null,
            "width": null
          }
        },
        "1589b30f925140d985d080f7868abd16": {
          "model_module": "@jupyter-widgets/controls",
          "model_name": "ProgressStyleModel",
          "model_module_version": "1.5.0",
          "state": {
            "_model_module": "@jupyter-widgets/controls",
            "_model_module_version": "1.5.0",
            "_model_name": "ProgressStyleModel",
            "_view_count": null,
            "_view_module": "@jupyter-widgets/base",
            "_view_module_version": "1.2.0",
            "_view_name": "StyleView",
            "bar_color": null,
            "description_width": ""
          }
        },
        "3baa11ecb81e48c996937bc78fb31c9b": {
          "model_module": "@jupyter-widgets/base",
          "model_name": "LayoutModel",
          "model_module_version": "1.2.0",
          "state": {
            "_model_module": "@jupyter-widgets/base",
            "_model_module_version": "1.2.0",
            "_model_name": "LayoutModel",
            "_view_count": null,
            "_view_module": "@jupyter-widgets/base",
            "_view_module_version": "1.2.0",
            "_view_name": "LayoutView",
            "align_content": null,
            "align_items": null,
            "align_self": null,
            "border": null,
            "bottom": null,
            "display": null,
            "flex": null,
            "flex_flow": null,
            "grid_area": null,
            "grid_auto_columns": null,
            "grid_auto_flow": null,
            "grid_auto_rows": null,
            "grid_column": null,
            "grid_gap": null,
            "grid_row": null,
            "grid_template_areas": null,
            "grid_template_columns": null,
            "grid_template_rows": null,
            "height": null,
            "justify_content": null,
            "justify_items": null,
            "left": null,
            "margin": null,
            "max_height": null,
            "max_width": null,
            "min_height": null,
            "min_width": null,
            "object_fit": null,
            "object_position": null,
            "order": null,
            "overflow": null,
            "overflow_x": null,
            "overflow_y": null,
            "padding": null,
            "right": null,
            "top": null,
            "visibility": null,
            "width": null
          }
        },
        "71b0bdd6e2c342eda3ea0bc8ec6f33ab": {
          "model_module": "@jupyter-widgets/controls",
          "model_name": "DescriptionStyleModel",
          "model_module_version": "1.5.0",
          "state": {
            "_model_module": "@jupyter-widgets/controls",
            "_model_module_version": "1.5.0",
            "_model_name": "DescriptionStyleModel",
            "_view_count": null,
            "_view_module": "@jupyter-widgets/base",
            "_view_module_version": "1.2.0",
            "_view_name": "StyleView",
            "description_width": ""
          }
        }
      }
    }
  },
  "nbformat_minor": 0,
  "nbformat": 4,
  "cells": [
    {
      "cell_type": "markdown",
      "metadata": {
        "id": "view-in-github",
        "colab_type": "text"
      },
      "source": [
        "<a href=\"https://colab.research.google.com/github/asgardian1196/asg-ml/blob/main/CNN_Citrus_Leaf.ipynb\" target=\"_parent\"><img src=\"https://colab.research.google.com/assets/colab-badge.svg\" alt=\"Open In Colab\"/></a>"
      ]
    },
    {
      "cell_type": "markdown",
      "source": [
        "# Convolutional Neural Networks"
      ],
      "metadata": {
        "id": "24cc5e92"
      }
    },
    {
      "cell_type": "markdown",
      "source": [
        "## 1. What are Convolutional Neural Networks"
      ],
      "metadata": {
        "id": "1c53a84a"
      }
    },
    {
      "cell_type": "markdown",
      "source": [
        "A Convolutional Neural Network (ConvNet/CNN) is a Deep Learning algorithm which can take in an input image, assign importance (learnable weights and biases) to various aspects/objects in the image and be able to differentiate one from the other"
      ],
      "metadata": {
        "id": "_-8wOQqduh8_"
      }
    },
    {
      "cell_type": "markdown",
      "source": [
        "## 2. Why CNNs were introduced when Fully connected ANNs were already there"
      ],
      "metadata": {
        "id": "f8832011"
      }
    },
    {
      "cell_type": "markdown",
      "source": [
        "CNN or Convolutional Neural Networks, for certain classes of problems, are better at capturing local information, (nearby neighbors), require less training, and are less susceptible to overfitting. They are constructed by having one or more convolutional units, (units that receive input from more than 1 unit from the previous layer.) This is a remarkable thing that allows them to consider contextual information in small local groups. It also reduces the number of units in the network because of the many to one mapping. ANN does not have these specificities."
      ],
      "metadata": {
        "id": "wXkotiECLrZm"
      }
    },
    {
      "cell_type": "markdown",
      "source": [
        "## 3. What is meant by the following terms: convolutional layer, pooling layer, padding, stride"
      ],
      "metadata": {
        "id": "32169e18"
      }
    },
    {
      "cell_type": "markdown",
      "source": [
        "### Convolutional Layer\n",
        "Convolutional layers are the major building blocks used in convolutional neural networks. A convolution is the simple application of a filter to an input that results in an activation. Repeated application of the same filter to an input results in a map of activations called a feature map, indicating the locations and strength of a detected feature in an input, such as an image.\n",
        "\n",
        "### Pooling Layer\n",
        "\n",
        "Pooling layers provide an approach to down sampling feature maps by summarizing the presence of features in patches of the feature map. Two common pooling methods are average pooling and max pooling that summarize the average presence of a feature and the most activated presence of a feature respectively.\n",
        "\n",
        "### Padding\n",
        "A tricky issue when applying convolutional layers is that we tend to lose pixels on the perimeter of our image. Since we typically use small kernels, for any given convolution, we might only lose a few pixels, but this can add up as we apply many successive convolutional layers. One straightforward solution to this problem is to add extra pixels of filler around the boundary of our input image, thus increasing the effective size of the image. Typically, we set the values of the extra pixels to zero. This is called as padding\n",
        "\n",
        "### Stride\n",
        "\n",
        "When computing the cross-correlation, we start with the convolution window at the upper-left corner of the input tensor, and then slide it over all locations both down and to the right. In previous examples, we default to sliding one element at a time. However, sometimes, either for computational efficiency or because we wish to downsample, we move our window more than one element at a time, skipping the intermediate locations. We refer to the number of rows and columns traversed per slide as the stride. \n",
        "\n",
        "\n",
        "\n"
      ],
      "metadata": {
        "id": "91L05ffCLs7W"
      }
    },
    {
      "cell_type": "markdown",
      "source": [
        "## 4. What would be the size of the output if input is n^2, filter is f^2 and stride is of s "
      ],
      "metadata": {
        "id": "fc9efde8"
      }
    },
    {
      "cell_type": "markdown",
      "source": [
        " $$(n-f)/s + 1$$"
      ],
      "metadata": {
        "id": "Kxgn4HBiMLVs"
      }
    },
    {
      "cell_type": "markdown",
      "source": [
        "## 5. What are pre-trained models and what do you mean by transfer learning"
      ],
      "metadata": {
        "id": "c2777f3b"
      }
    },
    {
      "cell_type": "markdown",
      "source": [
        "Transfer Learning is a machine learning method where we reuse a pre-trained model as the starting point for a model on a new task. To put it simply—a model trained on one task is repurposed on a second, related task as an optimization that allows rapid progress when modeling the second task"
      ],
      "metadata": {
        "id": "OeHRAl1K1CIl"
      }
    },
    {
      "cell_type": "markdown",
      "source": [
        "## 6. Discuss CPU vs GPU vs TPU"
      ],
      "metadata": {
        "id": "95b20a28"
      }
    },
    {
      "cell_type": "markdown",
      "source": [
        "The difference between CPU, GPU and TPU is that the CPU handles all the logics, calculations, and input/output of the computer, it is a general-purpose processor. In comparison, GPU is an additional processor to enhance the graphical interface and run high-end tasks. TPUs are powerful custom-built processors to run the project made on a specific framework, i.e. TensorFlow.\n",
        "\n",
        "CPU: Central Processing Unit. Manage all the functions of a computer.\n",
        "GPU: Graphical Processing Unit. Enhance the graphical performance of the computer.\n",
        "TPU: Tensor Processing Unit. Custom build ASIC to accelerate TensorFlow projects."
      ],
      "metadata": {
        "id": "p92n0nN-1CIl"
      }
    },
    {
      "cell_type": "markdown",
      "source": [
        "## 7. Perform CNN classification on citrus leaves dataset from tensorflow \n",
        "##     (try to achieve minimum 90% accuracy and above on the test set)\n",
        "##     Can be found using the link: https://www.tensorflow.org/datasets/catalog/citrus_leaves"
      ],
      "metadata": {
        "id": "078190a4"
      }
    },
    {
      "cell_type": "code",
      "source": [
        "import tensorflow as tf\n",
        "import matplotlib.pyplot as plt\n",
        "from matplotlib import gridspec\n",
        "\n",
        "import numpy as np\n",
        "import tensorflow_datasets as tfds\n",
        "from tensorflow.keras import layers"
      ],
      "metadata": {
        "id": "IjgXc4yH86UD",
        "execution": {
          "iopub.status.busy": "2022-05-06T05:23:42.644162Z",
          "iopub.execute_input": "2022-05-06T05:23:42.644503Z",
          "iopub.status.idle": "2022-05-06T05:23:42.649683Z",
          "shell.execute_reply.started": "2022-05-06T05:23:42.644471Z",
          "shell.execute_reply": "2022-05-06T05:23:42.648592Z"
        },
        "trusted": true
      },
      "execution_count": null,
      "outputs": []
    },
    {
      "cell_type": "code",
      "source": [
        "(train_citrus_data, val_citrus_data, test_citrus_data), info = tfds.load('citrus_leaves',\n",
        "                                                split=['train[:80%]', 'train[80%:90%]', 'train[90%:]'],\n",
        "                                                with_info=True,as_supervised=True,\n",
        ")"
      ],
      "metadata": {
        "id": "1ckOgco1BUYR",
        "execution": {
          "iopub.status.busy": "2022-05-06T05:23:42.656696Z",
          "iopub.execute_input": "2022-05-06T05:23:42.657437Z",
          "iopub.status.idle": "2022-05-06T05:23:42.782947Z",
          "shell.execute_reply.started": "2022-05-06T05:23:42.657406Z",
          "shell.execute_reply": "2022-05-06T05:23:42.781781Z"
        },
        "trusted": true,
        "colab": {
          "base_uri": "https://localhost:8080/",
          "height": 249,
          "referenced_widgets": [
            "8a0be87be0b944c6a3f62ef8e47d255d",
            "5b36ed11a01e403fbe23c724e466de0f",
            "67cb664f3fd7431e917d5d84caef799a",
            "3083d4aa539b4f17beba2e64be15f4b2",
            "4e793579d63b4cc396e29f925ef11c2d",
            "3a96f4af420e46748e92addbda5fc9d5",
            "a4adcf36adf947f58b0f28be3415162c",
            "010dd343372d49169cbfa4ac13b82c59",
            "804f2bb1f35446e8ab7e1c6e37945cf9",
            "39b51674f87a4b7c8cfdaa08a9d2902b",
            "842bd4d9ba884a0ea51166a5c497d7b8",
            "03835074cc1d4c859b2a84b9cf8cfb14",
            "c720b72fc1bc465a8651b656b62a1b41",
            "92142c6180734d01863512a08cb7bf5c",
            "4a7137b0d460497ea133550e1f668cd4",
            "c73416edd683490cb4e2f4481c94967c",
            "94a76bad3b3a41408bf2bcac6d6819c4",
            "0d76713a1ea742468e8f1f0e42dfcf04",
            "659d046a047d4a919307531a2f9a338d",
            "29885898eb1949eba66ddb1bbb67232e",
            "2d6969148ebf49a59b252a79ef87afcd",
            "3af2b1a177bf42f286888ce5b418390e",
            "f3c493987afd484d8c70810e29af2720",
            "29c7e809af09405892ccaa55eb2e2190",
            "7ce88bed1de742a5ad5c163c990b6ed8",
            "f0eb579ca3bf4b7388bfb9b58c30bf03",
            "985622b83065490d8f057967e1a684c3",
            "cc96f428befd4eb49091b7d41a6ceebb",
            "4d699922b5e844479643cf14ec2c9910",
            "9b024f48e8ef404097e06fc8af083747",
            "65a8c4a6927b4aad9e4988e748153355",
            "4ba9a6391c1c44a8bd9eaa7daf2c9e3b",
            "beb7ce4e3cfc4f37b6f24b7f3fcfa259",
            "ac8b2689670643c493bdc616530dc511",
            "d0961f1338ed4f6abf577a54d16649e6",
            "6ff77499a0b34b8aa74f4db6b0c5396d",
            "942af73a636344f983825bd962957495",
            "a8b66f14cc6c4745988a6809d244d54a",
            "c0c43a71fac34fa8878f5d197daaa943",
            "b4c951a08f6e44719dea2cbe75a5f86f",
            "5c83d0fce483449cba357670232ea541",
            "a1329086a11b48bd9f123444c30ac4c9",
            "db3ddaf6218441c9abbc6496c6df5420",
            "4a0553f8a520490b8c9ed811491999c5",
            "0714b8d2071643e99670e3b11af36030",
            "9ce5113329b249ba9ebedae0ee126f4d",
            "7e7e202a33634cf0928634571434b484",
            "d08216f752784942a7333be646de467f",
            "c5f72566a5834688923033dacbfc0b69",
            "17d394079aee4c5189f63a096ac18274",
            "037b775b6c0d4ab5a664574fa82b1628",
            "439bb36cbd4d4bf68104dded9370d025",
            "1589b30f925140d985d080f7868abd16",
            "3baa11ecb81e48c996937bc78fb31c9b",
            "71b0bdd6e2c342eda3ea0bc8ec6f33ab"
          ]
        },
        "outputId": "bc2b96ce-453b-4225-aedf-227579d7e8a7"
      },
      "execution_count": null,
      "outputs": [
        {
          "output_type": "stream",
          "name": "stdout",
          "text": [
            "\u001b[1mDownloading and preparing dataset citrus_leaves/0.1.1 (download: 63.87 MiB, generated: 37.89 MiB, total: 101.76 MiB) to /root/tensorflow_datasets/citrus_leaves/0.1.1...\u001b[0m\n"
          ]
        },
        {
          "output_type": "display_data",
          "data": {
            "text/plain": [
              "Dl Completed...: 0 url [00:00, ? url/s]"
            ],
            "application/vnd.jupyter.widget-view+json": {
              "version_major": 2,
              "version_minor": 0,
              "model_id": "8a0be87be0b944c6a3f62ef8e47d255d"
            }
          },
          "metadata": {}
        },
        {
          "output_type": "display_data",
          "data": {
            "text/plain": [
              "Dl Size...: 0 MiB [00:00, ? MiB/s]"
            ],
            "application/vnd.jupyter.widget-view+json": {
              "version_major": 2,
              "version_minor": 0,
              "model_id": "03835074cc1d4c859b2a84b9cf8cfb14"
            }
          },
          "metadata": {}
        },
        {
          "output_type": "display_data",
          "data": {
            "text/plain": [
              "Extraction completed...: 0 file [00:00, ? file/s]"
            ],
            "application/vnd.jupyter.widget-view+json": {
              "version_major": 2,
              "version_minor": 0,
              "model_id": "f3c493987afd484d8c70810e29af2720"
            }
          },
          "metadata": {}
        },
        {
          "output_type": "stream",
          "name": "stdout",
          "text": [
            "\n",
            "\n",
            "\n"
          ]
        },
        {
          "output_type": "display_data",
          "data": {
            "text/plain": [
              "0 examples [00:00, ? examples/s]"
            ],
            "application/vnd.jupyter.widget-view+json": {
              "version_major": 2,
              "version_minor": 0,
              "model_id": "ac8b2689670643c493bdc616530dc511"
            }
          },
          "metadata": {}
        },
        {
          "output_type": "stream",
          "name": "stdout",
          "text": [
            "Shuffling and writing examples to /root/tensorflow_datasets/citrus_leaves/0.1.1.incompleteFRARN1/citrus_leaves-train.tfrecord\n"
          ]
        },
        {
          "output_type": "display_data",
          "data": {
            "text/plain": [
              "  0%|          | 0/594 [00:00<?, ? examples/s]"
            ],
            "application/vnd.jupyter.widget-view+json": {
              "version_major": 2,
              "version_minor": 0,
              "model_id": "0714b8d2071643e99670e3b11af36030"
            }
          },
          "metadata": {}
        },
        {
          "output_type": "stream",
          "name": "stdout",
          "text": [
            "\u001b[1mDataset citrus_leaves downloaded and prepared to /root/tensorflow_datasets/citrus_leaves/0.1.1. Subsequent calls will reuse this data.\u001b[0m\n"
          ]
        }
      ]
    },
    {
      "cell_type": "code",
      "source": [
        "classes = info.features['label'].num_classes"
      ],
      "metadata": {
        "id": "FNJvcPq8ruUm",
        "execution": {
          "iopub.status.busy": "2022-05-06T05:23:42.784863Z",
          "iopub.execute_input": "2022-05-06T05:23:42.785267Z",
          "iopub.status.idle": "2022-05-06T05:23:42.791209Z",
          "shell.execute_reply.started": "2022-05-06T05:23:42.785223Z",
          "shell.execute_reply": "2022-05-06T05:23:42.790249Z"
        },
        "trusted": true
      },
      "execution_count": null,
      "outputs": []
    },
    {
      "cell_type": "code",
      "source": [
        "print(\"Total number of classes\", classes)"
      ],
      "metadata": {
        "id": "B-aZyF2rriv3",
        "outputId": "9d00aae5-9236-434a-e2f8-7a4534a3f117",
        "execution": {
          "iopub.status.busy": "2022-05-06T05:23:42.792558Z",
          "iopub.execute_input": "2022-05-06T05:23:42.793586Z",
          "iopub.status.idle": "2022-05-06T05:23:42.804073Z",
          "shell.execute_reply.started": "2022-05-06T05:23:42.793539Z",
          "shell.execute_reply": "2022-05-06T05:23:42.802897Z"
        },
        "trusted": true,
        "colab": {
          "base_uri": "https://localhost:8080/"
        }
      },
      "execution_count": null,
      "outputs": [
        {
          "output_type": "stream",
          "name": "stdout",
          "text": [
            "Total number of classes 4\n"
          ]
        }
      ]
    },
    {
      "cell_type": "code",
      "source": [
        "get_labelname = info.features['label'].int2str\n",
        "\n",
        "image, label = next(iter(train_citrus_data))\n",
        "_ = plt.imshow(image)\n",
        "_ = plt.title(get_labelname(label))"
      ],
      "metadata": {
        "id": "9YK3n2bnuwzi",
        "outputId": "309ee2f0-8d1c-4aae-eae2-cb1c107ce59a",
        "execution": {
          "iopub.status.busy": "2022-05-06T05:23:42.807365Z",
          "iopub.execute_input": "2022-05-06T05:23:42.808099Z",
          "iopub.status.idle": "2022-05-06T05:23:43.126095Z",
          "shell.execute_reply.started": "2022-05-06T05:23:42.808054Z",
          "shell.execute_reply": "2022-05-06T05:23:43.125161Z"
        },
        "trusted": true,
        "colab": {
          "base_uri": "https://localhost:8080/",
          "height": 281
        }
      },
      "execution_count": null,
      "outputs": [
        {
          "output_type": "display_data",
          "data": {
            "text/plain": [
              "<Figure size 432x288 with 1 Axes>"
            ],
            "image/png": "[encoded data removed]"
          },
          "metadata": {
            "needs_background": "light"
          }
        }
      ]
    },
    {
      "cell_type": "code",
      "source": [
        "image.shape"
      ],
      "metadata": {
        "id": "o89nwybPuw0W",
        "outputId": "a4380aad-375e-40b1-f24f-be7ca2d8b60d",
        "execution": {
          "iopub.status.busy": "2022-05-06T05:23:43.127918Z",
          "iopub.execute_input": "2022-05-06T05:23:43.128277Z",
          "iopub.status.idle": "2022-05-06T05:23:43.135808Z",
          "shell.execute_reply.started": "2022-05-06T05:23:43.128222Z",
          "shell.execute_reply": "2022-05-06T05:23:43.134626Z"
        },
        "trusted": true,
        "colab": {
          "base_uri": "https://localhost:8080/"
        }
      },
      "execution_count": null,
      "outputs": [
        {
          "output_type": "execute_result",
          "data": {
            "text/plain": [
              "TensorShape([256, 256, 3])"
            ]
          },
          "metadata": {},
          "execution_count": 6
        }
      ]
    },
    {
      "cell_type": "code",
      "source": [
        "train_data = train_citrus_data.map(lambda x, y: (x, y), \n",
        "              num_parallel_calls=tf.data.AUTOTUNE)"
      ],
      "metadata": {
        "id": "tzct77r4rtYY",
        "execution": {
          "iopub.status.busy": "2022-05-06T05:23:43.137816Z",
          "iopub.execute_input": "2022-05-06T05:23:43.138233Z",
          "iopub.status.idle": "2022-05-06T05:23:43.154361Z",
          "shell.execute_reply.started": "2022-05-06T05:23:43.138143Z",
          "shell.execute_reply": "2022-05-06T05:23:43.153237Z"
        },
        "trusted": true
      },
      "execution_count": null,
      "outputs": []
    },
    {
      "cell_type": "code",
      "source": [
        "train_data = train_data.shuffle(buffer_size=len(train_citrus_data))"
      ],
      "metadata": {
        "id": "BVqy-ds4jsK5",
        "execution": {
          "iopub.status.busy": "2022-05-06T05:23:43.155655Z",
          "iopub.execute_input": "2022-05-06T05:23:43.156057Z",
          "iopub.status.idle": "2022-05-06T05:23:43.163279Z",
          "shell.execute_reply.started": "2022-05-06T05:23:43.156012Z",
          "shell.execute_reply": "2022-05-06T05:23:43.161954Z"
        },
        "trusted": true
      },
      "execution_count": null,
      "outputs": []
    },
    {
      "cell_type": "code",
      "source": [
        "train_data = train_data.batch(32)"
      ],
      "metadata": {
        "id": "zFYCS92Xu7zA",
        "execution": {
          "iopub.status.busy": "2022-05-06T05:23:43.167006Z",
          "iopub.execute_input": "2022-05-06T05:23:43.168354Z",
          "iopub.status.idle": "2022-05-06T05:23:43.173507Z",
          "shell.execute_reply.started": "2022-05-06T05:23:43.168310Z",
          "shell.execute_reply": "2022-05-06T05:23:43.172572Z"
        },
        "trusted": true
      },
      "execution_count": null,
      "outputs": []
    },
    {
      "cell_type": "code",
      "source": [
        "val_data = val_citrus_data.map(lambda x, y: (x, y), \n",
        "              num_parallel_calls=tf.data.AUTOTUNE)  "
      ],
      "metadata": {
        "id": "l9mhDypKu7z9",
        "execution": {
          "iopub.status.busy": "2022-05-06T05:23:43.175999Z",
          "iopub.execute_input": "2022-05-06T05:23:43.177432Z",
          "iopub.status.idle": "2022-05-06T05:23:43.189954Z",
          "shell.execute_reply.started": "2022-05-06T05:23:43.177399Z",
          "shell.execute_reply": "2022-05-06T05:23:43.188986Z"
        },
        "trusted": true
      },
      "execution_count": null,
      "outputs": []
    },
    {
      "cell_type": "code",
      "source": [
        "test_data = test_citrus_data.map(lambda x, y: (x, y), \n",
        "              num_parallel_calls=tf.data.AUTOTUNE)"
      ],
      "metadata": {
        "execution": {
          "iopub.status.busy": "2022-05-06T05:23:43.191489Z",
          "iopub.execute_input": "2022-05-06T05:23:43.192016Z",
          "iopub.status.idle": "2022-05-06T05:23:43.206715Z",
          "shell.execute_reply.started": "2022-05-06T05:23:43.191967Z",
          "shell.execute_reply": "2022-05-06T05:23:43.205726Z"
        },
        "trusted": true,
        "id": "WW7TMQdo1CIn"
      },
      "execution_count": null,
      "outputs": []
    },
    {
      "cell_type": "code",
      "source": [
        "val_data = val_data.batch(8)\n",
        "test_data = test_data.batch(1)"
      ],
      "metadata": {
        "id": "cBiXCyfWu71m",
        "execution": {
          "iopub.status.busy": "2022-05-06T05:23:43.207951Z",
          "iopub.execute_input": "2022-05-06T05:23:43.209351Z",
          "iopub.status.idle": "2022-05-06T05:23:43.216475Z",
          "shell.execute_reply.started": "2022-05-06T05:23:43.209304Z",
          "shell.execute_reply": "2022-05-06T05:23:43.215578Z"
        },
        "trusted": true
      },
      "execution_count": null,
      "outputs": []
    },
    {
      "cell_type": "code",
      "source": [
        "model = tf.keras.Sequential([\n",
        "    layers.Conv2D(16, (3,3), activation='relu', input_shape=(256, 256, 3),padding='same'),\n",
        "    layers.MaxPooling2D(2, 2),\n",
        "    layers.Conv2D(32, (3,3), activation='relu',padding='same'),\n",
        "    layers.MaxPooling2D(2,2),\n",
        "    layers.Conv2D(64, (3,3), activation='relu',padding='same'),\n",
        "    layers.MaxPooling2D(2,2),\n",
        "    layers.Conv2D(64, (3,3), activation='relu',padding='same'),\n",
        "    layers.MaxPooling2D(2,2),\n",
        "    layers.Conv2D(64, (3,3), activation='relu',padding='same'),\n",
        "    layers.MaxPooling2D(2,2),\n",
        "    layers.Flatten(),\n",
        "    layers.Dense(512, activation='relu'),\n",
        "    layers.Dense(4, activation='softmax')\n",
        "])"
      ],
      "metadata": {
        "id": "8KUfYFl4u74u",
        "execution": {
          "iopub.status.busy": "2022-05-06T05:23:43.218458Z",
          "iopub.execute_input": "2022-05-06T05:23:43.219276Z",
          "iopub.status.idle": "2022-05-06T05:23:43.313388Z",
          "shell.execute_reply.started": "2022-05-06T05:23:43.219227Z",
          "shell.execute_reply": "2022-05-06T05:23:43.312416Z"
        },
        "trusted": true
      },
      "execution_count": null,
      "outputs": []
    },
    {
      "cell_type": "code",
      "source": [
        "model.summary()"
      ],
      "metadata": {
        "execution": {
          "iopub.status.busy": "2022-05-06T05:23:43.314761Z",
          "iopub.execute_input": "2022-05-06T05:23:43.315105Z",
          "iopub.status.idle": "2022-05-06T05:23:43.331591Z",
          "shell.execute_reply.started": "2022-05-06T05:23:43.315073Z",
          "shell.execute_reply": "2022-05-06T05:23:43.329267Z"
        },
        "trusted": true,
        "colab": {
          "base_uri": "https://localhost:8080/"
        },
        "id": "ZLZ1TY0C1CIn",
        "outputId": "72e316f9-6853-434d-ce9a-e1a5250cbccf"
      },
      "execution_count": null,
      "outputs": [
        {
          "output_type": "stream",
          "name": "stdout",
          "text": [
            "Model: \"sequential\"\n",
            "_________________________________________________________________\n",
            " Layer (type)                Output Shape              Param #   \n",
            "=================================================================\n",
            " conv2d (Conv2D)             (None, 256, 256, 16)      448       \n",
            "                                                                 \n",
            " max_pooling2d (MaxPooling2D  (None, 128, 128, 16)     0         \n",
            " )                                                               \n",
            "                                                                 \n",
            " conv2d_1 (Conv2D)           (None, 128, 128, 32)      4640      \n",
            "                                                                 \n",
            " max_pooling2d_1 (MaxPooling  (None, 64, 64, 32)       0         \n",
            " 2D)                                                             \n",
            "                                                                 \n",
            " conv2d_2 (Conv2D)           (None, 64, 64, 64)        18496     \n",
            "                                                                 \n",
            " max_pooling2d_2 (MaxPooling  (None, 32, 32, 64)       0         \n",
            " 2D)                                                             \n",
            "                                                                 \n",
            " conv2d_3 (Conv2D)           (None, 32, 32, 64)        36928     \n",
            "                                                                 \n",
            " max_pooling2d_3 (MaxPooling  (None, 16, 16, 64)       0         \n",
            " 2D)                                                             \n",
            "                                                                 \n",
            " conv2d_4 (Conv2D)           (None, 16, 16, 64)        36928     \n",
            "                                                                 \n",
            " max_pooling2d_4 (MaxPooling  (None, 8, 8, 64)         0         \n",
            " 2D)                                                             \n",
            "                                                                 \n",
            " flatten (Flatten)           (None, 4096)              0         \n",
            "                                                                 \n",
            " dense (Dense)               (None, 512)               2097664   \n",
            "                                                                 \n",
            " dense_1 (Dense)             (None, 4)                 2052      \n",
            "                                                                 \n",
            "=================================================================\n",
            "Total params: 2,197,156\n",
            "Trainable params: 2,197,156\n",
            "Non-trainable params: 0\n",
            "_________________________________________________________________\n"
          ]
        }
      ]
    },
    {
      "cell_type": "code",
      "source": [
        "model.compile(\n",
        "    optimizer='adam',\n",
        "    loss=tf.keras.losses.SparseCategoricalCrossentropy(from_logits=False),\n",
        "    metrics=['accuracy']\n",
        ")\n",
        "\n",
        "history = model.fit(\n",
        "    train_data,\n",
        "    validation_data=val_data,\n",
        "    epochs=15\n",
        " )"
      ],
      "metadata": {
        "id": "2tDwgQetvCgy",
        "outputId": "f7863625-bfbd-4157-8c02-83c1367363e3",
        "execution": {
          "iopub.status.busy": "2022-05-06T05:23:43.333428Z",
          "iopub.execute_input": "2022-05-06T05:23:43.333799Z",
          "iopub.status.idle": "2022-05-06T05:23:53.124467Z",
          "shell.execute_reply.started": "2022-05-06T05:23:43.333755Z",
          "shell.execute_reply": "2022-05-06T05:23:53.123527Z"
        },
        "trusted": true,
        "colab": {
          "base_uri": "https://localhost:8080/"
        }
      },
      "execution_count": null,
      "outputs": [
        {
          "output_type": "stream",
          "name": "stdout",
          "text": [
            "Epoch 1/15\n",
            "15/15 [==============================] - 35s 2s/step - loss: 21.3837 - accuracy: 0.3158 - val_loss: 1.4104 - val_accuracy: 0.3167\n",
            "Epoch 2/15\n",
            "15/15 [==============================] - 38s 3s/step - loss: 1.3249 - accuracy: 0.4337 - val_loss: 1.0804 - val_accuracy: 0.5000\n",
            "Epoch 3/15\n",
            "15/15 [==============================] - 32s 2s/step - loss: 1.1035 - accuracy: 0.4716 - val_loss: 0.8774 - val_accuracy: 0.5667\n",
            "Epoch 4/15\n",
            "15/15 [==============================] - 33s 2s/step - loss: 0.8721 - accuracy: 0.5937 - val_loss: 0.7450 - val_accuracy: 0.6500\n",
            "Epoch 5/15\n",
            "15/15 [==============================] - 34s 2s/step - loss: 0.7172 - accuracy: 0.6884 - val_loss: 0.6796 - val_accuracy: 0.6167\n",
            "Epoch 6/15\n",
            "15/15 [==============================] - 32s 2s/step - loss: 0.6152 - accuracy: 0.7432 - val_loss: 0.6500 - val_accuracy: 0.6833\n",
            "Epoch 7/15\n",
            "15/15 [==============================] - 32s 2s/step - loss: 0.7609 - accuracy: 0.7011 - val_loss: 0.6811 - val_accuracy: 0.7333\n",
            "Epoch 8/15\n",
            "15/15 [==============================] - 32s 2s/step - loss: 0.6227 - accuracy: 0.7368 - val_loss: 0.5829 - val_accuracy: 0.7333\n",
            "Epoch 9/15\n",
            "15/15 [==============================] - 33s 2s/step - loss: 0.4401 - accuracy: 0.8232 - val_loss: 0.5056 - val_accuracy: 0.8167\n",
            "Epoch 10/15\n",
            "15/15 [==============================] - 32s 2s/step - loss: 0.3892 - accuracy: 0.8589 - val_loss: 0.4767 - val_accuracy: 0.8000\n",
            "Epoch 11/15\n",
            "15/15 [==============================] - 32s 2s/step - loss: 0.3617 - accuracy: 0.8589 - val_loss: 0.9105 - val_accuracy: 0.6333\n",
            "Epoch 12/15\n",
            "15/15 [==============================] - 32s 2s/step - loss: 0.3240 - accuracy: 0.8863 - val_loss: 0.6103 - val_accuracy: 0.7500\n",
            "Epoch 13/15\n",
            "15/15 [==============================] - 33s 2s/step - loss: 0.1768 - accuracy: 0.9368 - val_loss: 0.4630 - val_accuracy: 0.7833\n",
            "Epoch 14/15\n",
            "15/15 [==============================] - 33s 2s/step - loss: 0.1770 - accuracy: 0.9474 - val_loss: 0.6529 - val_accuracy: 0.7500\n",
            "Epoch 15/15\n",
            "15/15 [==============================] - 32s 2s/step - loss: 0.1781 - accuracy: 0.9305 - val_loss: 0.6662 - val_accuracy: 0.7333\n"
          ]
        }
      ]
    },
    {
      "cell_type": "markdown",
      "source": [
        "## 8. Plot the model architecture and explain how did you decide number of layers, filter size and other hyper parameters"
      ],
      "metadata": {
        "id": "40eac93e"
      }
    },
    {
      "cell_type": "code",
      "source": [
        "tf.keras.utils.plot_model(model, show_shapes=True, dpi=64)"
      ],
      "metadata": {
        "colab": {
          "base_uri": "https://localhost:8080/",
          "height": 1000
        },
        "id": "aVlOay___CnO",
        "outputId": "5529f254-e0fd-4336-83aa-d1520e645395"
      },
      "execution_count": null,
      "outputs": [
        {
          "output_type": "execute_result",
          "data": {
            "text/plain": [
              "<IPython.core.display.Image object>"
            ],
            "image/png": "[encoded data removed]"
          },
          "metadata": {},
          "execution_count": 18
        }
      ]
    },
    {
      "cell_type": "markdown",
      "source": [],
      "metadata": {
        "id": "9iQQLbYFBVFs"
      }
    },
    {
      "cell_type": "code",
      "source": [
        "model.summary()"
      ],
      "metadata": {
        "execution": {
          "iopub.status.busy": "2022-05-06T05:24:04.747157Z",
          "iopub.execute_input": "2022-05-06T05:24:04.747692Z",
          "iopub.status.idle": "2022-05-06T05:24:04.765140Z",
          "shell.execute_reply.started": "2022-05-06T05:24:04.747658Z",
          "shell.execute_reply": "2022-05-06T05:24:04.763857Z"
        },
        "trusted": true,
        "colab": {
          "base_uri": "https://localhost:8080/"
        },
        "id": "RAyw8kTP1CIo",
        "outputId": "b85c353f-a9a9-43d9-b264-e28fae86f839"
      },
      "execution_count": null,
      "outputs": [
        {
          "output_type": "stream",
          "name": "stdout",
          "text": [
            "Model: \"sequential\"\n",
            "_________________________________________________________________\n",
            " Layer (type)                Output Shape              Param #   \n",
            "=================================================================\n",
            " conv2d (Conv2D)             (None, 256, 256, 16)      448       \n",
            "                                                                 \n",
            " max_pooling2d (MaxPooling2D  (None, 128, 128, 16)     0         \n",
            " )                                                               \n",
            "                                                                 \n",
            " conv2d_1 (Conv2D)           (None, 128, 128, 32)      4640      \n",
            "                                                                 \n",
            " max_pooling2d_1 (MaxPooling  (None, 64, 64, 32)       0         \n",
            " 2D)                                                             \n",
            "                                                                 \n",
            " conv2d_2 (Conv2D)           (None, 64, 64, 64)        18496     \n",
            "                                                                 \n",
            " max_pooling2d_2 (MaxPooling  (None, 32, 32, 64)       0         \n",
            " 2D)                                                             \n",
            "                                                                 \n",
            " conv2d_3 (Conv2D)           (None, 32, 32, 64)        36928     \n",
            "                                                                 \n",
            " max_pooling2d_3 (MaxPooling  (None, 16, 16, 64)       0         \n",
            " 2D)                                                             \n",
            "                                                                 \n",
            " conv2d_4 (Conv2D)           (None, 16, 16, 64)        36928     \n",
            "                                                                 \n",
            " max_pooling2d_4 (MaxPooling  (None, 8, 8, 64)         0         \n",
            " 2D)                                                             \n",
            "                                                                 \n",
            " flatten (Flatten)           (None, 4096)              0         \n",
            "                                                                 \n",
            " dense (Dense)               (None, 512)               2097664   \n",
            "                                                                 \n",
            " dense_1 (Dense)             (None, 4)                 2052      \n",
            "                                                                 \n",
            "=================================================================\n",
            "Total params: 2,197,156\n",
            "Trainable params: 2,197,156\n",
            "Non-trainable params: 0\n",
            "_________________________________________________________________\n"
          ]
        }
      ]
    }
  ]
}