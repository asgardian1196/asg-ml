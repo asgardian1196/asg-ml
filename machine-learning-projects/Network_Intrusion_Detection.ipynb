{
  "nbformat": 4,
  "nbformat_minor": 0,
  "metadata": {
    "kernelspec": {
      "display_name": "Python 3",
      "language": "python",
      "name": "python3"
    },
    "language_info": {
      "codemirror_mode": {
        "name": "ipython",
        "version": 3
      },
      "file_extension": ".py",
      "mimetype": "text/x-python",
      "name": "python",
      "nbconvert_exporter": "python",
      "pygments_lexer": "ipython3",
      "version": "3.8.5"
    },
    "colab": {
      "provenance": [],
      "include_colab_link": true
    }
  },
  "cells": [
    {
      "cell_type": "markdown",
      "metadata": {
        "id": "view-in-github",
        "colab_type": "text"
      },
      "source": [
        "<a href=\"https://colab.research.google.com/github/asgardian1196/asg-ml/blob/main/Network_Intrusion_Detection.ipynb\" target=\"_parent\"><img src=\"https://colab.research.google.com/assets/colab-badge.svg\" alt=\"Open In Colab\"/></a>"
      ]
    },
    {
      "cell_type": "markdown",
      "source": [
        "Network intrusion detection is a crucial aspect of cybersecurity, as it helps to identify and prevent unauthorized access to a computer network. This code provides a solution for detecting intrusions by analyzing network traffic and identifying patterns that indicate malicious activity. It uses a combination of signature-based and anomaly-based detection techniques to identify known and unknown threats.\n",
        "\n",
        "This code is implemented using python and makes use of sklearn xgboost neural networks to analyze network traffic and detect intrusions. It can be easily integrated with existing network infrastructure and can be configured to suit the specific needs of the network.\n",
        "\n",
        "The code is well-documented and easy to understand, making it suitable for both experienced and novice users. It also includes a user-friendly interface that allows for the easy configuration and management of the intrusion detection system.\n",
        "\n",
        "Overall, this code provides a powerful and reliable solution for protecting computer networks against intrusions and other malicious activities. It is a valuable addition to any organization's cybersecurity arsenal, and can help to identify and prevent threats before they cause damage.\n",
        "\n",
        "\n",
        "\n",
        "\n"
      ],
      "metadata": {
        "id": "1xQv_ysxMwNs"
      }
    },
    {
      "cell_type": "code",
      "metadata": {
        "id": "cQIA_zm3FNxh"
      },
      "source": [
        "#Base\n",
        "import pandas as pd\n",
        "import numpy as np\n",
        "import os\n",
        "import datetime\n",
        "\n",
        "# Data preparation\n",
        "from sklearn.model_selection import train_test_split, cross_val_score, StratifiedKFold\n",
        "from sklearn.preprocessing import OneHotEncoder, StandardScaler, LabelEncoder\n",
        "from sklearn.decomposition import TruncatedSVD"
      ],
      "execution_count": null,
      "outputs": []
    },
    {
      "cell_type": "code",
      "metadata": {
        "colab": {
          "base_uri": "https://localhost:8080/"
        },
        "id": "3-9AyNKZFX9z",
        "outputId": "56c9f563-4f1e-4088-da6f-a1aaa34e94e0"
      },
      "source": [
        "pip install scikeras"
      ],
      "execution_count": null,
      "outputs": [
        {
          "output_type": "stream",
          "name": "stdout",
          "text": [
            "Collecting scikeras\n",
            "  Downloading scikeras-0.4.1-py3-none-any.whl (27 kB)\n",
            "Requirement already satisfied: packaging<22.0,>=0.21 in /usr/local/lib/python3.7/dist-packages (from scikeras) (21.2)\n",
            "Requirement already satisfied: scikit-learn>=0.22.0 in /usr/local/lib/python3.7/dist-packages (from scikeras) (1.0.1)\n",
            "Collecting importlib-metadata<4,>=3\n",
            "  Downloading importlib_metadata-3.10.1-py3-none-any.whl (14 kB)\n",
            "Requirement already satisfied: zipp>=0.5 in /usr/local/lib/python3.7/dist-packages (from importlib-metadata<4,>=3->scikeras) (3.6.0)\n",
            "Requirement already satisfied: typing-extensions>=3.6.4 in /usr/local/lib/python3.7/dist-packages (from importlib-metadata<4,>=3->scikeras) (3.10.0.2)\n",
            "Requirement already satisfied: pyparsing<3,>=2.0.2 in /usr/local/lib/python3.7/dist-packages (from packaging<22.0,>=0.21->scikeras) (2.4.7)\n",
            "Requirement already satisfied: threadpoolctl>=2.0.0 in /usr/local/lib/python3.7/dist-packages (from scikit-learn>=0.22.0->scikeras) (3.0.0)\n",
            "Requirement already satisfied: joblib>=0.11 in /usr/local/lib/python3.7/dist-packages (from scikit-learn>=0.22.0->scikeras) (1.1.0)\n",
            "Requirement already satisfied: scipy>=1.1.0 in /usr/local/lib/python3.7/dist-packages (from scikit-learn>=0.22.0->scikeras) (1.4.1)\n",
            "Requirement already satisfied: numpy>=1.14.6 in /usr/local/lib/python3.7/dist-packages (from scikit-learn>=0.22.0->scikeras) (1.19.5)\n",
            "Installing collected packages: importlib-metadata, scikeras\n",
            "  Attempting uninstall: importlib-metadata\n",
            "    Found existing installation: importlib-metadata 4.8.2\n",
            "    Uninstalling importlib-metadata-4.8.2:\n",
            "      Successfully uninstalled importlib-metadata-4.8.2\n",
            "Successfully installed importlib-metadata-3.10.1 scikeras-0.4.1\n"
          ]
        }
      ]
    },
    {
      "cell_type": "code",
      "metadata": {
        "id": "RQU_xS51FNxl"
      },
      "source": [
        "#Models\n",
        "from sklearn.svm import SVC, LinearSVC\n",
        "from sklearn.metrics import accuracy_score\n",
        "from xgboost import XGBClassifier\n",
        "from sklearn.linear_model import LogisticRegression\n",
        "from sklearn.neural_network import MLPClassifier\n",
        "\n",
        "from tensorflow import keras\n",
        "from tensorflow.keras import layers\n",
        "\n",
        "from keras.models import Sequential\n",
        "from keras.layers import Dense\n",
        "from sklearn.pipeline import Pipeline\n",
        "from scikeras.wrappers import KerasClassifier"
      ],
      "execution_count": null,
      "outputs": []
    },
    {
      "cell_type": "code",
      "metadata": {
        "id": "8sh1GeI4FNxm"
      },
      "source": [
        "target_col = [\"is_nw_intruded\"]"
      ],
      "execution_count": null,
      "outputs": []
    },
    {
      "cell_type": "code",
      "metadata": {
        "colab": {
          "base_uri": "https://localhost:8080/",
          "height": 275
        },
        "id": "2n68e66_FNxn",
        "outputId": "cf5af144-4112-4072-a6ca-f6699da6613a"
      },
      "source": [
        "data = pd.read_csv(\"train.csv\")\n",
        "test = pd.read_csv(\"test.csv\")\n",
        "\n",
        "print(f\"The shape of Training data is {data.shape}\")\n",
        "print(f\"The shape of Testing data is {test.shape}\")\n",
        "\n",
        "data = data.dropna()\n",
        "target = data[target_col]\n",
        "\n",
        "data_X = data.drop(target_col, axis=1)\n",
        "print(f\"The shape of Training data features is {data_X.shape}\")\n",
        "data_X.head()"
      ],
      "execution_count": null,
      "outputs": [
        {
          "output_type": "stream",
          "name": "stdout",
          "text": [
            "The shape of Training data is (80000, 52)\n",
            "The shape of Testing data is (20000, 51)\n",
            "The shape of Training data features is (80000, 51)\n"
          ]
        },
        {
          "output_type": "execute_result",
          "data": {
            "text/html": [
              "<div>\n",
              "<style scoped>\n",
              "    .dataframe tbody tr th:only-of-type {\n",
              "        vertical-align: middle;\n",
              "    }\n",
              "\n",
              "    .dataframe tbody tr th {\n",
              "        vertical-align: top;\n",
              "    }\n",
              "\n",
              "    .dataframe thead th {\n",
              "        text-align: right;\n",
              "    }\n",
              "</style>\n",
              "<table border=\"1\" class=\"dataframe\">\n",
              "  <thead>\n",
              "    <tr style=\"text-align: right;\">\n",
              "      <th></th>\n",
              "      <th>packet_id</th>\n",
              "      <th>seq_no</th>\n",
              "      <th>ip_add_src</th>\n",
              "      <th>ip_add_dest</th>\n",
              "      <th>src_inpk_at</th>\n",
              "      <th>dest_inpk_at</th>\n",
              "      <th>src_dest_ttl</th>\n",
              "      <th>starttime</th>\n",
              "      <th>lasttime</th>\n",
              "      <th>lstm_cxn_sport</th>\n",
              "      <th>lstm_cxn_dport</th>\n",
              "      <th>total_rec_time</th>\n",
              "      <th>src_ad_val</th>\n",
              "      <th>dest_ad_val</th>\n",
              "      <th>cxn_service_src</th>\n",
              "      <th>cxn_service_dest</th>\n",
              "      <th>lstm_cxn_src</th>\n",
              "      <th>lstm_cxn_dest</th>\n",
              "      <th>src_ttl</th>\n",
              "      <th>dest_ttl</th>\n",
              "      <th>src_bsn</th>\n",
              "      <th>dest_bsn</th>\n",
              "      <th>http_depth</th>\n",
              "      <th>src_pkt_count</th>\n",
              "      <th>dest_pkt_count</th>\n",
              "      <th>trans_src_bytes</th>\n",
              "      <th>dest_src_bytes</th>\n",
              "      <th>trans_protocol</th>\n",
              "      <th>src_bits</th>\n",
              "      <th>dest_bits</th>\n",
              "      <th>dep_protocol</th>\n",
              "      <th>src_dropped</th>\n",
              "      <th>dest_dropped</th>\n",
              "      <th>src_pkt_size</th>\n",
              "      <th>dest_pkt_size</th>\n",
              "      <th>src_jitter</th>\n",
              "      <th>dest_jitter</th>\n",
              "      <th>http_data_trans</th>\n",
              "      <th>src_dst_ip</th>\n",
              "      <th>cxn_rtt</th>\n",
              "      <th>pkack_cxn_rtt</th>\n",
              "      <th>pksyn_cxn_rtt</th>\n",
              "      <th>trans_type</th>\n",
              "      <th>ftp_pswd_flow</th>\n",
              "      <th>lstm_cxn_count</th>\n",
              "      <th>req_method</th>\n",
              "      <th>speed</th>\n",
              "      <th>ftp_access</th>\n",
              "      <th>rnd</th>\n",
              "      <th>port_dest</th>\n",
              "      <th>port_src</th>\n",
              "    </tr>\n",
              "  </thead>\n",
              "  <tbody>\n",
              "    <tr>\n",
              "      <th>0</th>\n",
              "      <td>1</td>\n",
              "      <td>81722</td>\n",
              "      <td>60.2.170.234</td>\n",
              "      <td>230.158.83.77</td>\n",
              "      <td>0.009000</td>\n",
              "      <td>0.000000</td>\n",
              "      <td>2</td>\n",
              "      <td>10:43:40</td>\n",
              "      <td>10:43:49</td>\n",
              "      <td>6</td>\n",
              "      <td>6</td>\n",
              "      <td>0.000009</td>\n",
              "      <td>0</td>\n",
              "      <td>0</td>\n",
              "      <td>22</td>\n",
              "      <td>22</td>\n",
              "      <td>6</td>\n",
              "      <td>6</td>\n",
              "      <td>254</td>\n",
              "      <td>0</td>\n",
              "      <td>0</td>\n",
              "      <td>0</td>\n",
              "      <td>0</td>\n",
              "      <td>2</td>\n",
              "      <td>0</td>\n",
              "      <td>114</td>\n",
              "      <td>0</td>\n",
              "      <td>udp</td>\n",
              "      <td>5.066666e+07</td>\n",
              "      <td>0.000000</td>\n",
              "      <td>INT</td>\n",
              "      <td>0</td>\n",
              "      <td>0</td>\n",
              "      <td>57</td>\n",
              "      <td>0</td>\n",
              "      <td>0.000000</td>\n",
              "      <td>0.000000</td>\n",
              "      <td>0</td>\n",
              "      <td>0</td>\n",
              "      <td>0.000000</td>\n",
              "      <td>0.000000</td>\n",
              "      <td>0.000000</td>\n",
              "      <td>dns</td>\n",
              "      <td>0</td>\n",
              "      <td>22</td>\n",
              "      <td>0</td>\n",
              "      <td>111111.107200</td>\n",
              "      <td>0</td>\n",
              "      <td>13905</td>\n",
              "      <td>64382</td>\n",
              "      <td>54834</td>\n",
              "    </tr>\n",
              "    <tr>\n",
              "      <th>1</th>\n",
              "      <td>2</td>\n",
              "      <td>83673</td>\n",
              "      <td>79.179.114.175</td>\n",
              "      <td>100.63.1.11</td>\n",
              "      <td>85.161507</td>\n",
              "      <td>18.947174</td>\n",
              "      <td>1</td>\n",
              "      <td>17:25:08</td>\n",
              "      <td>17:25:25</td>\n",
              "      <td>1</td>\n",
              "      <td>1</td>\n",
              "      <td>4.002591</td>\n",
              "      <td>255</td>\n",
              "      <td>255</td>\n",
              "      <td>1</td>\n",
              "      <td>1</td>\n",
              "      <td>1</td>\n",
              "      <td>1</td>\n",
              "      <td>62</td>\n",
              "      <td>252</td>\n",
              "      <td>1224718414</td>\n",
              "      <td>3666839597</td>\n",
              "      <td>0</td>\n",
              "      <td>48</td>\n",
              "      <td>208</td>\n",
              "      <td>2302</td>\n",
              "      <td>253561</td>\n",
              "      <td>tcp</td>\n",
              "      <td>4.507081e+03</td>\n",
              "      <td>504357.281300</td>\n",
              "      <td>FIN</td>\n",
              "      <td>6</td>\n",
              "      <td>102</td>\n",
              "      <td>48</td>\n",
              "      <td>1219</td>\n",
              "      <td>6004.057264</td>\n",
              "      <td>2968.238180</td>\n",
              "      <td>0</td>\n",
              "      <td>0</td>\n",
              "      <td>0.116756</td>\n",
              "      <td>0.056520</td>\n",
              "      <td>0.060236</td>\n",
              "      <td>-</td>\n",
              "      <td>0</td>\n",
              "      <td>1</td>\n",
              "      <td>0</td>\n",
              "      <td>63.708731</td>\n",
              "      <td>0</td>\n",
              "      <td>2366</td>\n",
              "      <td>56998</td>\n",
              "      <td>54907</td>\n",
              "    </tr>\n",
              "    <tr>\n",
              "      <th>2</th>\n",
              "      <td>3</td>\n",
              "      <td>60486</td>\n",
              "      <td>78.219.187.155</td>\n",
              "      <td>103.152.152.4</td>\n",
              "      <td>0.005000</td>\n",
              "      <td>0.000000</td>\n",
              "      <td>2</td>\n",
              "      <td>6:25:47</td>\n",
              "      <td>6:25:47</td>\n",
              "      <td>1</td>\n",
              "      <td>1</td>\n",
              "      <td>0.000005</td>\n",
              "      <td>0</td>\n",
              "      <td>0</td>\n",
              "      <td>3</td>\n",
              "      <td>1</td>\n",
              "      <td>1</td>\n",
              "      <td>1</td>\n",
              "      <td>254</td>\n",
              "      <td>0</td>\n",
              "      <td>0</td>\n",
              "      <td>0</td>\n",
              "      <td>0</td>\n",
              "      <td>2</td>\n",
              "      <td>0</td>\n",
              "      <td>494</td>\n",
              "      <td>0</td>\n",
              "      <td>udp</td>\n",
              "      <td>3.952000e+08</td>\n",
              "      <td>0.000000</td>\n",
              "      <td>INT</td>\n",
              "      <td>0</td>\n",
              "      <td>0</td>\n",
              "      <td>247</td>\n",
              "      <td>0</td>\n",
              "      <td>0.000000</td>\n",
              "      <td>0.000000</td>\n",
              "      <td>0</td>\n",
              "      <td>0</td>\n",
              "      <td>0.000000</td>\n",
              "      <td>0.000000</td>\n",
              "      <td>0.000000</td>\n",
              "      <td>-</td>\n",
              "      <td>0</td>\n",
              "      <td>1</td>\n",
              "      <td>0</td>\n",
              "      <td>200000.005100</td>\n",
              "      <td>0</td>\n",
              "      <td>2682</td>\n",
              "      <td>57405</td>\n",
              "      <td>53966</td>\n",
              "    </tr>\n",
              "    <tr>\n",
              "      <th>3</th>\n",
              "      <td>4</td>\n",
              "      <td>16701</td>\n",
              "      <td>213.77.245.114</td>\n",
              "      <td>121.246.173.153</td>\n",
              "      <td>90.890543</td>\n",
              "      <td>80.888273</td>\n",
              "      <td>1</td>\n",
              "      <td>19:12:45</td>\n",
              "      <td>19:12:49</td>\n",
              "      <td>1</td>\n",
              "      <td>1</td>\n",
              "      <td>0.999796</td>\n",
              "      <td>255</td>\n",
              "      <td>255</td>\n",
              "      <td>2</td>\n",
              "      <td>2</td>\n",
              "      <td>3</td>\n",
              "      <td>1</td>\n",
              "      <td>62</td>\n",
              "      <td>252</td>\n",
              "      <td>1607997394</td>\n",
              "      <td>3339783268</td>\n",
              "      <td>1</td>\n",
              "      <td>12</td>\n",
              "      <td>12</td>\n",
              "      <td>1262</td>\n",
              "      <td>3234</td>\n",
              "      <td>tcp</td>\n",
              "      <td>9.257889e+03</td>\n",
              "      <td>23724.839840</td>\n",
              "      <td>FIN</td>\n",
              "      <td>3</td>\n",
              "      <td>3</td>\n",
              "      <td>105</td>\n",
              "      <td>270</td>\n",
              "      <td>5156.094532</td>\n",
              "      <td>144.096828</td>\n",
              "      <td>761</td>\n",
              "      <td>0</td>\n",
              "      <td>0.261904</td>\n",
              "      <td>0.153774</td>\n",
              "      <td>0.108130</td>\n",
              "      <td>http</td>\n",
              "      <td>0</td>\n",
              "      <td>1</td>\n",
              "      <td>1</td>\n",
              "      <td>23.004694</td>\n",
              "      <td>0</td>\n",
              "      <td>13608</td>\n",
              "      <td>53962</td>\n",
              "      <td>64901</td>\n",
              "    </tr>\n",
              "    <tr>\n",
              "      <th>4</th>\n",
              "      <td>5</td>\n",
              "      <td>80069</td>\n",
              "      <td>62.148.203.79</td>\n",
              "      <td>242.88.4.212</td>\n",
              "      <td>92.197800</td>\n",
              "      <td>0.001000</td>\n",
              "      <td>3</td>\n",
              "      <td>14:04:20</td>\n",
              "      <td>14:04:23</td>\n",
              "      <td>1</td>\n",
              "      <td>2</td>\n",
              "      <td>0.460989</td>\n",
              "      <td>255</td>\n",
              "      <td>255</td>\n",
              "      <td>7</td>\n",
              "      <td>4</td>\n",
              "      <td>3</td>\n",
              "      <td>2</td>\n",
              "      <td>62</td>\n",
              "      <td>252</td>\n",
              "      <td>1024827879</td>\n",
              "      <td>3673219255</td>\n",
              "      <td>0</td>\n",
              "      <td>6</td>\n",
              "      <td>2</td>\n",
              "      <td>1012</td>\n",
              "      <td>86</td>\n",
              "      <td>tcp</td>\n",
              "      <td>1.464677e+04</td>\n",
              "      <td>746.221741</td>\n",
              "      <td>CON</td>\n",
              "      <td>2</td>\n",
              "      <td>1</td>\n",
              "      <td>169</td>\n",
              "      <td>43</td>\n",
              "      <td>5109.490527</td>\n",
              "      <td>0.000000</td>\n",
              "      <td>0</td>\n",
              "      <td>0</td>\n",
              "      <td>0.340783</td>\n",
              "      <td>0.174539</td>\n",
              "      <td>0.166244</td>\n",
              "      <td>-</td>\n",
              "      <td>0</td>\n",
              "      <td>4</td>\n",
              "      <td>0</td>\n",
              "      <td>15.184744</td>\n",
              "      <td>0</td>\n",
              "      <td>12481</td>\n",
              "      <td>49609</td>\n",
              "      <td>62846</td>\n",
              "    </tr>\n",
              "  </tbody>\n",
              "</table>\n",
              "</div>"
            ],
            "text/plain": [
              "   packet_id  seq_no      ip_add_src  ...    rnd  port_dest  port_src\n",
              "0          1   81722    60.2.170.234  ...  13905      64382     54834\n",
              "1          2   83673  79.179.114.175  ...   2366      56998     54907\n",
              "2          3   60486  78.219.187.155  ...   2682      57405     53966\n",
              "3          4   16701  213.77.245.114  ...  13608      53962     64901\n",
              "4          5   80069   62.148.203.79  ...  12481      49609     62846\n",
              "\n",
              "[5 rows x 51 columns]"
            ]
          },
          "metadata": {},
          "execution_count": 25
        }
      ]
    },
    {
      "cell_type": "code",
      "metadata": {
        "id": "KkMRppAHFNxp"
      },
      "source": [
        "def starttime_calc (row):\n",
        "    format = '%H:%M:%S'\n",
        "    ftr = [3600,60,1]\n",
        "    if \":\" in row['starttime'] :\n",
        "        x =  str(datetime.datetime.strptime(row['starttime'], format)).split(\" \")[1]\n",
        "        a = sum([a*b for a,b in zip(ftr, map(int,str(x).split(':')))])\n",
        "        return int(a)\n",
        "    elif \".\" in row['starttime']:\n",
        "        if len(row['starttime']) < 11:\n",
        "            nt = row['starttime'] + \"0\"*(11-len(row['starttime']))\n",
        "            dat = int(nt.split(\".\")[1])\n",
        "            return int(dat/11574)\n",
        "        \n",
        "        dat = int(row['starttime'].split(\".\")[1])\n",
        "        return int(dat/11574)\n",
        "    else:\n",
        "    # return row['starttime']\n",
        "        return 0\n",
        "\n",
        "def lasttime_calc (row):\n",
        "    format = '%H:%M:%S'\n",
        "    ftr = [3600,60,1]\n",
        "\n",
        "    if \":\" in row['lasttime'] :\n",
        "        x =  str(datetime.datetime.strptime(row['lasttime'], format)).split(\" \")[1]\n",
        "        a = sum([a*b for a,b in zip(ftr, map(int,str(x).split(':')))])\n",
        "        return int(a)\n",
        "    elif \".\" in row['lasttime']:\n",
        "        if len(row['lasttime']) < 11:\n",
        "            nt = row['lasttime'] + \"0\"*(11-len(row['lasttime']))\n",
        "            dat = int(nt.split(\".\")[1])\n",
        "            return int(dat/11574)\n",
        "        \n",
        "        dat = int(row['lasttime'].split(\".\")[1])\n",
        "        return int(dat/11574)\n",
        "    else:\n",
        "        return 0\n",
        "\n",
        "def duration (row):\n",
        "    l = int(row['last_sec'])\n",
        "    s = int(row['start_sec'])\n",
        "    return int(l-s)\n",
        "\n",
        "def n_length(x):\n",
        "    if \".\" in x:\n",
        "        if len(x) < 11:\n",
        "            return x + \"0\"*(11-len(x))\n",
        "        else:\n",
        "            return x"
      ],
      "execution_count": null,
      "outputs": []
    },
    {
      "cell_type": "code",
      "metadata": {
        "id": "JIZ_joLlFNxt"
      },
      "source": [
        "data_X[\"start_sec\"] = data_X.apply (lambda row: starttime_calc(row), axis=1)\n",
        "data_X[\"last_sec\"] = data_X.apply (lambda row: lasttime_calc(row), axis=1)\n",
        "data_X[\"total_time\"] = data_X.apply (lambda row: duration(row), axis=1)\n",
        "\n",
        "test[\"start_sec\"] = test.apply (lambda row: starttime_calc(row), axis=1)\n",
        "test[\"last_sec\"] = test.apply (lambda row: lasttime_calc(row), axis=1)\n",
        "test[\"total_time\"] = test.apply (lambda row: duration(row), axis=1)"
      ],
      "execution_count": null,
      "outputs": []
    },
    {
      "cell_type": "code",
      "metadata": {
        "colab": {
          "base_uri": "https://localhost:8080/"
        },
        "id": "-qN6jFAUFNxu",
        "outputId": "faedb360-ac56-446e-96fb-cbc212ed4b1b"
      },
      "source": [
        "dummy_fields = [\"trans_protocol\", \"dep_protocol\", \"trans_type\"]\n",
        "fields_to_drop = [\"packet_id\", \"seq_no\", \"src_bsn\", \"dest_bsn\", \"port_dest\", \"port_src\", \n",
        "                   \"ip_add_src\", \"ip_add_dest\", \"starttime\", \"lasttime\",\"start_sec\", \"last_sec\"]\n",
        "\n",
        "data_X = pd.get_dummies(data=data_X, columns=dummy_fields)\n",
        "data_X = data_X.drop(fields_to_drop, axis=1)\n",
        "print(f\"The shape of Training data features is {data_X.shape}\")\n",
        "\n",
        "\n",
        "test = pd.get_dummies(data=test, columns=dummy_fields)\n",
        "test = test.drop(fields_to_drop, axis=1)\n",
        "print(f\"The shape of test data features is {test.shape}\")\n",
        "\n",
        "missing_values_test = list(set(data_X.columns) - set(test.columns))\n",
        "print(f\"missing values in the test set {missing_values_test}\" )\n",
        "\n",
        "for missing in missing_values_test:\n",
        "    test[missing] = 0\n",
        "test = test[data_X.columns]\n",
        "print(f\"The shape of test data features after importing missing values is {test.shape}\")"
      ],
      "execution_count": null,
      "outputs": [
        {
          "output_type": "stream",
          "name": "stdout",
          "text": [
            "The shape of Training data features is (80000, 61)\n",
            "The shape of test data features is (20000, 59)\n",
            "missing values in the test set ['dep_protocol_CLO', 'dep_protocol_ACC']\n",
            "The shape of test data features after importing missing values is (20000, 61)\n"
          ]
        }
      ]
    },
    {
      "cell_type": "code",
      "metadata": {
        "colab": {
          "base_uri": "https://localhost:8080/"
        },
        "id": "N2MO90_cGIJD",
        "outputId": "e8917416-522e-4a6b-84e6-6e6d9017f9e0"
      },
      "source": [
        "# data_X.isna().any()\n",
        "data_X.columns[data_X.isna().any()].tolist()\n",
        "# data_X= data_X.dropna()\n",
        "data_X.shape\n",
        "\n",
        "# target = data_X['is_nw_intruded']"
      ],
      "execution_count": null,
      "outputs": [
        {
          "output_type": "execute_result",
          "data": {
            "text/plain": [
              "(80000, 61)"
            ]
          },
          "metadata": {},
          "execution_count": 30
        }
      ]
    },
    {
      "cell_type": "code",
      "metadata": {
        "id": "djpSTucMFNxu"
      },
      "source": [
        "X_train, X_test, y_train, y_test = train_test_split(data_X, target, test_size=0.25, random_state=42, stratify=target)"
      ],
      "execution_count": null,
      "outputs": []
    },
    {
      "cell_type": "code",
      "metadata": {
        "collapsed": true,
        "id": "14SXCp95FNxu"
      },
      "source": [
        "# baseline model\n",
        "def create_baseline():\n",
        "\t# create model\n",
        "\tmodel = Sequential()\n",
        "\tmodel.add(Dense(61, input_dim=61, activation='relu'))\n",
        "\tmodel.add(Dense(1, activation='sigmoid'))\n",
        "\t# Compile model\n",
        "\tmodel.compile(loss='binary_crossentropy', optimizer='adam', metrics=['accuracy'])\n",
        "\treturn model\n",
        "\n",
        "# evaluate model with standardized dataset\n",
        "estimator = KerasClassifier(model=create_baseline, epochs=100, batch_size=5, verbose=0)\n",
        "kfold = StratifiedKFold(n_splits=5, shuffle=True)\n",
        "# results = cross_val_score(estimator, X_train, y_train.values.flatten(), cv=kfold, n_jobs=-1)\n",
        "# print(\"Baseline: %.2f%% (%.2f%%)\" % (results.mean()*100, results.std()*100))"
      ],
      "execution_count": null,
      "outputs": []
    },
    {
      "cell_type": "code",
      "metadata": {
        "colab": {
          "base_uri": "https://localhost:8080/"
        },
        "id": "ZsUv9tR6IvYp",
        "outputId": "223ff1db-56b1-47c0-eeb5-385b5a1e986b"
      },
      "source": [
        "results = cross_val_score(estimator, X_train, y_train.values.flatten(), cv=kfold)\n",
        "print(\"Baseline: %.2f%% (%.2f%%)\" % (results.mean()*100, results.std()*100))"
      ],
      "execution_count": null,
      "outputs": [
        {
          "output_type": "stream",
          "name": "stdout",
          "text": [
            "Baseline: 68.19% (0.21%)\n"
          ]
        }
      ]
    },
    {
      "cell_type": "code",
      "metadata": {
        "colab": {
          "base_uri": "https://localhost:8080/"
        },
        "id": "SDGPT9gbFNxv",
        "outputId": "a84913b9-82db-406d-c46b-4ba0b71f5f10"
      },
      "source": [
        "# evaluate baseline model with standardized dataset\n",
        "estimators = []\n",
        "estimators.append(('standardize', StandardScaler()))\n",
        "estimators.append(('mlp', KerasClassifier(model=create_baseline, epochs=100, batch_size=5, verbose=0)))\n",
        "pipeline = Pipeline(estimators)\n",
        "kfold = StratifiedKFold(n_splits=5, shuffle=True)\n",
        "results = cross_val_score(pipeline, X_train, y_train.values.flatten(), cv=kfold, n_jobs=-1)\n",
        "print(\"Standardized: %.2f%% (%.2f%%)\" % (results.mean()*100, results.std()*100))"
      ],
      "execution_count": null,
      "outputs": [
        {
          "output_type": "stream",
          "name": "stdout",
          "text": [
            "Standardized: 84.67% (0.32%)\n"
          ]
        }
      ]
    },
    {
      "cell_type": "code",
      "metadata": {
        "id": "7AynTM5nFNxv"
      },
      "source": [
        "def create_smaller():\n",
        "    # create model\n",
        "    model = Sequential()\n",
        "    model.add(Dense(30, input_dim=60, activation='relu'))\n",
        "    model.add(Dense(1, activation='sigmoid'))\n",
        "    # Compile model\n",
        "    model.compile(loss='binary_crossentropy', optimizer='adam', metrics=['accuracy'])\n",
        "    return model\n",
        "estimators = []\n",
        "estimators.append(('standardize', StandardScaler()))\n",
        "estimators.append(('mlp', KerasClassifier(model=create_smaller, epochs=100, batch_size=5, verbose=0)))\n",
        "pipeline = Pipeline(estimators)\n",
        "kfold = StratifiedKFold(n_splits=5, shuffle=True)\n",
        "results = cross_val_score(pipeline, X_train, y_train.values.flatten(), cv=kfold, n_jobs=-1)\n",
        "print(\"Smaller: %.2f%% (%.2f%%)\" % (results.mean()*100, results.std()*100))"
      ],
      "execution_count": null,
      "outputs": []
    },
    {
      "cell_type": "code",
      "metadata": {
        "id": "Lwmq65QDFNxv"
      },
      "source": [
        "# larger model\n",
        "def create_larger():\n",
        "    # create model\n",
        "    model = Sequential()\n",
        "    model.add(Dense(60, input_dim=61, activation='relu'))\n",
        "    model.add(Dense(30, activation='relu'))\n",
        "    model.add(Dense(1, activation='sigmoid'))\n",
        "    # Compile model\n",
        "    model.compile(loss='binary_crossentropy', optimizer='adam', metrics=['accuracy'])\n",
        "    return model\n",
        "estimators = []\n",
        "estimators.append(('standardize', StandardScaler()))\n",
        "estimators.append(('mlp', KerasClassifier(model=create_larger, epochs=100, batch_size=5, verbose=0)))\n",
        "pipeline = Pipeline(estimators)\n",
        "kfold = StratifiedKFold(n_splits=5, shuffle=True)\n",
        "results = cross_val_score(pipeline, X_train, y_train.values.flatten(), cv=kfold, n_jobs=-1)\n",
        "print(\"Larger: %.2f%% (%.2f%%)\" % (results.mean()*100, results.std()*100))"
      ],
      "execution_count": null,
      "outputs": []
    },
    {
      "cell_type": "code",
      "metadata": {
        "id": "pBuHe5jnFNxw"
      },
      "source": [
        "# larger model\n",
        "def create_larger():\n",
        "    # create model\n",
        "    model = Sequential()\n",
        "    model.add(Dense(30, input_dim=60, activation='relu'))\n",
        "    model.add(Dense(10, activation='relu'))\n",
        "    model.add(Dense(1, activation='sigmoid'))\n",
        "    # Compile model\n",
        "    model.compile(loss='binary_crossentropy', optimizer='adam', metrics=['accuracy'])\n",
        "    return model\n",
        "estimators = []\n",
        "estimators.append(('standardize', StandardScaler()))\n",
        "estimators.append(('mlp', KerasClassifier(model=create_larger, epochs=100, batch_size=5, verbose=0)))\n",
        "pipeline = Pipeline(estimators)\n",
        "kfold = StratifiedKFold(n_splits=5, shuffle=True)\n",
        "results = cross_val_score(pipeline, X_train, y_train.values.flatten(), cv=kfold, n_jobs=-1)\n",
        "print(\"Larger: %.2f%% (%.2f%%)\" % (results.mean()*100, results.std()*100))"
      ],
      "execution_count": null,
      "outputs": []
    },
    {
      "cell_type": "code",
      "metadata": {
        "id": "peR6cIYSFNxw"
      },
      "source": [
        "# larger model\n",
        "def create_larger():\n",
        "    # create model\n",
        "    model = Sequential()\n",
        "    model.add(Dense(60, input_dim=60, activation='relu'))\n",
        "    model.add(Dense(30, activation='relu'))\n",
        "    model.add(Dense(1, activation='sigmoid'))\n",
        "    # Compile model\n",
        "    model.compile(loss='binary_crossentropy', optimizer='adam', metrics=['accuracy'])\n",
        "    return model\n",
        "\n",
        "std =  StandardScaler()\n",
        "data_X_1 = std.fit_transform(data_X)\n",
        "test_1 = std.transform(test)\n",
        "\n",
        "clf = KerasClassifier(model=create_larger, epochs=100, batch_size=5, verbose=0)\n",
        "clf.fit(data_X_1, target.values.flatten())"
      ],
      "execution_count": null,
      "outputs": []
    },
    {
      "cell_type": "code",
      "metadata": {
        "id": "fLg2MaVzFNxw"
      },
      "source": [
        "test1 = pd.read_csv(\"test.csv\")\n",
        "res = pd.DataFrame(pd.concat([test1['packet_id'], pd.Series(pred)], axis=1))\n",
        "res.columns = [\"packet_id\", \"is_nw_intruded\"]"
      ],
      "execution_count": null,
      "outputs": []
    },
    {
      "cell_type": "code",
      "metadata": {
        "id": "uzl6lgS9FNxw"
      },
      "source": [
        "res"
      ],
      "execution_count": null,
      "outputs": []
    },
    {
      "cell_type": "code",
      "metadata": {
        "id": "Rv-7F-BJFNxx"
      },
      "source": [
        "res.to_csv(\"result.csv\")"
      ],
      "execution_count": null,
      "outputs": []
    }
  ]
}