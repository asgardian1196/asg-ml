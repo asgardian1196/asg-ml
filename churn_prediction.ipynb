{
 "cells": [
  {
   "cell_type": "markdown",
   "metadata": {},
   "source": [
    "# Churn Prediction "
   ]
  },
  {
   "cell_type": "markdown",
   "metadata": {},
   "source": [
    "### Imports"
   ]
  },
  {
   "cell_type": "code",
   "execution_count": 24,
   "metadata": {},
   "outputs": [],
   "source": [
    "import pandas as pd\n",
    "import numpy as np\n",
    "import datetime as dt\n",
    "import seaborn as sns\n",
    "import matplotlib.pyplot as plt"
   ]
  },
  {
   "cell_type": "code",
   "execution_count": 25,
   "metadata": {},
   "outputs": [],
   "source": [
    "from IPython.core.interactiveshell import InteractiveShell\n",
    "InteractiveShell.ast_node_interactivity = 'all'"
   ]
  },
  {
   "cell_type": "markdown",
   "metadata": {},
   "source": [
    "### Reading data and initial EDA"
   ]
  },
  {
   "cell_type": "code",
   "execution_count": 26,
   "metadata": {},
   "outputs": [],
   "source": [
    "data = pd.read_csv(\"takehome_ds_written.csv\")"
   ]
  },
  {
   "cell_type": "code",
   "execution_count": 27,
   "metadata": {},
   "outputs": [
    {
     "data": {
      "text/html": [
       "<div>\n",
       "<style scoped>\n",
       "    .dataframe tbody tr th:only-of-type {\n",
       "        vertical-align: middle;\n",
       "    }\n",
       "\n",
       "    .dataframe tbody tr th {\n",
       "        vertical-align: top;\n",
       "    }\n",
       "\n",
       "    .dataframe thead th {\n",
       "        text-align: right;\n",
       "    }\n",
       "</style>\n",
       "<table border=\"1\" class=\"dataframe\">\n",
       "  <thead>\n",
       "    <tr style=\"text-align: right;\">\n",
       "      <th></th>\n",
       "      <th>Unnamed: 0</th>\n",
       "      <th>merchant</th>\n",
       "      <th>time</th>\n",
       "      <th>amount_usd_in_cents</th>\n",
       "    </tr>\n",
       "  </thead>\n",
       "  <tbody>\n",
       "    <tr>\n",
       "      <th>0</th>\n",
       "      <td>1</td>\n",
       "      <td>faa029c6b0</td>\n",
       "      <td>2034-06-17 23:34:14</td>\n",
       "      <td>6349</td>\n",
       "    </tr>\n",
       "    <tr>\n",
       "      <th>1</th>\n",
       "      <td>2</td>\n",
       "      <td>ed7a7d91aa</td>\n",
       "      <td>2034-12-27 00:40:38</td>\n",
       "      <td>3854</td>\n",
       "    </tr>\n",
       "    <tr>\n",
       "      <th>2</th>\n",
       "      <td>3</td>\n",
       "      <td>5608f200cf</td>\n",
       "      <td>2034-04-30 01:29:42</td>\n",
       "      <td>789</td>\n",
       "    </tr>\n",
       "    <tr>\n",
       "      <th>3</th>\n",
       "      <td>4</td>\n",
       "      <td>15b1a0d61e</td>\n",
       "      <td>2034-09-16 01:06:23</td>\n",
       "      <td>4452</td>\n",
       "    </tr>\n",
       "    <tr>\n",
       "      <th>4</th>\n",
       "      <td>5</td>\n",
       "      <td>4770051790</td>\n",
       "      <td>2034-07-22 16:21:42</td>\n",
       "      <td>20203</td>\n",
       "    </tr>\n",
       "  </tbody>\n",
       "</table>\n",
       "</div>"
      ],
      "text/plain": [
       "   Unnamed: 0    merchant                 time  amount_usd_in_cents\n",
       "0           1  faa029c6b0  2034-06-17 23:34:14                 6349\n",
       "1           2  ed7a7d91aa  2034-12-27 00:40:38                 3854\n",
       "2           3  5608f200cf  2034-04-30 01:29:42                  789\n",
       "3           4  15b1a0d61e  2034-09-16 01:06:23                 4452\n",
       "4           5  4770051790  2034-07-22 16:21:42                20203"
      ]
     },
     "execution_count": 27,
     "metadata": {},
     "output_type": "execute_result"
    }
   ],
   "source": [
    "data.head()"
   ]
  },
  {
   "cell_type": "code",
   "execution_count": 28,
   "metadata": {},
   "outputs": [
    {
     "name": "stdout",
     "output_type": "stream",
     "text": [
      "(1513719, 4)\n",
      "14351\n"
     ]
    }
   ],
   "source": [
    "print(data.shape)\n",
    "print(data.merchant.nunique())"
   ]
  },
  {
   "cell_type": "markdown",
   "metadata": {},
   "source": [
    "### There are around 1.5 million transactions \n",
    "### 14351 merchants"
   ]
  },
  {
   "cell_type": "markdown",
   "metadata": {},
   "source": [
    "### Identifying merchants "
   ]
  },
  {
   "cell_type": "code",
   "execution_count": 29,
   "metadata": {},
   "outputs": [
    {
     "data": {
      "text/plain": [
       "merchant\n",
       "5608f200cf    25512\n",
       "53b3fbeae2    12178\n",
       "1ddaea9838    12042\n",
       "89e2d29885    11969\n",
       "654930c922    11222\n",
       "              ...  \n",
       "9847b12953        1\n",
       "985bf67891        1\n",
       "9865dca5a3        1\n",
       "988269b4df        1\n",
       "80240af3ef        1\n",
       "Length: 14351, dtype: int64"
      ]
     },
     "execution_count": 29,
     "metadata": {},
     "output_type": "execute_result"
    }
   ],
   "source": [
    "df = data.groupby('merchant').size().sort_values(ascending=False)\n",
    "df"
   ]
  },
  {
   "cell_type": "code",
   "execution_count": 30,
   "metadata": {},
   "outputs": [],
   "source": [
    "a = data.groupby(['merchant'])['amount_usd_in_cents'].agg('sum').sort_values(ascending=False)"
   ]
  },
  {
   "cell_type": "code",
   "execution_count": 31,
   "metadata": {},
   "outputs": [
    {
     "data": {
      "text/html": [
       "<div>\n",
       "<style scoped>\n",
       "    .dataframe tbody tr th:only-of-type {\n",
       "        vertical-align: middle;\n",
       "    }\n",
       "\n",
       "    .dataframe tbody tr th {\n",
       "        vertical-align: top;\n",
       "    }\n",
       "\n",
       "    .dataframe thead th {\n",
       "        text-align: right;\n",
       "    }\n",
       "</style>\n",
       "<table border=\"1\" class=\"dataframe\">\n",
       "  <thead>\n",
       "    <tr style=\"text-align: right;\">\n",
       "      <th></th>\n",
       "      <th>amount_usd_in_cents</th>\n",
       "    </tr>\n",
       "    <tr>\n",
       "      <th>merchant</th>\n",
       "      <th></th>\n",
       "    </tr>\n",
       "  </thead>\n",
       "  <tbody>\n",
       "    <tr>\n",
       "      <th>44ee3ec72c</th>\n",
       "      <td>236907231</td>\n",
       "    </tr>\n",
       "    <tr>\n",
       "      <th>bdebc6831e</th>\n",
       "      <td>218808567</td>\n",
       "    </tr>\n",
       "    <tr>\n",
       "      <th>654930c922</th>\n",
       "      <td>151116295</td>\n",
       "    </tr>\n",
       "    <tr>\n",
       "      <th>ce61387781</th>\n",
       "      <td>142905563</td>\n",
       "    </tr>\n",
       "    <tr>\n",
       "      <th>82897075ed</th>\n",
       "      <td>110573229</td>\n",
       "    </tr>\n",
       "  </tbody>\n",
       "</table>\n",
       "</div>"
      ],
      "text/plain": [
       "            amount_usd_in_cents\n",
       "merchant                       \n",
       "44ee3ec72c            236907231\n",
       "bdebc6831e            218808567\n",
       "654930c922            151116295\n",
       "ce61387781            142905563\n",
       "82897075ed            110573229"
      ]
     },
     "execution_count": 31,
     "metadata": {},
     "output_type": "execute_result"
    }
   ],
   "source": [
    "df = a.to_frame()\n",
    "df.head()"
   ]
  },
  {
   "cell_type": "markdown",
   "metadata": {},
   "source": [
    "### convert the amount USD in cents to a round figure"
   ]
  },
  {
   "cell_type": "code",
   "execution_count": 32,
   "metadata": {},
   "outputs": [
    {
     "data": {
      "text/html": [
       "<div>\n",
       "<style scoped>\n",
       "    .dataframe tbody tr th:only-of-type {\n",
       "        vertical-align: middle;\n",
       "    }\n",
       "\n",
       "    .dataframe tbody tr th {\n",
       "        vertical-align: top;\n",
       "    }\n",
       "\n",
       "    .dataframe thead th {\n",
       "        text-align: right;\n",
       "    }\n",
       "</style>\n",
       "<table border=\"1\" class=\"dataframe\">\n",
       "  <thead>\n",
       "    <tr style=\"text-align: right;\">\n",
       "      <th></th>\n",
       "      <th>amount_usd_in_cents</th>\n",
       "      <th>USD</th>\n",
       "      <th>hundred</th>\n",
       "      <th>nearest_100</th>\n",
       "    </tr>\n",
       "    <tr>\n",
       "      <th>merchant</th>\n",
       "      <th></th>\n",
       "      <th></th>\n",
       "      <th></th>\n",
       "      <th></th>\n",
       "    </tr>\n",
       "  </thead>\n",
       "  <tbody>\n",
       "    <tr>\n",
       "      <th>44ee3ec72c</th>\n",
       "      <td>236907231</td>\n",
       "      <td>2369072</td>\n",
       "      <td>23690</td>\n",
       "      <td>23600</td>\n",
       "    </tr>\n",
       "    <tr>\n",
       "      <th>bdebc6831e</th>\n",
       "      <td>218808567</td>\n",
       "      <td>2188085</td>\n",
       "      <td>21880</td>\n",
       "      <td>21800</td>\n",
       "    </tr>\n",
       "    <tr>\n",
       "      <th>654930c922</th>\n",
       "      <td>151116295</td>\n",
       "      <td>1511162</td>\n",
       "      <td>15111</td>\n",
       "      <td>15100</td>\n",
       "    </tr>\n",
       "    <tr>\n",
       "      <th>ce61387781</th>\n",
       "      <td>142905563</td>\n",
       "      <td>1429055</td>\n",
       "      <td>14290</td>\n",
       "      <td>14200</td>\n",
       "    </tr>\n",
       "    <tr>\n",
       "      <th>82897075ed</th>\n",
       "      <td>110573229</td>\n",
       "      <td>1105732</td>\n",
       "      <td>11057</td>\n",
       "      <td>11000</td>\n",
       "    </tr>\n",
       "  </tbody>\n",
       "</table>\n",
       "</div>"
      ],
      "text/plain": [
       "            amount_usd_in_cents      USD  hundred  nearest_100\n",
       "merchant                                                      \n",
       "44ee3ec72c            236907231  2369072    23690        23600\n",
       "bdebc6831e            218808567  2188085    21880        21800\n",
       "654930c922            151116295  1511162    15111        15100\n",
       "ce61387781            142905563  1429055    14290        14200\n",
       "82897075ed            110573229  1105732    11057        11000"
      ]
     },
     "execution_count": 32,
     "metadata": {},
     "output_type": "execute_result"
    }
   ],
   "source": [
    "df[\"USD\"] = df[\"amount_usd_in_cents\"]/100\n",
    "df[\"USD\"] = df[\"USD\"].astype(int)\n",
    "df[\"hundred\"] = df[\"USD\"]/100\n",
    "df[\"hundred\"] = df[\"hundred\"].astype(int)\n",
    "df[\"nearest_100\"] = df[\"hundred\"] - df[\"hundred\"]%100\n",
    "df[\"nearest_100\"] = df[\"nearest_100\"].astype(int)\n",
    "df.head()\n",
    "# df[\"nearest_100\"].value_counts()"
   ]
  },
  {
   "cell_type": "code",
   "execution_count": 33,
   "metadata": {},
   "outputs": [
    {
     "data": {
      "text/plain": [
       "<Figure size 1440x432 with 0 Axes>"
      ]
     },
     "execution_count": 33,
     "metadata": {},
     "output_type": "execute_result"
    },
    {
     "data": {
      "text/plain": [
       "<AxesSubplot:xlabel='nearest_100', ylabel='count'>"
      ]
     },
     "execution_count": 33,
     "metadata": {},
     "output_type": "execute_result"
    },
    {
     "data": {
      "image/png": "[encoded data removed]",
      "text/plain": [
       "<Figure size 1440x432 with 1 Axes>"
      ]
     },
     "metadata": {
      "needs_background": "light"
     },
     "output_type": "display_data"
    }
   ],
   "source": [
    "plt.figure(figsize=(20,6)) \n",
    "sns.countplot(df[\"nearest_100\"], order=pd.value_counts(df[\"nearest_100\"]).iloc[:20].index)\n",
    "plt.show()"
   ]
  },
  {
   "cell_type": "markdown",
   "metadata": {},
   "source": [
    "### A majority of the merchants have spent under 100 USD over the period of 2 years"
   ]
  },
  {
   "cell_type": "markdown",
   "metadata": {},
   "source": [
    "### Lets check the frequency now"
   ]
  },
  {
   "cell_type": "code",
   "execution_count": 34,
   "metadata": {},
   "outputs": [
    {
     "data": {
      "text/html": [
       "<div>\n",
       "<style scoped>\n",
       "    .dataframe tbody tr th:only-of-type {\n",
       "        vertical-align: middle;\n",
       "    }\n",
       "\n",
       "    .dataframe tbody tr th {\n",
       "        vertical-align: top;\n",
       "    }\n",
       "\n",
       "    .dataframe thead th {\n",
       "        text-align: right;\n",
       "    }\n",
       "</style>\n",
       "<table border=\"1\" class=\"dataframe\">\n",
       "  <thead>\n",
       "    <tr style=\"text-align: right;\">\n",
       "      <th></th>\n",
       "      <th>time</th>\n",
       "    </tr>\n",
       "    <tr>\n",
       "      <th>merchant</th>\n",
       "      <th></th>\n",
       "    </tr>\n",
       "  </thead>\n",
       "  <tbody>\n",
       "    <tr>\n",
       "      <th>5608f200cf</th>\n",
       "      <td>25512</td>\n",
       "    </tr>\n",
       "    <tr>\n",
       "      <th>53b3fbeae2</th>\n",
       "      <td>12178</td>\n",
       "    </tr>\n",
       "    <tr>\n",
       "      <th>1ddaea9838</th>\n",
       "      <td>12042</td>\n",
       "    </tr>\n",
       "    <tr>\n",
       "      <th>89e2d29885</th>\n",
       "      <td>11969</td>\n",
       "    </tr>\n",
       "    <tr>\n",
       "      <th>654930c922</th>\n",
       "      <td>11222</td>\n",
       "    </tr>\n",
       "  </tbody>\n",
       "</table>\n",
       "</div>"
      ],
      "text/plain": [
       "             time\n",
       "merchant         \n",
       "5608f200cf  25512\n",
       "53b3fbeae2  12178\n",
       "1ddaea9838  12042\n",
       "89e2d29885  11969\n",
       "654930c922  11222"
      ]
     },
     "execution_count": 34,
     "metadata": {},
     "output_type": "execute_result"
    }
   ],
   "source": [
    "freq = data.groupby(['merchant'])['time'].agg('count').sort_values(ascending=False)\n",
    "# freq.shape\n",
    "df_freq = freq.to_frame()\n",
    "df_freq.head()"
   ]
  },
  {
   "cell_type": "code",
   "execution_count": 72,
   "metadata": {},
   "outputs": [
    {
     "data": {
      "text/plain": [
       "<Figure size 864x432 with 0 Axes>"
      ]
     },
     "execution_count": 72,
     "metadata": {},
     "output_type": "execute_result"
    },
    {
     "data": {
      "text/plain": [
       "<AxesSubplot:xlabel='time', ylabel='count'>"
      ]
     },
     "execution_count": 72,
     "metadata": {},
     "output_type": "execute_result"
    },
    {
     "data": {
      "image/png": "[encoded data removed]",
      "text/plain": [
       "<Figure size 864x432 with 1 Axes>"
      ]
     },
     "metadata": {
      "needs_background": "light"
     },
     "output_type": "display_data"
    }
   ],
   "source": [
    "plt.figure(figsize=(12,6)) \n",
    "sns.countplot(df_freq[\"time\"], order=pd.value_counts(df_freq[\"time\"]).iloc[:40].index)\n",
    "plt.show()"
   ]
  },
  {
   "cell_type": "markdown",
   "metadata": {},
   "source": [
    "### Out of 14351 merchants, around 1600+ merchants have transacted only once"
   ]
  },
  {
   "cell_type": "code",
   "execution_count": 37,
   "metadata": {},
   "outputs": [
    {
     "data": {
      "text/plain": [
       "(1666, 1)"
      ]
     },
     "execution_count": 37,
     "metadata": {},
     "output_type": "execute_result"
    }
   ],
   "source": [
    "df_freq[df_freq[\"time\"] ==1].shape"
   ]
  },
  {
   "cell_type": "markdown",
   "metadata": {},
   "source": [
    "#### Lets join the merchant-amount dataframe with merchant-frequency"
   ]
  },
  {
   "cell_type": "code",
   "execution_count": 38,
   "metadata": {},
   "outputs": [
    {
     "data": {
      "text/html": [
       "<div>\n",
       "<style scoped>\n",
       "    .dataframe tbody tr th:only-of-type {\n",
       "        vertical-align: middle;\n",
       "    }\n",
       "\n",
       "    .dataframe tbody tr th {\n",
       "        vertical-align: top;\n",
       "    }\n",
       "\n",
       "    .dataframe thead th {\n",
       "        text-align: right;\n",
       "    }\n",
       "</style>\n",
       "<table border=\"1\" class=\"dataframe\">\n",
       "  <thead>\n",
       "    <tr style=\"text-align: right;\">\n",
       "      <th></th>\n",
       "      <th>USD</th>\n",
       "      <th>nearest_100</th>\n",
       "      <th>time</th>\n",
       "    </tr>\n",
       "    <tr>\n",
       "      <th>merchant</th>\n",
       "      <th></th>\n",
       "      <th></th>\n",
       "      <th></th>\n",
       "    </tr>\n",
       "  </thead>\n",
       "  <tbody>\n",
       "    <tr>\n",
       "      <th>44ee3ec72c</th>\n",
       "      <td>2369072</td>\n",
       "      <td>23600</td>\n",
       "      <td>4973</td>\n",
       "    </tr>\n",
       "    <tr>\n",
       "      <th>bdebc6831e</th>\n",
       "      <td>2188085</td>\n",
       "      <td>21800</td>\n",
       "      <td>6180</td>\n",
       "    </tr>\n",
       "    <tr>\n",
       "      <th>654930c922</th>\n",
       "      <td>1511162</td>\n",
       "      <td>15100</td>\n",
       "      <td>11222</td>\n",
       "    </tr>\n",
       "    <tr>\n",
       "      <th>ce61387781</th>\n",
       "      <td>1429055</td>\n",
       "      <td>14200</td>\n",
       "      <td>3389</td>\n",
       "    </tr>\n",
       "    <tr>\n",
       "      <th>82897075ed</th>\n",
       "      <td>1105732</td>\n",
       "      <td>11000</td>\n",
       "      <td>4210</td>\n",
       "    </tr>\n",
       "  </tbody>\n",
       "</table>\n",
       "</div>"
      ],
      "text/plain": [
       "                USD  nearest_100   time\n",
       "merchant                               \n",
       "44ee3ec72c  2369072        23600   4973\n",
       "bdebc6831e  2188085        21800   6180\n",
       "654930c922  1511162        15100  11222\n",
       "ce61387781  1429055        14200   3389\n",
       "82897075ed  1105732        11000   4210"
      ]
     },
     "execution_count": 38,
     "metadata": {},
     "output_type": "execute_result"
    }
   ],
   "source": [
    "df_mer_freq_amt = pd.merge(df, df_freq, on=\"merchant\")\n",
    "# df_mer_freq_amt.head()\n",
    "df_mer_freq_amt[[\"USD\", \"nearest_100\", \"time\"]].head()"
   ]
  },
  {
   "cell_type": "code",
   "execution_count": 39,
   "metadata": {},
   "outputs": [
    {
     "data": {
      "text/plain": [
       "array([[36.82931704,  9.22403938],\n",
       "       [34.00371314, 11.51132564],\n",
       "       [23.48618752, 21.06600447],\n",
       "       ...,\n",
       "       [-0.21748961, -0.19798821],\n",
       "       [-0.21748961, -0.19798821],\n",
       "       [-0.21748961, -0.19798821]])"
      ]
     },
     "execution_count": 39,
     "metadata": {},
     "output_type": "execute_result"
    }
   ],
   "source": [
    "import pandas as pd\n",
    "from sklearn.preprocessing import StandardScaler\n",
    "\n",
    "\n",
    "scaler = StandardScaler()\n",
    "\n",
    "# dfTest = pd.DataFrame({'A':[14.00,90.20,90.95,96.27,91.21],\n",
    "#                            'B':[103.02,107.26,110.35,114.23,114.68],\n",
    "#                            'C':['big','small','big','small','small']})\n",
    "\n",
    "df_mer_freq_amt_scaled = df_mer_freq_amt[['nearest_100', 'time']]\n",
    "df_mer_freq_amt_scaled = scaler.fit_transform(df_mer_freq_amt_scaled[['nearest_100', 'time']])\n",
    "\n",
    "df_mer_freq_amt_scaled"
   ]
  },
  {
   "cell_type": "markdown",
   "metadata": {},
   "source": [
    "### Plotting the nearest_100 and time "
   ]
  },
  {
   "cell_type": "code",
   "execution_count": 40,
   "metadata": {},
   "outputs": [
    {
     "data": {
      "text/plain": [
       "[<matplotlib.lines.Line2D at 0x7fed581a6160>]"
      ]
     },
     "execution_count": 40,
     "metadata": {},
     "output_type": "execute_result"
    },
    {
     "data": {
      "image/png": "[encoded data removed]",
      "text/plain": [
       "<Figure size 432x288 with 1 Axes>"
      ]
     },
     "metadata": {
      "needs_background": "light"
     },
     "output_type": "display_data"
    }
   ],
   "source": [
    "plt.plot(df_mer_freq_amt_scaled[:, 0], df_mer_freq_amt_scaled[:, 1], 'o', label = 'data')"
   ]
  },
  {
   "cell_type": "markdown",
   "metadata": {},
   "source": [
    "### This plot is not helping in clustering the merchants. Lets try another approach\n"
   ]
  },
  {
   "cell_type": "markdown",
   "metadata": {},
   "source": [
    "## RFM"
   ]
  },
  {
   "cell_type": "markdown",
   "metadata": {},
   "source": [
    "I recently came across an intuitive segmentation approach called RFM (Recency Frequency Monetary Value), which can be easily applied to basic merchant transaction records.  \n",
    "\n",
    "#### About RFM Segmentation  \n",
    "\n",
    "Here’s what each letter of RFM means: \n",
    "\n",
    "**Recency** : How long has it been since the merchant last purchased using stripe (e.g. in days, in months)?  \n",
    "In our case we will calculate the number of days between the most recent transaction and the first transaction of the merchant with Stripe  \n",
    "\n",
    "**Frequency** : How many times has the merchant purchased using stripe within a fixed period (e.g. past 3 months, past year)   \n",
    "In our case, we will calculate the number of repeat transactions = (count of all transactions by merchant to date - 1)\n",
    "\n",
    "**Monetary Value** : How much has the merchant spent at stripe within a fixed period (which should be the same period set for Frequency)   \n",
    "In our case, we will calculate the total money spent by the merchant on all transactions"
   ]
  },
  {
   "cell_type": "markdown",
   "metadata": {},
   "source": [
    "For the purposes of this unsupervised data analysis that might involve non-subsription based transactional data,\n",
    "we will use the lifetimes package that relies on the recency-frequency-monetary (RFM) analysis to model churn and customer lifetime value (CLV)\n",
    "#### recency   = number of days between the most recent transaction and the first transaction of the merchant with Stripe\n",
    "#### frequency = number of repeat transactions = (count of all transactions by merchant to date - 1)\n",
    "#### monetary   = Total money spent by the merchant on all transactions\n",
    "#### T = It is the age of the customer in whatever time units chosen (daily, in the above dataset). This is equal to the duration between a customer’s first purchase and the end of the period under study."
   ]
  },
  {
   "cell_type": "code",
   "execution_count": 41,
   "metadata": {},
   "outputs": [],
   "source": [
    "transactions = pd.read_csv('takehome_ds_written.csv')"
   ]
  },
  {
   "cell_type": "code",
   "execution_count": 42,
   "metadata": {},
   "outputs": [
    {
     "data": {
      "text/html": [
       "<div>\n",
       "<style scoped>\n",
       "    .dataframe tbody tr th:only-of-type {\n",
       "        vertical-align: middle;\n",
       "    }\n",
       "\n",
       "    .dataframe tbody tr th {\n",
       "        vertical-align: top;\n",
       "    }\n",
       "\n",
       "    .dataframe thead th {\n",
       "        text-align: right;\n",
       "    }\n",
       "</style>\n",
       "<table border=\"1\" class=\"dataframe\">\n",
       "  <thead>\n",
       "    <tr style=\"text-align: right;\">\n",
       "      <th></th>\n",
       "      <th>Unnamed: 0</th>\n",
       "      <th>merchant</th>\n",
       "      <th>time</th>\n",
       "      <th>amount_usd_in_cents</th>\n",
       "    </tr>\n",
       "  </thead>\n",
       "  <tbody>\n",
       "    <tr>\n",
       "      <th>0</th>\n",
       "      <td>1</td>\n",
       "      <td>faa029c6b0</td>\n",
       "      <td>2034-06-17 23:34:14</td>\n",
       "      <td>6349</td>\n",
       "    </tr>\n",
       "    <tr>\n",
       "      <th>1</th>\n",
       "      <td>2</td>\n",
       "      <td>ed7a7d91aa</td>\n",
       "      <td>2034-12-27 00:40:38</td>\n",
       "      <td>3854</td>\n",
       "    </tr>\n",
       "    <tr>\n",
       "      <th>2</th>\n",
       "      <td>3</td>\n",
       "      <td>5608f200cf</td>\n",
       "      <td>2034-04-30 01:29:42</td>\n",
       "      <td>789</td>\n",
       "    </tr>\n",
       "    <tr>\n",
       "      <th>3</th>\n",
       "      <td>4</td>\n",
       "      <td>15b1a0d61e</td>\n",
       "      <td>2034-09-16 01:06:23</td>\n",
       "      <td>4452</td>\n",
       "    </tr>\n",
       "    <tr>\n",
       "      <th>4</th>\n",
       "      <td>5</td>\n",
       "      <td>4770051790</td>\n",
       "      <td>2034-07-22 16:21:42</td>\n",
       "      <td>20203</td>\n",
       "    </tr>\n",
       "  </tbody>\n",
       "</table>\n",
       "</div>"
      ],
      "text/plain": [
       "   Unnamed: 0    merchant                 time  amount_usd_in_cents\n",
       "0           1  faa029c6b0  2034-06-17 23:34:14                 6349\n",
       "1           2  ed7a7d91aa  2034-12-27 00:40:38                 3854\n",
       "2           3  5608f200cf  2034-04-30 01:29:42                  789\n",
       "3           4  15b1a0d61e  2034-09-16 01:06:23                 4452\n",
       "4           5  4770051790  2034-07-22 16:21:42                20203"
      ]
     },
     "execution_count": 42,
     "metadata": {},
     "output_type": "execute_result"
    }
   ],
   "source": [
    "transactions.head()"
   ]
  },
  {
   "cell_type": "code",
   "execution_count": 44,
   "metadata": {},
   "outputs": [],
   "source": [
    "transactions['time'] = pd.to_datetime(transactions['time']).dt.date"
   ]
  },
  {
   "cell_type": "code",
   "execution_count": 45,
   "metadata": {},
   "outputs": [],
   "source": [
    "from lifetimes.utils import *\n",
    "from lifetimes import BetaGeoFitter,GammaGammaFitter\n",
    "from lifetimes.plotting import plot_probability_alive_matrix, plot_frequency_recency_matrix, plot_period_transactions, plot_cumulative_transactions,plot_incremental_transactions"
   ]
  },
  {
   "cell_type": "code",
   "execution_count": 46,
   "metadata": {},
   "outputs": [],
   "source": [
    "# Creating a RFM data frame for the merchant\n",
    "rfmdf = summary_data_from_transaction_data(transactions,'merchant','time',\n",
    "                                           monetary_value_col='amount_usd_in_cents',)"
   ]
  },
  {
   "cell_type": "code",
   "execution_count": 47,
   "metadata": {},
   "outputs": [
    {
     "data": {
      "text/html": [
       "<div>\n",
       "<style scoped>\n",
       "    .dataframe tbody tr th:only-of-type {\n",
       "        vertical-align: middle;\n",
       "    }\n",
       "\n",
       "    .dataframe tbody tr th {\n",
       "        vertical-align: top;\n",
       "    }\n",
       "\n",
       "    .dataframe thead th {\n",
       "        text-align: right;\n",
       "    }\n",
       "</style>\n",
       "<table border=\"1\" class=\"dataframe\">\n",
       "  <thead>\n",
       "    <tr style=\"text-align: right;\">\n",
       "      <th></th>\n",
       "      <th>frequency</th>\n",
       "      <th>recency</th>\n",
       "      <th>T</th>\n",
       "      <th>monetary_value</th>\n",
       "    </tr>\n",
       "    <tr>\n",
       "      <th>merchant</th>\n",
       "      <th></th>\n",
       "      <th></th>\n",
       "      <th></th>\n",
       "      <th></th>\n",
       "    </tr>\n",
       "  </thead>\n",
       "  <tbody>\n",
       "    <tr>\n",
       "      <th>0002b63b92</th>\n",
       "      <td>0.0</td>\n",
       "      <td>0.0</td>\n",
       "      <td>594.0</td>\n",
       "      <td>0.000000</td>\n",
       "    </tr>\n",
       "    <tr>\n",
       "      <th>0002d07bba</th>\n",
       "      <td>3.0</td>\n",
       "      <td>65.0</td>\n",
       "      <td>81.0</td>\n",
       "      <td>27909.666667</td>\n",
       "    </tr>\n",
       "    <tr>\n",
       "      <th>00057d4302</th>\n",
       "      <td>1.0</td>\n",
       "      <td>66.0</td>\n",
       "      <td>580.0</td>\n",
       "      <td>9135.000000</td>\n",
       "    </tr>\n",
       "    <tr>\n",
       "      <th>000bcff341</th>\n",
       "      <td>0.0</td>\n",
       "      <td>0.0</td>\n",
       "      <td>509.0</td>\n",
       "      <td>0.000000</td>\n",
       "    </tr>\n",
       "    <tr>\n",
       "      <th>000ddbf0ca</th>\n",
       "      <td>0.0</td>\n",
       "      <td>0.0</td>\n",
       "      <td>577.0</td>\n",
       "      <td>0.000000</td>\n",
       "    </tr>\n",
       "    <tr>\n",
       "      <th>000ed1585f</th>\n",
       "      <td>57.0</td>\n",
       "      <td>656.0</td>\n",
       "      <td>681.0</td>\n",
       "      <td>28345.070175</td>\n",
       "    </tr>\n",
       "    <tr>\n",
       "      <th>000f8c3297</th>\n",
       "      <td>147.0</td>\n",
       "      <td>457.0</td>\n",
       "      <td>458.0</td>\n",
       "      <td>23348.993197</td>\n",
       "    </tr>\n",
       "    <tr>\n",
       "      <th>001f7b7a4f</th>\n",
       "      <td>0.0</td>\n",
       "      <td>0.0</td>\n",
       "      <td>304.0</td>\n",
       "      <td>0.000000</td>\n",
       "    </tr>\n",
       "    <tr>\n",
       "      <th>0020aefbd9</th>\n",
       "      <td>1.0</td>\n",
       "      <td>23.0</td>\n",
       "      <td>215.0</td>\n",
       "      <td>9415.000000</td>\n",
       "    </tr>\n",
       "    <tr>\n",
       "      <th>0026f256ac</th>\n",
       "      <td>7.0</td>\n",
       "      <td>89.0</td>\n",
       "      <td>561.0</td>\n",
       "      <td>30856.857143</td>\n",
       "    </tr>\n",
       "  </tbody>\n",
       "</table>\n",
       "</div>"
      ],
      "text/plain": [
       "            frequency  recency      T  monetary_value\n",
       "merchant                                             \n",
       "0002b63b92        0.0      0.0  594.0        0.000000\n",
       "0002d07bba        3.0     65.0   81.0    27909.666667\n",
       "00057d4302        1.0     66.0  580.0     9135.000000\n",
       "000bcff341        0.0      0.0  509.0        0.000000\n",
       "000ddbf0ca        0.0      0.0  577.0        0.000000\n",
       "000ed1585f       57.0    656.0  681.0    28345.070175\n",
       "000f8c3297      147.0    457.0  458.0    23348.993197\n",
       "001f7b7a4f        0.0      0.0  304.0        0.000000\n",
       "0020aefbd9        1.0     23.0  215.0     9415.000000\n",
       "0026f256ac        7.0     89.0  561.0    30856.857143"
      ]
     },
     "execution_count": 47,
     "metadata": {},
     "output_type": "execute_result"
    }
   ],
   "source": [
    "rfmdf.head(10)"
   ]
  },
  {
   "cell_type": "markdown",
   "metadata": {},
   "source": [
    "### Lets look deeper in the RMF data for random merchant - 0002d07bba"
   ]
  },
  {
   "cell_type": "code",
   "execution_count": 48,
   "metadata": {},
   "outputs": [
    {
     "data": {
      "text/html": [
       "<div>\n",
       "<style scoped>\n",
       "    .dataframe tbody tr th:only-of-type {\n",
       "        vertical-align: middle;\n",
       "    }\n",
       "\n",
       "    .dataframe tbody tr th {\n",
       "        vertical-align: top;\n",
       "    }\n",
       "\n",
       "    .dataframe thead th {\n",
       "        text-align: right;\n",
       "    }\n",
       "</style>\n",
       "<table border=\"1\" class=\"dataframe\">\n",
       "  <thead>\n",
       "    <tr style=\"text-align: right;\">\n",
       "      <th></th>\n",
       "      <th>Unnamed: 0</th>\n",
       "      <th>merchant</th>\n",
       "      <th>time</th>\n",
       "      <th>amount_usd_in_cents</th>\n",
       "    </tr>\n",
       "  </thead>\n",
       "  <tbody>\n",
       "    <tr>\n",
       "      <th>1123972</th>\n",
       "      <td>1123973</td>\n",
       "      <td>0002d07bba</td>\n",
       "      <td>2034-10-11</td>\n",
       "      <td>5549</td>\n",
       "    </tr>\n",
       "    <tr>\n",
       "      <th>835993</th>\n",
       "      <td>835994</td>\n",
       "      <td>0002d07bba</td>\n",
       "      <td>2034-10-17</td>\n",
       "      <td>37830</td>\n",
       "    </tr>\n",
       "    <tr>\n",
       "      <th>891755</th>\n",
       "      <td>891756</td>\n",
       "      <td>0002d07bba</td>\n",
       "      <td>2034-11-13</td>\n",
       "      <td>43842</td>\n",
       "    </tr>\n",
       "    <tr>\n",
       "      <th>874950</th>\n",
       "      <td>874951</td>\n",
       "      <td>0002d07bba</td>\n",
       "      <td>2034-12-15</td>\n",
       "      <td>2057</td>\n",
       "    </tr>\n",
       "  </tbody>\n",
       "</table>\n",
       "</div>"
      ],
      "text/plain": [
       "         Unnamed: 0    merchant        time  amount_usd_in_cents\n",
       "1123972     1123973  0002d07bba  2034-10-11                 5549\n",
       "835993       835994  0002d07bba  2034-10-17                37830\n",
       "891755       891756  0002d07bba  2034-11-13                43842\n",
       "874950       874951  0002d07bba  2034-12-15                 2057"
      ]
     },
     "execution_count": 48,
     "metadata": {},
     "output_type": "execute_result"
    }
   ],
   "source": [
    "m = transactions[transactions.merchant.str.contains('0002d07bba')]\n",
    "m.sort_values(by='time').head(10)"
   ]
  },
  {
   "cell_type": "code",
   "execution_count": 49,
   "metadata": {},
   "outputs": [
    {
     "data": {
      "text/html": [
       "<div>\n",
       "<style scoped>\n",
       "    .dataframe tbody tr th:only-of-type {\n",
       "        vertical-align: middle;\n",
       "    }\n",
       "\n",
       "    .dataframe tbody tr th {\n",
       "        vertical-align: top;\n",
       "    }\n",
       "\n",
       "    .dataframe thead th {\n",
       "        text-align: right;\n",
       "    }\n",
       "</style>\n",
       "<table border=\"1\" class=\"dataframe\">\n",
       "  <thead>\n",
       "    <tr style=\"text-align: right;\">\n",
       "      <th></th>\n",
       "      <th>frequency</th>\n",
       "      <th>recency</th>\n",
       "      <th>T</th>\n",
       "      <th>monetary_value</th>\n",
       "    </tr>\n",
       "    <tr>\n",
       "      <th>merchant</th>\n",
       "      <th></th>\n",
       "      <th></th>\n",
       "      <th></th>\n",
       "      <th></th>\n",
       "    </tr>\n",
       "  </thead>\n",
       "  <tbody>\n",
       "    <tr>\n",
       "      <th>0002d07bba</th>\n",
       "      <td>3.0</td>\n",
       "      <td>65.0</td>\n",
       "      <td>81.0</td>\n",
       "      <td>27909.666667</td>\n",
       "    </tr>\n",
       "  </tbody>\n",
       "</table>\n",
       "</div>"
      ],
      "text/plain": [
       "            frequency  recency     T  monetary_value\n",
       "merchant                                            \n",
       "0002d07bba        3.0     65.0  81.0    27909.666667"
      ]
     },
     "execution_count": 49,
     "metadata": {},
     "output_type": "execute_result"
    }
   ],
   "source": [
    "rfmdf[rfmdf.index.str.contains('0002d07bba')].head()"
   ]
  },
  {
   "cell_type": "markdown",
   "metadata": {},
   "source": [
    "### frequency - This means that the merchant '0002d07bba' has transacted with stripe 3 times after first transaction. \n",
    "### recency - The merchant has 65 days gap between most recent transaction and first transaction\n",
    "### monetary value - The merchant spent USD 279 using stripe\n",
    "### T - The age of the customer is 81 days\n"
   ]
  },
  {
   "cell_type": "markdown",
   "metadata": {},
   "source": [
    "### Exploring merchant spending"
   ]
  },
  {
   "cell_type": "code",
   "execution_count": 57,
   "metadata": {},
   "outputs": [],
   "source": [
    "mcg=pd.DataFrame(transactions.groupby('merchant').size().sort_values(ascending=False))"
   ]
  },
  {
   "cell_type": "code",
   "execution_count": 58,
   "metadata": {},
   "outputs": [
    {
     "data": {
      "text/html": [
       "<div>\n",
       "<style scoped>\n",
       "    .dataframe tbody tr th:only-of-type {\n",
       "        vertical-align: middle;\n",
       "    }\n",
       "\n",
       "    .dataframe tbody tr th {\n",
       "        vertical-align: top;\n",
       "    }\n",
       "\n",
       "    .dataframe thead th {\n",
       "        text-align: right;\n",
       "    }\n",
       "</style>\n",
       "<table border=\"1\" class=\"dataframe\">\n",
       "  <thead>\n",
       "    <tr style=\"text-align: right;\">\n",
       "      <th></th>\n",
       "      <th>0</th>\n",
       "    </tr>\n",
       "    <tr>\n",
       "      <th>merchant</th>\n",
       "      <th></th>\n",
       "    </tr>\n",
       "  </thead>\n",
       "  <tbody>\n",
       "    <tr>\n",
       "      <th>5608f200cf</th>\n",
       "      <td>25512</td>\n",
       "    </tr>\n",
       "    <tr>\n",
       "      <th>53b3fbeae2</th>\n",
       "      <td>12178</td>\n",
       "    </tr>\n",
       "    <tr>\n",
       "      <th>1ddaea9838</th>\n",
       "      <td>12042</td>\n",
       "    </tr>\n",
       "    <tr>\n",
       "      <th>89e2d29885</th>\n",
       "      <td>11969</td>\n",
       "    </tr>\n",
       "    <tr>\n",
       "      <th>654930c922</th>\n",
       "      <td>11222</td>\n",
       "    </tr>\n",
       "  </tbody>\n",
       "</table>\n",
       "</div>"
      ],
      "text/plain": [
       "                0\n",
       "merchant         \n",
       "5608f200cf  25512\n",
       "53b3fbeae2  12178\n",
       "1ddaea9838  12042\n",
       "89e2d29885  11969\n",
       "654930c922  11222"
      ]
     },
     "execution_count": 58,
     "metadata": {},
     "output_type": "execute_result"
    }
   ],
   "source": [
    "mcg.head()"
   ]
  },
  {
   "cell_type": "code",
   "execution_count": 59,
   "metadata": {},
   "outputs": [
    {
     "data": {
      "text/plain": [
       "(array([1.4264e+04, 5.7000e+01, 1.6000e+01, 6.0000e+00, 7.0000e+00,\n",
       "        0.0000e+00, 0.0000e+00, 0.0000e+00, 0.0000e+00, 1.0000e+00]),\n",
       " array([1.00000e+00, 2.55210e+03, 5.10320e+03, 7.65430e+03, 1.02054e+04,\n",
       "        1.27565e+04, 1.53076e+04, 1.78587e+04, 2.04098e+04, 2.29609e+04,\n",
       "        2.55120e+04]),\n",
       " <BarContainer object of 10 artists>)"
      ]
     },
     "execution_count": 59,
     "metadata": {},
     "output_type": "execute_result"
    },
    {
     "data": {
      "image/png": "[encoded data removed]",
      "text/plain": [
       "<Figure size 432x288 with 1 Axes>"
      ]
     },
     "metadata": {
      "needs_background": "light"
     },
     "output_type": "display_data"
    }
   ],
   "source": [
    "plt.hist(mcg)"
   ]
  },
  {
   "cell_type": "markdown",
   "metadata": {},
   "source": [
    "### It looks like a handful of merchants contribute to the majority of transactions as the plot is skewed"
   ]
  },
  {
   "cell_type": "markdown",
   "metadata": {},
   "source": [
    "### Let's see how many merchants have more than 100 transactions"
   ]
  },
  {
   "cell_type": "code",
   "execution_count": 60,
   "metadata": {},
   "outputs": [
    {
     "data": {
      "text/plain": [
       "(275, 1)"
      ]
     },
     "execution_count": 60,
     "metadata": {},
     "output_type": "execute_result"
    }
   ],
   "source": [
    "mcg.rename( columns={0:'count'}, inplace=True )\n",
    "mcg[mcg[\"count\"] > 1000].shape"
   ]
  },
  {
   "cell_type": "code",
   "execution_count": 61,
   "metadata": {},
   "outputs": [
    {
     "data": {
      "text/plain": [
       "(2194, 1)"
      ]
     },
     "execution_count": 61,
     "metadata": {},
     "output_type": "execute_result"
    }
   ],
   "source": [
    "mcg[mcg[\"count\"] > 100].shape"
   ]
  },
  {
   "cell_type": "markdown",
   "metadata": {},
   "source": [
    "#### There are only 275 merchants with more than 1000 transactions and 2,194 merchants with more than 100 transactions.\n",
    "#### This confirms that the majority of merchants are either new or are churning after a few transactions"
   ]
  },
  {
   "cell_type": "markdown",
   "metadata": {},
   "source": [
    "### I'm going to use the Beta-Geometric/NBD (BG/NBD) model for customer churn. "
   ]
  },
  {
   "cell_type": "markdown",
   "metadata": {},
   "source": [
    "#### The BG/NBD model is an adaptation of the Pareto/NBD model. Both models describe repeat purchasing patterns in businesses where customer turnover is unobserved; however, the BG/NBD is much more computationally feasible.\n"
   ]
  },
  {
   "cell_type": "markdown",
   "metadata": {},
   "source": [
    "## Assumptions of the BG/NBD model:\n",
    "##### 1. A customer’s (here merchant's) relationship has two phases: “alive” for an unobserved period of time, then “dead” (churned)\n",
    "##### 2. While alive, the number of transactions made by a customer follows a Poisson distribution with transaction rate of lambda\n",
    "##### 3. Heterogeneity in lambda follows a gamma distribution\n",
    "##### 4. After any transaction, a customer dies with probability p;\n",
    "##### 5. The probability that a customer dies after a number of transactions follows a geometric distribution\n",
    "##### 6. p follows a beta distribution\n",
    "##### 7. Lambda and p vary independently across customers\n",
    "##### Source 1: http://brucehardie.com/papers/bgnbd_2004-04-20.pdf\n",
    "##### Source 2: https://medium.com/data-shopify/how-shopify-merchants-can-measure-retention-c12284bfed6f"
   ]
  },
  {
   "cell_type": "markdown",
   "metadata": {},
   "source": [
    "### Lets visualize the RMF data"
   ]
  },
  {
   "cell_type": "markdown",
   "metadata": {},
   "source": [
    "###  We can visualize the frequency/recency matrix, which computes the expected number of transactions a merchant is to make in the next time period, given their recency (age at last purchase) and frequency (the number of repeat transactions they have made)."
   ]
  },
  {
   "cell_type": "code",
   "execution_count": 55,
   "metadata": {},
   "outputs": [],
   "source": [
    "bgf = BetaGeoFitter(penalizer_coef=0.0)\n",
    "bgf.fit(rfmdf['frequency'], rfmdf['recency'], rfmdf['T']);"
   ]
  },
  {
   "cell_type": "code",
   "execution_count": 56,
   "metadata": {},
   "outputs": [
    {
     "name": "stderr",
     "output_type": "stream",
     "text": [
      "/Users/anoushkagade/opt/anaconda3/lib/python3.8/site-packages/lifetimes/fitters/beta_geo_fitter.py:256: RuntimeWarning: overflow encountered in double_scalars\n",
      "  denominator = 1 + (x > 0) * (a / (b + x - 1)) * ((alpha + T) / (alpha + recency)) ** (r + x)\n"
     ]
    },
    {
     "data": {
      "image/png": "[encoded data removed]",
      "text/plain": [
       "<Figure size 432x288 with 2 Axes>"
      ]
     },
     "metadata": {
      "needs_background": "light"
     },
     "output_type": "display_data"
    }
   ],
   "source": [
    "plot_frequency_recency_matrix(bgf);"
   ]
  },
  {
   "cell_type": "markdown",
   "metadata": {},
   "source": [
    "### We can see that if a merchant has used stripe 600 times, and their latest purchase was when they were 700 days (or more) old (given the merchant is 700 days old), then they are your best merchant (bottom-right)"
   ]
  },
  {
   "cell_type": "markdown",
   "metadata": {},
   "source": [
    "### The model expects future purchase activity from merchants with frequency>600 and recency > 700 (number of days the merchant has been with stripe excluding their first transaction)"
   ]
  },
  {
   "cell_type": "markdown",
   "metadata": {},
   "source": [
    "### A)  Concrete definition of churn \n",
    "#### churn =  The percentage rate of merchants that have stopped using stripe. "
   ]
  },
  {
   "cell_type": "markdown",
   "metadata": {},
   "source": [
    "### B) Identify merchants that have already churned in the dataset \n",
    "#### The subset of merchants with recency < 600 and frequency <100 and T > 600 \n",
    "\n",
    "#### (I'm avoiding those merchants that started using stripe late. They will unnecesarily fall in the \"churned category\" )"
   ]
  },
  {
   "cell_type": "code",
   "execution_count": 62,
   "metadata": {
    "scrolled": true
   },
   "outputs": [
    {
     "data": {
      "text/html": [
       "<div>\n",
       "<style scoped>\n",
       "    .dataframe tbody tr th:only-of-type {\n",
       "        vertical-align: middle;\n",
       "    }\n",
       "\n",
       "    .dataframe tbody tr th {\n",
       "        vertical-align: top;\n",
       "    }\n",
       "\n",
       "    .dataframe thead th {\n",
       "        text-align: right;\n",
       "    }\n",
       "</style>\n",
       "<table border=\"1\" class=\"dataframe\">\n",
       "  <thead>\n",
       "    <tr style=\"text-align: right;\">\n",
       "      <th></th>\n",
       "      <th>frequency</th>\n",
       "      <th>recency</th>\n",
       "      <th>T</th>\n",
       "      <th>monetary_value</th>\n",
       "    </tr>\n",
       "    <tr>\n",
       "      <th>merchant</th>\n",
       "      <th></th>\n",
       "      <th></th>\n",
       "      <th></th>\n",
       "      <th></th>\n",
       "    </tr>\n",
       "  </thead>\n",
       "  <tbody>\n",
       "    <tr>\n",
       "      <th>007364b02a</th>\n",
       "      <td>2.0</td>\n",
       "      <td>236.0</td>\n",
       "      <td>653.0</td>\n",
       "      <td>20341.500000</td>\n",
       "    </tr>\n",
       "    <tr>\n",
       "      <th>00cd72cf0e</th>\n",
       "      <td>8.0</td>\n",
       "      <td>588.0</td>\n",
       "      <td>649.0</td>\n",
       "      <td>31384.000000</td>\n",
       "    </tr>\n",
       "    <tr>\n",
       "      <th>0125d43ba4</th>\n",
       "      <td>2.0</td>\n",
       "      <td>2.0</td>\n",
       "      <td>615.0</td>\n",
       "      <td>2664.000000</td>\n",
       "    </tr>\n",
       "    <tr>\n",
       "      <th>013cc2cd06</th>\n",
       "      <td>4.0</td>\n",
       "      <td>65.0</td>\n",
       "      <td>676.0</td>\n",
       "      <td>9202.750000</td>\n",
       "    </tr>\n",
       "    <tr>\n",
       "      <th>0149d4bfba</th>\n",
       "      <td>15.0</td>\n",
       "      <td>76.0</td>\n",
       "      <td>623.0</td>\n",
       "      <td>12584.800000</td>\n",
       "    </tr>\n",
       "    <tr>\n",
       "      <th>0150c59efd</th>\n",
       "      <td>15.0</td>\n",
       "      <td>586.0</td>\n",
       "      <td>611.0</td>\n",
       "      <td>8212.266667</td>\n",
       "    </tr>\n",
       "    <tr>\n",
       "      <th>0155692eb6</th>\n",
       "      <td>5.0</td>\n",
       "      <td>596.0</td>\n",
       "      <td>608.0</td>\n",
       "      <td>271.000000</td>\n",
       "    </tr>\n",
       "    <tr>\n",
       "      <th>01874bc7cf</th>\n",
       "      <td>1.0</td>\n",
       "      <td>5.0</td>\n",
       "      <td>633.0</td>\n",
       "      <td>22896.000000</td>\n",
       "    </tr>\n",
       "    <tr>\n",
       "      <th>026c361940</th>\n",
       "      <td>1.0</td>\n",
       "      <td>84.0</td>\n",
       "      <td>632.0</td>\n",
       "      <td>200652.000000</td>\n",
       "    </tr>\n",
       "    <tr>\n",
       "      <th>0290e4ad90</th>\n",
       "      <td>12.0</td>\n",
       "      <td>225.0</td>\n",
       "      <td>603.0</td>\n",
       "      <td>40200.666667</td>\n",
       "    </tr>\n",
       "    <tr>\n",
       "      <th>02cd94ff7d</th>\n",
       "      <td>4.0</td>\n",
       "      <td>84.0</td>\n",
       "      <td>681.0</td>\n",
       "      <td>8685.750000</td>\n",
       "    </tr>\n",
       "    <tr>\n",
       "      <th>02da898d61</th>\n",
       "      <td>1.0</td>\n",
       "      <td>19.0</td>\n",
       "      <td>728.0</td>\n",
       "      <td>14593.000000</td>\n",
       "    </tr>\n",
       "    <tr>\n",
       "      <th>04473328e3</th>\n",
       "      <td>35.0</td>\n",
       "      <td>48.0</td>\n",
       "      <td>633.0</td>\n",
       "      <td>10556.685714</td>\n",
       "    </tr>\n",
       "    <tr>\n",
       "      <th>04523ba98a</th>\n",
       "      <td>14.0</td>\n",
       "      <td>68.0</td>\n",
       "      <td>604.0</td>\n",
       "      <td>4238.428571</td>\n",
       "    </tr>\n",
       "    <tr>\n",
       "      <th>045a1c428b</th>\n",
       "      <td>45.0</td>\n",
       "      <td>438.0</td>\n",
       "      <td>711.0</td>\n",
       "      <td>155058.222222</td>\n",
       "    </tr>\n",
       "    <tr>\n",
       "      <th>045b70226b</th>\n",
       "      <td>44.0</td>\n",
       "      <td>570.0</td>\n",
       "      <td>674.0</td>\n",
       "      <td>7220.727273</td>\n",
       "    </tr>\n",
       "    <tr>\n",
       "      <th>046802909f</th>\n",
       "      <td>7.0</td>\n",
       "      <td>185.0</td>\n",
       "      <td>640.0</td>\n",
       "      <td>154391.714286</td>\n",
       "    </tr>\n",
       "    <tr>\n",
       "      <th>04d530d1f3</th>\n",
       "      <td>1.0</td>\n",
       "      <td>292.0</td>\n",
       "      <td>688.0</td>\n",
       "      <td>3405.000000</td>\n",
       "    </tr>\n",
       "    <tr>\n",
       "      <th>04dcd64a6c</th>\n",
       "      <td>9.0</td>\n",
       "      <td>481.0</td>\n",
       "      <td>670.0</td>\n",
       "      <td>5203.888889</td>\n",
       "    </tr>\n",
       "    <tr>\n",
       "      <th>059896f2b3</th>\n",
       "      <td>20.0</td>\n",
       "      <td>328.0</td>\n",
       "      <td>688.0</td>\n",
       "      <td>80870.100000</td>\n",
       "    </tr>\n",
       "  </tbody>\n",
       "</table>\n",
       "</div>"
      ],
      "text/plain": [
       "            frequency  recency      T  monetary_value\n",
       "merchant                                             \n",
       "007364b02a        2.0    236.0  653.0    20341.500000\n",
       "00cd72cf0e        8.0    588.0  649.0    31384.000000\n",
       "0125d43ba4        2.0      2.0  615.0     2664.000000\n",
       "013cc2cd06        4.0     65.0  676.0     9202.750000\n",
       "0149d4bfba       15.0     76.0  623.0    12584.800000\n",
       "0150c59efd       15.0    586.0  611.0     8212.266667\n",
       "0155692eb6        5.0    596.0  608.0      271.000000\n",
       "01874bc7cf        1.0      5.0  633.0    22896.000000\n",
       "026c361940        1.0     84.0  632.0   200652.000000\n",
       "0290e4ad90       12.0    225.0  603.0    40200.666667\n",
       "02cd94ff7d        4.0     84.0  681.0     8685.750000\n",
       "02da898d61        1.0     19.0  728.0    14593.000000\n",
       "04473328e3       35.0     48.0  633.0    10556.685714\n",
       "04523ba98a       14.0     68.0  604.0     4238.428571\n",
       "045a1c428b       45.0    438.0  711.0   155058.222222\n",
       "045b70226b       44.0    570.0  674.0     7220.727273\n",
       "046802909f        7.0    185.0  640.0   154391.714286\n",
       "04d530d1f3        1.0    292.0  688.0     3405.000000\n",
       "04dcd64a6c        9.0    481.0  670.0     5203.888889\n",
       "059896f2b3       20.0    328.0  688.0    80870.100000"
      ]
     },
     "execution_count": 62,
     "metadata": {},
     "output_type": "execute_result"
    }
   ],
   "source": [
    "rfmdf[(rfmdf[\"recency\"] < 600) & (rfmdf[\"frequency\"] < 100) & (rfmdf[\"T\"] > 600)].head(20)"
   ]
  },
  {
   "cell_type": "markdown",
   "metadata": {},
   "source": [
    "## Lets see the data for merchants that we have predicted as 'churned'"
   ]
  },
  {
   "cell_type": "markdown",
   "metadata": {},
   "source": [
    "### Merchant : 045a1c428b"
   ]
  },
  {
   "cell_type": "markdown",
   "metadata": {},
   "source": [
    "### RFM matrix"
   ]
  },
  {
   "cell_type": "code",
   "execution_count": 63,
   "metadata": {},
   "outputs": [
    {
     "data": {
      "text/html": [
       "<div>\n",
       "<style scoped>\n",
       "    .dataframe tbody tr th:only-of-type {\n",
       "        vertical-align: middle;\n",
       "    }\n",
       "\n",
       "    .dataframe tbody tr th {\n",
       "        vertical-align: top;\n",
       "    }\n",
       "\n",
       "    .dataframe thead th {\n",
       "        text-align: right;\n",
       "    }\n",
       "</style>\n",
       "<table border=\"1\" class=\"dataframe\">\n",
       "  <thead>\n",
       "    <tr style=\"text-align: right;\">\n",
       "      <th></th>\n",
       "      <th>frequency</th>\n",
       "      <th>recency</th>\n",
       "      <th>T</th>\n",
       "      <th>monetary_value</th>\n",
       "    </tr>\n",
       "    <tr>\n",
       "      <th>merchant</th>\n",
       "      <th></th>\n",
       "      <th></th>\n",
       "      <th></th>\n",
       "      <th></th>\n",
       "    </tr>\n",
       "  </thead>\n",
       "  <tbody>\n",
       "    <tr>\n",
       "      <th>045a1c428b</th>\n",
       "      <td>45.0</td>\n",
       "      <td>438.0</td>\n",
       "      <td>711.0</td>\n",
       "      <td>155058.222222</td>\n",
       "    </tr>\n",
       "  </tbody>\n",
       "</table>\n",
       "</div>"
      ],
      "text/plain": [
       "            frequency  recency      T  monetary_value\n",
       "merchant                                             \n",
       "045a1c428b       45.0    438.0  711.0   155058.222222"
      ]
     },
     "execution_count": 63,
     "metadata": {},
     "output_type": "execute_result"
    }
   ],
   "source": [
    "rfmdf[rfmdf.index.str.contains('045a1c428b')].head()"
   ]
  },
  {
   "cell_type": "markdown",
   "metadata": {},
   "source": [
    "### Actual Transactions - Latest 5 and first 5"
   ]
  },
  {
   "cell_type": "code",
   "execution_count": 64,
   "metadata": {},
   "outputs": [
    {
     "data": {
      "text/html": [
       "<div>\n",
       "<style scoped>\n",
       "    .dataframe tbody tr th:only-of-type {\n",
       "        vertical-align: middle;\n",
       "    }\n",
       "\n",
       "    .dataframe tbody tr th {\n",
       "        vertical-align: top;\n",
       "    }\n",
       "\n",
       "    .dataframe thead th {\n",
       "        text-align: right;\n",
       "    }\n",
       "</style>\n",
       "<table border=\"1\" class=\"dataframe\">\n",
       "  <thead>\n",
       "    <tr style=\"text-align: right;\">\n",
       "      <th></th>\n",
       "      <th>Unnamed: 0</th>\n",
       "      <th>merchant</th>\n",
       "      <th>time</th>\n",
       "      <th>amount_usd_in_cents</th>\n",
       "    </tr>\n",
       "  </thead>\n",
       "  <tbody>\n",
       "    <tr>\n",
       "      <th>489834</th>\n",
       "      <td>489835</td>\n",
       "      <td>045a1c428b</td>\n",
       "      <td>2034-04-02</td>\n",
       "      <td>26645</td>\n",
       "    </tr>\n",
       "    <tr>\n",
       "      <th>526092</th>\n",
       "      <td>526093</td>\n",
       "      <td>045a1c428b</td>\n",
       "      <td>2034-03-15</td>\n",
       "      <td>15960</td>\n",
       "    </tr>\n",
       "    <tr>\n",
       "      <th>291431</th>\n",
       "      <td>291432</td>\n",
       "      <td>045a1c428b</td>\n",
       "      <td>2034-03-01</td>\n",
       "      <td>28261</td>\n",
       "    </tr>\n",
       "    <tr>\n",
       "      <th>1363526</th>\n",
       "      <td>1363527</td>\n",
       "      <td>045a1c428b</td>\n",
       "      <td>2034-02-04</td>\n",
       "      <td>29005</td>\n",
       "    </tr>\n",
       "    <tr>\n",
       "      <th>1325682</th>\n",
       "      <td>1325683</td>\n",
       "      <td>045a1c428b</td>\n",
       "      <td>2034-02-04</td>\n",
       "      <td>26645</td>\n",
       "    </tr>\n",
       "  </tbody>\n",
       "</table>\n",
       "</div>"
      ],
      "text/plain": [
       "         Unnamed: 0    merchant        time  amount_usd_in_cents\n",
       "489834       489835  045a1c428b  2034-04-02                26645\n",
       "526092       526093  045a1c428b  2034-03-15                15960\n",
       "291431       291432  045a1c428b  2034-03-01                28261\n",
       "1363526     1363527  045a1c428b  2034-02-04                29005\n",
       "1325682     1325683  045a1c428b  2034-02-04                26645"
      ]
     },
     "execution_count": 64,
     "metadata": {},
     "output_type": "execute_result"
    },
    {
     "data": {
      "text/html": [
       "<div>\n",
       "<style scoped>\n",
       "    .dataframe tbody tr th:only-of-type {\n",
       "        vertical-align: middle;\n",
       "    }\n",
       "\n",
       "    .dataframe tbody tr th {\n",
       "        vertical-align: top;\n",
       "    }\n",
       "\n",
       "    .dataframe thead th {\n",
       "        text-align: right;\n",
       "    }\n",
       "</style>\n",
       "<table border=\"1\" class=\"dataframe\">\n",
       "  <thead>\n",
       "    <tr style=\"text-align: right;\">\n",
       "      <th></th>\n",
       "      <th>Unnamed: 0</th>\n",
       "      <th>merchant</th>\n",
       "      <th>time</th>\n",
       "      <th>amount_usd_in_cents</th>\n",
       "    </tr>\n",
       "  </thead>\n",
       "  <tbody>\n",
       "    <tr>\n",
       "      <th>1413337</th>\n",
       "      <td>1413338</td>\n",
       "      <td>045a1c428b</td>\n",
       "      <td>2033-01-19</td>\n",
       "      <td>39465</td>\n",
       "    </tr>\n",
       "    <tr>\n",
       "      <th>1410694</th>\n",
       "      <td>1410695</td>\n",
       "      <td>045a1c428b</td>\n",
       "      <td>2033-01-19</td>\n",
       "      <td>39465</td>\n",
       "    </tr>\n",
       "    <tr>\n",
       "      <th>547192</th>\n",
       "      <td>547193</td>\n",
       "      <td>045a1c428b</td>\n",
       "      <td>2033-01-19</td>\n",
       "      <td>39741</td>\n",
       "    </tr>\n",
       "    <tr>\n",
       "      <th>1033343</th>\n",
       "      <td>1033344</td>\n",
       "      <td>045a1c428b</td>\n",
       "      <td>2033-01-19</td>\n",
       "      <td>39465</td>\n",
       "    </tr>\n",
       "    <tr>\n",
       "      <th>629505</th>\n",
       "      <td>629506</td>\n",
       "      <td>045a1c428b</td>\n",
       "      <td>2033-01-19</td>\n",
       "      <td>39465</td>\n",
       "    </tr>\n",
       "  </tbody>\n",
       "</table>\n",
       "</div>"
      ],
      "text/plain": [
       "         Unnamed: 0    merchant        time  amount_usd_in_cents\n",
       "1413337     1413338  045a1c428b  2033-01-19                39465\n",
       "1410694     1410695  045a1c428b  2033-01-19                39465\n",
       "547192       547193  045a1c428b  2033-01-19                39741\n",
       "1033343     1033344  045a1c428b  2033-01-19                39465\n",
       "629505       629506  045a1c428b  2033-01-19                39465"
      ]
     },
     "execution_count": 64,
     "metadata": {},
     "output_type": "execute_result"
    }
   ],
   "source": [
    "m = transactions[transactions.merchant.str.contains('045a1c428b')]\n",
    "m.sort_values(by='time', ascending=False).head()\n",
    "m.sort_values(by='time', ascending=False).tail()"
   ]
  },
  {
   "cell_type": "markdown",
   "metadata": {},
   "source": [
    "### As we can see above, the merchant's last activity was in Apr 2034. After that no activity for the rest of 2034 This merchant has \"churned\""
   ]
  },
  {
   "cell_type": "markdown",
   "metadata": {},
   "source": [
    "## Lets verify for merchants that have *not churned*"
   ]
  },
  {
   "cell_type": "code",
   "execution_count": 65,
   "metadata": {},
   "outputs": [
    {
     "data": {
      "text/html": [
       "<div>\n",
       "<style scoped>\n",
       "    .dataframe tbody tr th:only-of-type {\n",
       "        vertical-align: middle;\n",
       "    }\n",
       "\n",
       "    .dataframe tbody tr th {\n",
       "        vertical-align: top;\n",
       "    }\n",
       "\n",
       "    .dataframe thead th {\n",
       "        text-align: right;\n",
       "    }\n",
       "</style>\n",
       "<table border=\"1\" class=\"dataframe\">\n",
       "  <thead>\n",
       "    <tr style=\"text-align: right;\">\n",
       "      <th></th>\n",
       "      <th>frequency</th>\n",
       "      <th>recency</th>\n",
       "      <th>T</th>\n",
       "      <th>monetary_value</th>\n",
       "    </tr>\n",
       "    <tr>\n",
       "      <th>merchant</th>\n",
       "      <th></th>\n",
       "      <th></th>\n",
       "      <th></th>\n",
       "      <th></th>\n",
       "    </tr>\n",
       "  </thead>\n",
       "  <tbody>\n",
       "    <tr>\n",
       "      <th>00a6d31535</th>\n",
       "      <td>210.0</td>\n",
       "      <td>658.0</td>\n",
       "      <td>659.0</td>\n",
       "      <td>28905.661905</td>\n",
       "    </tr>\n",
       "    <tr>\n",
       "      <th>039fb73850</th>\n",
       "      <td>217.0</td>\n",
       "      <td>712.0</td>\n",
       "      <td>713.0</td>\n",
       "      <td>63430.755760</td>\n",
       "    </tr>\n",
       "    <tr>\n",
       "      <th>044ebe709c</th>\n",
       "      <td>326.0</td>\n",
       "      <td>690.0</td>\n",
       "      <td>690.0</td>\n",
       "      <td>1448.346626</td>\n",
       "    </tr>\n",
       "    <tr>\n",
       "      <th>068da9961c</th>\n",
       "      <td>141.0</td>\n",
       "      <td>601.0</td>\n",
       "      <td>617.0</td>\n",
       "      <td>16402.574468</td>\n",
       "    </tr>\n",
       "    <tr>\n",
       "      <th>06e69bee48</th>\n",
       "      <td>232.0</td>\n",
       "      <td>724.0</td>\n",
       "      <td>725.0</td>\n",
       "      <td>116520.362069</td>\n",
       "    </tr>\n",
       "    <tr>\n",
       "      <th>08ee7ca022</th>\n",
       "      <td>336.0</td>\n",
       "      <td>711.0</td>\n",
       "      <td>711.0</td>\n",
       "      <td>32204.211310</td>\n",
       "    </tr>\n",
       "    <tr>\n",
       "      <th>09a5e17225</th>\n",
       "      <td>241.0</td>\n",
       "      <td>613.0</td>\n",
       "      <td>614.0</td>\n",
       "      <td>24145.643154</td>\n",
       "    </tr>\n",
       "    <tr>\n",
       "      <th>0b3b179a82</th>\n",
       "      <td>126.0</td>\n",
       "      <td>616.0</td>\n",
       "      <td>647.0</td>\n",
       "      <td>159526.817460</td>\n",
       "    </tr>\n",
       "    <tr>\n",
       "      <th>0b4ce03036</th>\n",
       "      <td>238.0</td>\n",
       "      <td>624.0</td>\n",
       "      <td>625.0</td>\n",
       "      <td>7148.907563</td>\n",
       "    </tr>\n",
       "    <tr>\n",
       "      <th>0b88f468ca</th>\n",
       "      <td>455.0</td>\n",
       "      <td>668.0</td>\n",
       "      <td>669.0</td>\n",
       "      <td>21776.989011</td>\n",
       "    </tr>\n",
       "  </tbody>\n",
       "</table>\n",
       "</div>"
      ],
      "text/plain": [
       "            frequency  recency      T  monetary_value\n",
       "merchant                                             \n",
       "00a6d31535      210.0    658.0  659.0    28905.661905\n",
       "039fb73850      217.0    712.0  713.0    63430.755760\n",
       "044ebe709c      326.0    690.0  690.0     1448.346626\n",
       "068da9961c      141.0    601.0  617.0    16402.574468\n",
       "06e69bee48      232.0    724.0  725.0   116520.362069\n",
       "08ee7ca022      336.0    711.0  711.0    32204.211310\n",
       "09a5e17225      241.0    613.0  614.0    24145.643154\n",
       "0b3b179a82      126.0    616.0  647.0   159526.817460\n",
       "0b4ce03036      238.0    624.0  625.0     7148.907563\n",
       "0b88f468ca      455.0    668.0  669.0    21776.989011"
      ]
     },
     "execution_count": 65,
     "metadata": {},
     "output_type": "execute_result"
    }
   ],
   "source": [
    "rfmdf[(rfmdf[\"recency\"] > 600) & (rfmdf[\"frequency\"] > 100)].head(10)"
   ]
  },
  {
   "cell_type": "markdown",
   "metadata": {},
   "source": [
    "### Lets see the data for merchant '00a6d31535'"
   ]
  },
  {
   "cell_type": "markdown",
   "metadata": {},
   "source": [
    "### RFM"
   ]
  },
  {
   "cell_type": "code",
   "execution_count": 66,
   "metadata": {},
   "outputs": [
    {
     "data": {
      "text/html": [
       "<div>\n",
       "<style scoped>\n",
       "    .dataframe tbody tr th:only-of-type {\n",
       "        vertical-align: middle;\n",
       "    }\n",
       "\n",
       "    .dataframe tbody tr th {\n",
       "        vertical-align: top;\n",
       "    }\n",
       "\n",
       "    .dataframe thead th {\n",
       "        text-align: right;\n",
       "    }\n",
       "</style>\n",
       "<table border=\"1\" class=\"dataframe\">\n",
       "  <thead>\n",
       "    <tr style=\"text-align: right;\">\n",
       "      <th></th>\n",
       "      <th>frequency</th>\n",
       "      <th>recency</th>\n",
       "      <th>T</th>\n",
       "      <th>monetary_value</th>\n",
       "    </tr>\n",
       "    <tr>\n",
       "      <th>merchant</th>\n",
       "      <th></th>\n",
       "      <th></th>\n",
       "      <th></th>\n",
       "      <th></th>\n",
       "    </tr>\n",
       "  </thead>\n",
       "  <tbody>\n",
       "    <tr>\n",
       "      <th>00a6d31535</th>\n",
       "      <td>210.0</td>\n",
       "      <td>658.0</td>\n",
       "      <td>659.0</td>\n",
       "      <td>28905.661905</td>\n",
       "    </tr>\n",
       "  </tbody>\n",
       "</table>\n",
       "</div>"
      ],
      "text/plain": [
       "            frequency  recency      T  monetary_value\n",
       "merchant                                             \n",
       "00a6d31535      210.0    658.0  659.0    28905.661905"
      ]
     },
     "execution_count": 66,
     "metadata": {},
     "output_type": "execute_result"
    }
   ],
   "source": [
    "rfmdf[rfmdf.index.str.contains('00a6d31535')].head()"
   ]
  },
  {
   "cell_type": "markdown",
   "metadata": {},
   "source": [
    "### Actual Transactions -- Latest 5 and first 5"
   ]
  },
  {
   "cell_type": "code",
   "execution_count": 67,
   "metadata": {},
   "outputs": [
    {
     "data": {
      "text/html": [
       "<div>\n",
       "<style scoped>\n",
       "    .dataframe tbody tr th:only-of-type {\n",
       "        vertical-align: middle;\n",
       "    }\n",
       "\n",
       "    .dataframe tbody tr th {\n",
       "        vertical-align: top;\n",
       "    }\n",
       "\n",
       "    .dataframe thead th {\n",
       "        text-align: right;\n",
       "    }\n",
       "</style>\n",
       "<table border=\"1\" class=\"dataframe\">\n",
       "  <thead>\n",
       "    <tr style=\"text-align: right;\">\n",
       "      <th></th>\n",
       "      <th>Unnamed: 0</th>\n",
       "      <th>merchant</th>\n",
       "      <th>time</th>\n",
       "      <th>amount_usd_in_cents</th>\n",
       "    </tr>\n",
       "  </thead>\n",
       "  <tbody>\n",
       "    <tr>\n",
       "      <th>1092200</th>\n",
       "      <td>1092201</td>\n",
       "      <td>00a6d31535</td>\n",
       "      <td>2034-12-30</td>\n",
       "      <td>9105</td>\n",
       "    </tr>\n",
       "    <tr>\n",
       "      <th>1074021</th>\n",
       "      <td>1074022</td>\n",
       "      <td>00a6d31535</td>\n",
       "      <td>2034-12-30</td>\n",
       "      <td>3753</td>\n",
       "    </tr>\n",
       "    <tr>\n",
       "      <th>871312</th>\n",
       "      <td>871313</td>\n",
       "      <td>00a6d31535</td>\n",
       "      <td>2034-12-28</td>\n",
       "      <td>8361</td>\n",
       "    </tr>\n",
       "    <tr>\n",
       "      <th>795428</th>\n",
       "      <td>795429</td>\n",
       "      <td>00a6d31535</td>\n",
       "      <td>2034-12-21</td>\n",
       "      <td>46963</td>\n",
       "    </tr>\n",
       "    <tr>\n",
       "      <th>133970</th>\n",
       "      <td>133971</td>\n",
       "      <td>00a6d31535</td>\n",
       "      <td>2034-12-21</td>\n",
       "      <td>43828</td>\n",
       "    </tr>\n",
       "  </tbody>\n",
       "</table>\n",
       "</div>"
      ],
      "text/plain": [
       "         Unnamed: 0    merchant        time  amount_usd_in_cents\n",
       "1092200     1092201  00a6d31535  2034-12-30                 9105\n",
       "1074021     1074022  00a6d31535  2034-12-30                 3753\n",
       "871312       871313  00a6d31535  2034-12-28                 8361\n",
       "795428       795429  00a6d31535  2034-12-21                46963\n",
       "133970       133971  00a6d31535  2034-12-21                43828"
      ]
     },
     "execution_count": 67,
     "metadata": {},
     "output_type": "execute_result"
    },
    {
     "data": {
      "text/html": [
       "<div>\n",
       "<style scoped>\n",
       "    .dataframe tbody tr th:only-of-type {\n",
       "        vertical-align: middle;\n",
       "    }\n",
       "\n",
       "    .dataframe tbody tr th {\n",
       "        vertical-align: top;\n",
       "    }\n",
       "\n",
       "    .dataframe thead th {\n",
       "        text-align: right;\n",
       "    }\n",
       "</style>\n",
       "<table border=\"1\" class=\"dataframe\">\n",
       "  <thead>\n",
       "    <tr style=\"text-align: right;\">\n",
       "      <th></th>\n",
       "      <th>Unnamed: 0</th>\n",
       "      <th>merchant</th>\n",
       "      <th>time</th>\n",
       "      <th>amount_usd_in_cents</th>\n",
       "    </tr>\n",
       "  </thead>\n",
       "  <tbody>\n",
       "    <tr>\n",
       "      <th>1061642</th>\n",
       "      <td>1061643</td>\n",
       "      <td>00a6d31535</td>\n",
       "      <td>2033-03-12</td>\n",
       "      <td>30435</td>\n",
       "    </tr>\n",
       "    <tr>\n",
       "      <th>563187</th>\n",
       "      <td>563188</td>\n",
       "      <td>00a6d31535</td>\n",
       "      <td>2033-03-12</td>\n",
       "      <td>33760</td>\n",
       "    </tr>\n",
       "    <tr>\n",
       "      <th>431396</th>\n",
       "      <td>431397</td>\n",
       "      <td>00a6d31535</td>\n",
       "      <td>2033-03-12</td>\n",
       "      <td>7819</td>\n",
       "    </tr>\n",
       "    <tr>\n",
       "      <th>759244</th>\n",
       "      <td>759245</td>\n",
       "      <td>00a6d31535</td>\n",
       "      <td>2033-03-12</td>\n",
       "      <td>60144</td>\n",
       "    </tr>\n",
       "    <tr>\n",
       "      <th>277456</th>\n",
       "      <td>277457</td>\n",
       "      <td>00a6d31535</td>\n",
       "      <td>2033-03-12</td>\n",
       "      <td>25486</td>\n",
       "    </tr>\n",
       "  </tbody>\n",
       "</table>\n",
       "</div>"
      ],
      "text/plain": [
       "         Unnamed: 0    merchant        time  amount_usd_in_cents\n",
       "1061642     1061643  00a6d31535  2033-03-12                30435\n",
       "563187       563188  00a6d31535  2033-03-12                33760\n",
       "431396       431397  00a6d31535  2033-03-12                 7819\n",
       "759244       759245  00a6d31535  2033-03-12                60144\n",
       "277456       277457  00a6d31535  2033-03-12                25486"
      ]
     },
     "execution_count": 67,
     "metadata": {},
     "output_type": "execute_result"
    }
   ],
   "source": [
    "m = transactions[transactions.merchant.str.contains('00a6d31535')]\n",
    "m.sort_values(by='time', ascending=False).head()\n",
    "m.sort_values(by='time', ascending=False).tail()"
   ]
  },
  {
   "cell_type": "markdown",
   "metadata": {},
   "source": [
    "### As we can see here, the merchant started transacting in march 2033, and latest transaction was in december 2034. So this merchant has definitely not churned"
   ]
  },
  {
   "cell_type": "markdown",
   "metadata": {},
   "source": [
    "## C) build a model to predict which active merchants are most likely to churn in the near future\n"
   ]
  },
  {
   "cell_type": "markdown",
   "metadata": {},
   "source": [
    "### For this I will use plot_probability_alive_matrix , which gives the probability a customer is alive based on their frequency and recency."
   ]
  },
  {
   "cell_type": "code",
   "execution_count": 68,
   "metadata": {},
   "outputs": [
    {
     "data": {
      "image/png": "[encoded data removed]",
      "text/plain": [
       "<Figure size 432x288 with 2 Axes>"
      ]
     },
     "metadata": {
      "needs_background": "light"
     },
     "output_type": "display_data"
    }
   ],
   "source": [
    "plot_probability_alive_matrix(bgf);"
   ]
  },
  {
   "cell_type": "markdown",
   "metadata": {},
   "source": [
    "### The sweet spot for merchants that are highly probable to make another transaction with stripe (shown in the above plot are merchants whose probability is >0.6 "
   ]
  },
  {
   "cell_type": "markdown",
   "metadata": {},
   "source": [
    "### To predict active merchants are most likely to churn in the near future, I will take a subset of those merchants whose frequency and recency values fit into the plot above with probability <0.6"
   ]
  },
  {
   "cell_type": "markdown",
   "metadata": {},
   "source": [
    "## Limitations of this study\n",
    "### 1. The BG/NBD model used here assumes a 0% churn probability for the merchant who hasn't had a repeat transaction.\n",
    "###   Therefore, we need to exclude those merchants from this study who have had only 1 transaction till date"
   ]
  }
 ],
 "metadata": {
  "kernelspec": {
   "display_name": "Python 3",
   "language": "python",
   "name": "python3"
  },
  "language_info": {
   "codemirror_mode": {
    "name": "ipython",
    "version": 3
   },
   "file_extension": ".py",
   "mimetype": "text/x-python",
   "name": "python",
   "nbconvert_exporter": "python",
   "pygments_lexer": "ipython3",
   "version": "3.8.8"
  }
 },
 "nbformat": 4,
 "nbformat_minor": 4
}
